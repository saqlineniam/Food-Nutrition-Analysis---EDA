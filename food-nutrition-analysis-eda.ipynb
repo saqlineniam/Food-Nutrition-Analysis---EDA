{
 "cells": [
  {
   "cell_type": "markdown",
   "metadata": {},
   "source": [
    "# Data Cleaning"
   ]
  },
  {
   "cell_type": "code",
   "execution_count": 1,
   "metadata": {
    "_kg_hide-input": true,
    "trusted": true
   },
   "outputs": [],
   "source": [
    "import pandas as pd\n",
    "import numpy as np \n",
    "import plotly.express as px\n",
    "import seaborn as sns\n",
    "import plotly.offline as py\n",
    "import plotly.graph_objects as go"
   ]
  },
  {
   "cell_type": "code",
   "execution_count": 2,
   "metadata": {
    "_cell_guid": "79c7e3d0-c299-4dcb-8224-4455121ee9b0",
    "_uuid": "d629ff2d2480ee46fbb7e2d37f6b5fab8052498a",
    "trusted": true
   },
   "outputs": [
    {
     "data": {
      "text/html": [
       "<div>\n",
       "<style scoped>\n",
       "    .dataframe tbody tr th:only-of-type {\n",
       "        vertical-align: middle;\n",
       "    }\n",
       "\n",
       "    .dataframe tbody tr th {\n",
       "        vertical-align: top;\n",
       "    }\n",
       "\n",
       "    .dataframe thead th {\n",
       "        text-align: right;\n",
       "    }\n",
       "</style>\n",
       "<table border=\"1\" class=\"dataframe\">\n",
       "  <thead>\n",
       "    <tr style=\"text-align: right;\">\n",
       "      <th></th>\n",
       "      <th>Food</th>\n",
       "      <th>Measure</th>\n",
       "      <th>Grams</th>\n",
       "      <th>Calories</th>\n",
       "      <th>Protein</th>\n",
       "      <th>Fat</th>\n",
       "      <th>Sat.Fat</th>\n",
       "      <th>Fiber</th>\n",
       "      <th>Carbs</th>\n",
       "      <th>Category</th>\n",
       "    </tr>\n",
       "  </thead>\n",
       "  <tbody>\n",
       "    <tr>\n",
       "      <th>0</th>\n",
       "      <td>Cows' milk</td>\n",
       "      <td>1 qt.</td>\n",
       "      <td>976</td>\n",
       "      <td>660</td>\n",
       "      <td>32</td>\n",
       "      <td>40</td>\n",
       "      <td>36</td>\n",
       "      <td>0</td>\n",
       "      <td>48</td>\n",
       "      <td>Dairy products</td>\n",
       "    </tr>\n",
       "    <tr>\n",
       "      <th>1</th>\n",
       "      <td>Milk skim</td>\n",
       "      <td>1 qt.</td>\n",
       "      <td>984</td>\n",
       "      <td>360</td>\n",
       "      <td>36</td>\n",
       "      <td>t</td>\n",
       "      <td>t</td>\n",
       "      <td>0</td>\n",
       "      <td>52</td>\n",
       "      <td>Dairy products</td>\n",
       "    </tr>\n",
       "    <tr>\n",
       "      <th>2</th>\n",
       "      <td>Buttermilk</td>\n",
       "      <td>1 cup</td>\n",
       "      <td>246</td>\n",
       "      <td>127</td>\n",
       "      <td>9</td>\n",
       "      <td>5</td>\n",
       "      <td>4</td>\n",
       "      <td>0</td>\n",
       "      <td>13</td>\n",
       "      <td>Dairy products</td>\n",
       "    </tr>\n",
       "    <tr>\n",
       "      <th>3</th>\n",
       "      <td>Evaporated, undiluted</td>\n",
       "      <td>1 cup</td>\n",
       "      <td>252</td>\n",
       "      <td>345</td>\n",
       "      <td>16</td>\n",
       "      <td>20</td>\n",
       "      <td>18</td>\n",
       "      <td>0</td>\n",
       "      <td>24</td>\n",
       "      <td>Dairy products</td>\n",
       "    </tr>\n",
       "    <tr>\n",
       "      <th>4</th>\n",
       "      <td>Fortified milk</td>\n",
       "      <td>6 cups</td>\n",
       "      <td>1,419</td>\n",
       "      <td>1,373</td>\n",
       "      <td>89</td>\n",
       "      <td>42</td>\n",
       "      <td>23</td>\n",
       "      <td>1.4</td>\n",
       "      <td>119</td>\n",
       "      <td>Dairy products</td>\n",
       "    </tr>\n",
       "  </tbody>\n",
       "</table>\n",
       "</div>"
      ],
      "text/plain": [
       "                    Food Measure  Grams Calories Protein Fat Sat.Fat Fiber  \\\n",
       "0             Cows' milk   1 qt.    976      660      32  40      36     0   \n",
       "1              Milk skim   1 qt.    984      360      36   t       t     0   \n",
       "2             Buttermilk   1 cup    246      127       9   5       4     0   \n",
       "3  Evaporated, undiluted   1 cup    252      345      16  20      18     0   \n",
       "4         Fortified milk  6 cups  1,419    1,373      89  42      23   1.4   \n",
       "\n",
       "  Carbs        Category  \n",
       "0    48  Dairy products  \n",
       "1    52  Dairy products  \n",
       "2    13  Dairy products  \n",
       "3    24  Dairy products  \n",
       "4   119  Dairy products  "
      ]
     },
     "execution_count": 2,
     "metadata": {},
     "output_type": "execute_result"
    }
   ],
   "source": [
    "nutrients=pd.read_csv(r\"D:\\Food Nutrition Analysis + EDA\\nutrients_csvfile.csv\")\n",
    "nutrients.head()"
   ]
  },
  {
   "cell_type": "code",
   "execution_count": 3,
   "metadata": {
    "trusted": true
   },
   "outputs": [
    {
     "data": {
      "text/html": [
       "<div>\n",
       "<style scoped>\n",
       "    .dataframe tbody tr th:only-of-type {\n",
       "        vertical-align: middle;\n",
       "    }\n",
       "\n",
       "    .dataframe tbody tr th {\n",
       "        vertical-align: top;\n",
       "    }\n",
       "\n",
       "    .dataframe thead th {\n",
       "        text-align: right;\n",
       "    }\n",
       "</style>\n",
       "<table border=\"1\" class=\"dataframe\">\n",
       "  <thead>\n",
       "    <tr style=\"text-align: right;\">\n",
       "      <th></th>\n",
       "      <th>Food</th>\n",
       "      <th>Measure</th>\n",
       "      <th>Grams</th>\n",
       "      <th>Calories</th>\n",
       "      <th>Protein</th>\n",
       "      <th>Fat</th>\n",
       "      <th>Sat.Fat</th>\n",
       "      <th>Fiber</th>\n",
       "      <th>Carbs</th>\n",
       "      <th>Category</th>\n",
       "    </tr>\n",
       "  </thead>\n",
       "  <tbody>\n",
       "    <tr>\n",
       "      <th>0</th>\n",
       "      <td>Cows' milk</td>\n",
       "      <td>1 qt.</td>\n",
       "      <td>976</td>\n",
       "      <td>660</td>\n",
       "      <td>32</td>\n",
       "      <td>40</td>\n",
       "      <td>36</td>\n",
       "      <td>0</td>\n",
       "      <td>48</td>\n",
       "      <td>Dairy products</td>\n",
       "    </tr>\n",
       "    <tr>\n",
       "      <th>1</th>\n",
       "      <td>Milk skim</td>\n",
       "      <td>1 qt.</td>\n",
       "      <td>984</td>\n",
       "      <td>360</td>\n",
       "      <td>36</td>\n",
       "      <td>0</td>\n",
       "      <td>0</td>\n",
       "      <td>0</td>\n",
       "      <td>52</td>\n",
       "      <td>Dairy products</td>\n",
       "    </tr>\n",
       "    <tr>\n",
       "      <th>2</th>\n",
       "      <td>Buttermilk</td>\n",
       "      <td>1 cup</td>\n",
       "      <td>246</td>\n",
       "      <td>127</td>\n",
       "      <td>9</td>\n",
       "      <td>5</td>\n",
       "      <td>4</td>\n",
       "      <td>0</td>\n",
       "      <td>13</td>\n",
       "      <td>Dairy products</td>\n",
       "    </tr>\n",
       "    <tr>\n",
       "      <th>3</th>\n",
       "      <td>Evaporated, undiluted</td>\n",
       "      <td>1 cup</td>\n",
       "      <td>252</td>\n",
       "      <td>345</td>\n",
       "      <td>16</td>\n",
       "      <td>20</td>\n",
       "      <td>18</td>\n",
       "      <td>0</td>\n",
       "      <td>24</td>\n",
       "      <td>Dairy products</td>\n",
       "    </tr>\n",
       "    <tr>\n",
       "      <th>4</th>\n",
       "      <td>Fortified milk</td>\n",
       "      <td>6 cups</td>\n",
       "      <td>1,419</td>\n",
       "      <td>1,373</td>\n",
       "      <td>89</td>\n",
       "      <td>42</td>\n",
       "      <td>23</td>\n",
       "      <td>1.4</td>\n",
       "      <td>119</td>\n",
       "      <td>Dairy products</td>\n",
       "    </tr>\n",
       "  </tbody>\n",
       "</table>\n",
       "</div>"
      ],
      "text/plain": [
       "                    Food Measure  Grams Calories Protein Fat Sat.Fat Fiber  \\\n",
       "0             Cows' milk   1 qt.    976      660      32  40      36     0   \n",
       "1              Milk skim   1 qt.    984      360      36   0       0     0   \n",
       "2             Buttermilk   1 cup    246      127       9   5       4     0   \n",
       "3  Evaporated, undiluted   1 cup    252      345      16  20      18     0   \n",
       "4         Fortified milk  6 cups  1,419    1,373      89  42      23   1.4   \n",
       "\n",
       "  Carbs        Category  \n",
       "0    48  Dairy products  \n",
       "1    52  Dairy products  \n",
       "2    13  Dairy products  \n",
       "3    24  Dairy products  \n",
       "4   119  Dairy products  "
      ]
     },
     "execution_count": 3,
     "metadata": {},
     "output_type": "execute_result"
    }
   ],
   "source": [
    "nutrients=nutrients.replace(\"t\",0)\n",
    "nutrients=nutrients.replace(\"t'\",0)\n",
    "\n",
    "nutrients.head()"
   ]
  },
  {
   "cell_type": "code",
   "execution_count": 4,
   "metadata": {
    "trusted": true
   },
   "outputs": [
    {
     "name": "stderr",
     "output_type": "stream",
     "text": [
      "C:\\Users\\saqli\\AppData\\Local\\Temp\\ipykernel_4972\\2694828129.py:3: FutureWarning:\n",
      "\n",
      "ChainedAssignmentError: behaviour will change in pandas 3.0!\n",
      "You are setting values through chained assignment. Currently this works in certain cases, but when using Copy-on-Write (which will become the default behaviour in pandas 3.0) this will never work to update the original DataFrame or Series, because the intermediate object on which we are setting values will behave as a copy.\n",
      "A typical example is when you are setting values in a column of a DataFrame, like:\n",
      "\n",
      "df[\"col\"][row_indexer] = value\n",
      "\n",
      "Use `df.loc[row_indexer, \"col\"] = values` instead, to perform the assignment in a single step and ensure this keeps updating the original `df`.\n",
      "\n",
      "See the caveats in the documentation: https://pandas.pydata.org/pandas-docs/stable/user_guide/indexing.html#returning-a-view-versus-a-copy\n",
      "\n",
      "\n"
     ]
    }
   ],
   "source": [
    "nutrients=nutrients.replace(\",\",\"\", regex=True)\n",
    "nutrients['Fiber']=nutrients['Fiber'].replace(\"a\",\"\", regex=True)\n",
    "nutrients['Calories'][91]=(8+44)/2"
   ]
  },
  {
   "cell_type": "markdown",
   "metadata": {},
   "source": [
    "Now, let us convert grams, calories, protein, fat, saturated fat, fiber and carbs datatypes to int."
   ]
  },
  {
   "cell_type": "code",
   "execution_count": 5,
   "metadata": {
    "trusted": true
   },
   "outputs": [],
   "source": [
    "nutrients['Grams']=pd.to_numeric(nutrients['Grams'])\n",
    "nutrients['Calories']=pd.to_numeric(nutrients['Calories'])\n",
    "nutrients['Protein']=pd.to_numeric(nutrients['Protein'])\n",
    "nutrients['Fat']=pd.to_numeric(nutrients['Fat'])\n",
    "nutrients['Sat.Fat']=pd.to_numeric(nutrients['Sat.Fat'])\n",
    "nutrients['Fiber']=pd.to_numeric(nutrients['Fiber'])\n",
    "nutrients['Carbs']=pd.to_numeric(nutrients['Carbs'])"
   ]
  },
  {
   "cell_type": "code",
   "execution_count": 6,
   "metadata": {
    "trusted": true
   },
   "outputs": [
    {
     "data": {
      "text/plain": [
       "Food         object\n",
       "Measure      object\n",
       "Grams         int64\n",
       "Calories    float64\n",
       "Protein       int64\n",
       "Fat           int64\n",
       "Sat.Fat     float64\n",
       "Fiber       float64\n",
       "Carbs       float64\n",
       "Category     object\n",
       "dtype: object"
      ]
     },
     "execution_count": 6,
     "metadata": {},
     "output_type": "execute_result"
    }
   ],
   "source": [
    "nutrients.dtypes"
   ]
  },
  {
   "cell_type": "code",
   "execution_count": 7,
   "metadata": {
    "trusted": true
   },
   "outputs": [
    {
     "name": "stdout",
     "output_type": "stream",
     "text": [
      "Food        False\n",
      "Measure     False\n",
      "Grams       False\n",
      "Calories     True\n",
      "Protein     False\n",
      "Fat         False\n",
      "Sat.Fat      True\n",
      "Fiber        True\n",
      "Carbs       False\n",
      "Category    False\n",
      "dtype: bool\n",
      "-----------------------------------------------------------------------------------------------------------------------------------------------------------------------------------------------------------------------------------------------------\n",
      "             Grams     Calories     Protein         Fat     Sat.Fat  \\\n",
      "count   335.000000   334.000000  335.000000  335.000000  333.000000   \n",
      "mean    143.211940   188.802395    8.573134    8.540299    6.438438   \n",
      "std     138.668626   184.453018   17.733722   19.797871   18.517656   \n",
      "min      11.000000     0.000000   -1.000000    0.000000    0.000000   \n",
      "25%      60.000000    75.000000    1.000000    0.000000    0.000000   \n",
      "50%     108.000000   131.000000    3.000000    1.000000    0.000000   \n",
      "75%     200.000000   250.000000   12.000000   10.000000    8.000000   \n",
      "max    1419.000000  1373.000000  232.000000  233.000000  234.000000   \n",
      "\n",
      "            Fiber       Carbs  \n",
      "count  334.000000  335.000000  \n",
      "mean     2.376078   24.982388  \n",
      "std     16.078272   35.833106  \n",
      "min      0.000000    0.000000  \n",
      "25%      0.000000    3.000000  \n",
      "50%      0.200000   14.000000  \n",
      "75%      1.000000   30.500000  \n",
      "max    235.000000  236.000000  \n",
      "-----------------------------------------------------------------------------------------------------------------------------------------------------------------------------------------------------------------------------------------------------\n"
     ]
    }
   ],
   "source": [
    "print(nutrients.isnull().any())\n",
    "print('-'*245)\n",
    "print(nutrients.describe())\n",
    "print('-'*245)"
   ]
  },
  {
   "cell_type": "code",
   "execution_count": 8,
   "metadata": {
    "trusted": true
   },
   "outputs": [
    {
     "data": {
      "text/plain": [
       "(331, 10)"
      ]
     },
     "execution_count": 8,
     "metadata": {},
     "output_type": "execute_result"
    }
   ],
   "source": [
    "nutrients=nutrients.dropna()\n",
    "nutrients.shape"
   ]
  },
  {
   "cell_type": "markdown",
   "metadata": {},
   "source": [
    "# Data Visualization and Analysis"
   ]
  },
  {
   "cell_type": "code",
   "execution_count": 10,
   "metadata": {
    "_kg_hide-input": true,
    "trusted": true
   },
   "outputs": [
    {
     "name": "stderr",
     "output_type": "stream",
     "text": [
      "C:\\Users\\saqli\\AppData\\Local\\Temp\\ipykernel_4972\\2006306725.py:11: FutureWarning:\n",
      "\n",
      "\n",
      "\n",
      "`shade` is now deprecated in favor of `fill`; setting `fill=True`.\n",
      "This will become an error in seaborn v0.14.0; please update your code.\n",
      "\n",
      "\n"
     ]
    },
    {
     "data": {
      "image/png": "[encoded data removed]",
      "text/plain": [
       "<Figure size 1000x1000 with 6 Axes>"
      ]
     },
     "metadata": {},
     "output_type": "display_data"
    }
   ],
   "source": [
    "# Plotting the KDEplots\n",
    "\n",
    "import matplotlib.pyplot as plt\n",
    "\n",
    "\n",
    "f, axes = plt.subplots(2, 3, figsize=(10, 10), sharex=True, sharey=True)\n",
    "\n",
    "s = np.linspace(0, 3, 10)\n",
    "cmap = sns.cubehelix_palette(start=0.0, light=1, as_cmap=True)\n",
    "\n",
    "sns.kdeplot(x=nutrients['Carbs'], y=nutrients['Protein'], cmap=cmap, shade=True, ax=axes[0,0])\n",
    "axes[0,0].set(xlim=(-10, 50), ylim=(-30, 70), title = 'Carbs and Protein')\n",
    "\n",
    "cmap = sns.cubehelix_palette(start=0.25, light=1, as_cmap=True)\n",
    "\n",
    "sns.kdeplot(x=nutrients['Fat'], y=nutrients['Carbs'], ax=axes[0,1])\n",
    "axes[0,1].set(xlim=(-10, 50), ylim=(-30, 70), title = 'Carbs and Fat')\n",
    "\n",
    "cmap = sns.cubehelix_palette(start=0.33, light=1, as_cmap=True)\n",
    "\n",
    "sns.kdeplot(x=nutrients['Carbs'], y=nutrients['Fiber'], ax=axes[0,2])\n",
    "axes[0,2].set(xlim=(-10, 50), ylim=(-30, 70), title = 'Carbs and Fat')\n",
    "\n",
    "cmap = sns.cubehelix_palette(start=0.45, light=1, as_cmap=True)\n",
    "\n",
    "sns.kdeplot(x=nutrients['Fiber'], y=nutrients['Fat'], ax=axes[1,0])\n",
    "axes[1,0].set(xlim=(-10, 50), ylim=(-30, 70), title = 'Fiber and Fat')\n",
    "\n",
    "cmap = sns.cubehelix_palette(start=0.56, light=1, as_cmap=True)\n",
    "\n",
    "sns.kdeplot(x=nutrients['Fat'], y=nutrients['Sat.Fat'], ax=axes[1,1])\n",
    "axes[1,1].set(xlim=(-10, 50), ylim=(-30, 70), title = 'Sat. Fat and Fat')\n",
    "\n",
    "cmap = sns.cubehelix_palette(start=0.68, light=1, as_cmap=True)\n",
    "\n",
    "sns.kdeplot(x=nutrients['Carbs'], y=nutrients['Calories'], ax=axes[1,2])\n",
    "axes[1,2].set(xlim=(-10, 100), ylim=(-30, 70), title = 'Calories and Carbs')\n",
    "\n",
    "f.tight_layout()\n"
   ]
  },
  {
   "cell_type": "markdown",
   "metadata": {},
   "source": [
    "## Let's dive into individual metrics"
   ]
  },
  {
   "cell_type": "markdown",
   "metadata": {},
   "source": [
    "What is the most protein rich food in the category of vegetables and grains?"
   ]
  },
  {
   "cell_type": "code",
   "execution_count": 11,
   "metadata": {
    "trusted": true
   },
   "outputs": [
    {
     "data": {
      "application/vnd.plotly.v1+json": {
       "config": {
        "plotlyServerURL": "https://plot.ly"
       },
       "data": [
        {
         "alignmentgroup": "True",
         "hovertemplate": "Food=%{x}<br>Protein=%{marker.color}<extra></extra>",
         "legendgroup": "",
         "marker": {
          "color": [
           48,
           39,
           39,
           22,
           20,
           19,
           18,
           17,
           16,
           15,
           15,
           15,
           14,
           14,
           13,
           13,
           13,
           13,
           13,
           13
          ],
          "coloraxis": "coloraxis",
          "pattern": {
           "shape": ""
          }
         },
         "name": "",
         "offsetgroup": "",
         "orientation": "v",
         "showlegend": false,
         "textposition": "auto",
         "type": "bar",
         "x": [
          "Whole-wheat",
          "White 20 slices or",
          "Flour",
          "Soybeans",
          "Wheat-germ cereal toasted",
          "Peppers with beef and crumbs",
          "Baked with cheese",
          "Wheat germ",
          "Lima dry cooked",
          "Lentils",
          "Red kidney",
          "Rice",
          "White",
          "Converted",
          "Spaghetti with meat sauce",
          "Almonds",
          "roasted and salted",
          "Peanut butter natural",
          "Peanuts",
          "Wheat (whole)"
         ],
         "xaxis": "x",
         "y": [
          48,
          39,
          39,
          22,
          20,
          19,
          18,
          17,
          16,
          15,
          15,
          15,
          14,
          14,
          13,
          13,
          13,
          13,
          13,
          13
         ],
         "yaxis": "y"
        }
       ],
       "layout": {
        "barmode": "relative",
        "coloraxis": {
         "colorbar": {
          "title": {
           "text": "Protein"
          }
         },
         "colorscale": [
          [
           0,
           "#0d0887"
          ],
          [
           0.1111111111111111,
           "#46039f"
          ],
          [
           0.2222222222222222,
           "#7201a8"
          ],
          [
           0.3333333333333333,
           "#9c179e"
          ],
          [
           0.4444444444444444,
           "#bd3786"
          ],
          [
           0.5555555555555556,
           "#d8576b"
          ],
          [
           0.6666666666666666,
           "#ed7953"
          ],
          [
           0.7777777777777778,
           "#fb9f3a"
          ],
          [
           0.8888888888888888,
           "#fdca26"
          ],
          [
           1,
           "#f0f921"
          ]
         ]
        },
        "legend": {
         "tracegroupgap": 0
        },
        "template": {
         "data": {
          "bar": [
           {
            "error_x": {
             "color": "#2a3f5f"
            },
            "error_y": {
             "color": "#2a3f5f"
            },
            "marker": {
             "line": {
              "color": "#E5ECF6",
              "width": 0.5
             },
             "pattern": {
              "fillmode": "overlay",
              "size": 10,
              "solidity": 0.2
             }
            },
            "type": "bar"
           }
          ],
          "barpolar": [
           {
            "marker": {
             "line": {
              "color": "#E5ECF6",
              "width": 0.5
             },
             "pattern": {
              "fillmode": "overlay",
              "size": 10,
              "solidity": 0.2
             }
            },
            "type": "barpolar"
           }
          ],
          "carpet": [
           {
            "aaxis": {
             "endlinecolor": "#2a3f5f",
             "gridcolor": "white",
             "linecolor": "white",
             "minorgridcolor": "white",
             "startlinecolor": "#2a3f5f"
            },
            "baxis": {
             "endlinecolor": "#2a3f5f",
             "gridcolor": "white",
             "linecolor": "white",
             "minorgridcolor": "white",
             "startlinecolor": "#2a3f5f"
            },
            "type": "carpet"
           }
          ],
          "choropleth": [
           {
            "colorbar": {
             "outlinewidth": 0,
             "ticks": ""
            },
            "type": "choropleth"
           }
          ],
          "contour": [
           {
            "colorbar": {
             "outlinewidth": 0,
             "ticks": ""
            },
            "colorscale": [
             [
              0,
              "#0d0887"
             ],
             [
              0.1111111111111111,
              "#46039f"
             ],
             [
              0.2222222222222222,
              "#7201a8"
             ],
             [
              0.3333333333333333,
              "#9c179e"
             ],
             [
              0.4444444444444444,
              "#bd3786"
             ],
             [
              0.5555555555555556,
              "#d8576b"
             ],
             [
              0.6666666666666666,
              "#ed7953"
             ],
             [
              0.7777777777777778,
              "#fb9f3a"
             ],
             [
              0.8888888888888888,
              "#fdca26"
             ],
             [
              1,
              "#f0f921"
             ]
            ],
            "type": "contour"
           }
          ],
          "contourcarpet": [
           {
            "colorbar": {
             "outlinewidth": 0,
             "ticks": ""
            },
            "type": "contourcarpet"
           }
          ],
          "heatmap": [
           {
            "colorbar": {
             "outlinewidth": 0,
             "ticks": ""
            },
            "colorscale": [
             [
              0,
              "#0d0887"
             ],
             [
              0.1111111111111111,
              "#46039f"
             ],
             [
              0.2222222222222222,
              "#7201a8"
             ],
             [
              0.3333333333333333,
              "#9c179e"
             ],
             [
              0.4444444444444444,
              "#bd3786"
             ],
             [
              0.5555555555555556,
              "#d8576b"
             ],
             [
              0.6666666666666666,
              "#ed7953"
             ],
             [
              0.7777777777777778,
              "#fb9f3a"
             ],
             [
              0.8888888888888888,
              "#fdca26"
             ],
             [
              1,
              "#f0f921"
             ]
            ],
            "type": "heatmap"
           }
          ],
          "heatmapgl": [
           {
            "colorbar": {
             "outlinewidth": 0,
             "ticks": ""
            },
            "colorscale": [
             [
              0,
              "#0d0887"
             ],
             [
              0.1111111111111111,
              "#46039f"
             ],
             [
              0.2222222222222222,
              "#7201a8"
             ],
             [
              0.3333333333333333,
              "#9c179e"
             ],
             [
              0.4444444444444444,
              "#bd3786"
             ],
             [
              0.5555555555555556,
              "#d8576b"
             ],
             [
              0.6666666666666666,
              "#ed7953"
             ],
             [
              0.7777777777777778,
              "#fb9f3a"
             ],
             [
              0.8888888888888888,
              "#fdca26"
             ],
             [
              1,
              "#f0f921"
             ]
            ],
            "type": "heatmapgl"
           }
          ],
          "histogram": [
           {
            "marker": {
             "pattern": {
              "fillmode": "overlay",
              "size": 10,
              "solidity": 0.2
             }
            },
            "type": "histogram"
           }
          ],
          "histogram2d": [
           {
            "colorbar": {
             "outlinewidth": 0,
             "ticks": ""
            },
            "colorscale": [
             [
              0,
              "#0d0887"
             ],
             [
              0.1111111111111111,
              "#46039f"
             ],
             [
              0.2222222222222222,
              "#7201a8"
             ],
             [
              0.3333333333333333,
              "#9c179e"
             ],
             [
              0.4444444444444444,
              "#bd3786"
             ],
             [
              0.5555555555555556,
              "#d8576b"
             ],
             [
              0.6666666666666666,
              "#ed7953"
             ],
             [
              0.7777777777777778,
              "#fb9f3a"
             ],
             [
              0.8888888888888888,
              "#fdca26"
             ],
             [
              1,
              "#f0f921"
             ]
            ],
            "type": "histogram2d"
           }
          ],
          "histogram2dcontour": [
           {
            "colorbar": {
             "outlinewidth": 0,
             "ticks": ""
            },
            "colorscale": [
             [
              0,
              "#0d0887"
             ],
             [
              0.1111111111111111,
              "#46039f"
             ],
             [
              0.2222222222222222,
              "#7201a8"
             ],
             [
              0.3333333333333333,
              "#9c179e"
             ],
             [
              0.4444444444444444,
              "#bd3786"
             ],
             [
              0.5555555555555556,
              "#d8576b"
             ],
             [
              0.6666666666666666,
              "#ed7953"
             ],
             [
              0.7777777777777778,
              "#fb9f3a"
             ],
             [
              0.8888888888888888,
              "#fdca26"
             ],
             [
              1,
              "#f0f921"
             ]
            ],
            "type": "histogram2dcontour"
           }
          ],
          "mesh3d": [
           {
            "colorbar": {
             "outlinewidth": 0,
             "ticks": ""
            },
            "type": "mesh3d"
           }
          ],
          "parcoords": [
           {
            "line": {
             "colorbar": {
              "outlinewidth": 0,
              "ticks": ""
             }
            },
            "type": "parcoords"
           }
          ],
          "pie": [
           {
            "automargin": true,
            "type": "pie"
           }
          ],
          "scatter": [
           {
            "fillpattern": {
             "fillmode": "overlay",
             "size": 10,
             "solidity": 0.2
            },
            "type": "scatter"
           }
          ],
          "scatter3d": [
           {
            "line": {
             "colorbar": {
              "outlinewidth": 0,
              "ticks": ""
             }
            },
            "marker": {
             "colorbar": {
              "outlinewidth": 0,
              "ticks": ""
             }
            },
            "type": "scatter3d"
           }
          ],
          "scattercarpet": [
           {
            "marker": {
             "colorbar": {
              "outlinewidth": 0,
              "ticks": ""
             }
            },
            "type": "scattercarpet"
           }
          ],
          "scattergeo": [
           {
            "marker": {
             "colorbar": {
              "outlinewidth": 0,
              "ticks": ""
             }
            },
            "type": "scattergeo"
           }
          ],
          "scattergl": [
           {
            "marker": {
             "colorbar": {
              "outlinewidth": 0,
              "ticks": ""
             }
            },
            "type": "scattergl"
           }
          ],
          "scattermapbox": [
           {
            "marker": {
             "colorbar": {
              "outlinewidth": 0,
              "ticks": ""
             }
            },
            "type": "scattermapbox"
           }
          ],
          "scatterpolar": [
           {
            "marker": {
             "colorbar": {
              "outlinewidth": 0,
              "ticks": ""
             }
            },
            "type": "scatterpolar"
           }
          ],
          "scatterpolargl": [
           {
            "marker": {
             "colorbar": {
              "outlinewidth": 0,
              "ticks": ""
             }
            },
            "type": "scatterpolargl"
           }
          ],
          "scatterternary": [
           {
            "marker": {
             "colorbar": {
              "outlinewidth": 0,
              "ticks": ""
             }
            },
            "type": "scatterternary"
           }
          ],
          "surface": [
           {
            "colorbar": {
             "outlinewidth": 0,
             "ticks": ""
            },
            "colorscale": [
             [
              0,
              "#0d0887"
             ],
             [
              0.1111111111111111,
              "#46039f"
             ],
             [
              0.2222222222222222,
              "#7201a8"
             ],
             [
              0.3333333333333333,
              "#9c179e"
             ],
             [
              0.4444444444444444,
              "#bd3786"
             ],
             [
              0.5555555555555556,
              "#d8576b"
             ],
             [
              0.6666666666666666,
              "#ed7953"
             ],
             [
              0.7777777777777778,
              "#fb9f3a"
             ],
             [
              0.8888888888888888,
              "#fdca26"
             ],
             [
              1,
              "#f0f921"
             ]
            ],
            "type": "surface"
           }
          ],
          "table": [
           {
            "cells": {
             "fill": {
              "color": "#EBF0F8"
             },
             "line": {
              "color": "white"
             }
            },
            "header": {
             "fill": {
              "color": "#C8D4E3"
             },
             "line": {
              "color": "white"
             }
            },
            "type": "table"
           }
          ]
         },
         "layout": {
          "annotationdefaults": {
           "arrowcolor": "#2a3f5f",
           "arrowhead": 0,
           "arrowwidth": 1
          },
          "autotypenumbers": "strict",
          "coloraxis": {
           "colorbar": {
            "outlinewidth": 0,
            "ticks": ""
           }
          },
          "colorscale": {
           "diverging": [
            [
             0,
             "#8e0152"
            ],
            [
             0.1,
             "#c51b7d"
            ],
            [
             0.2,
             "#de77ae"
            ],
            [
             0.3,
             "#f1b6da"
            ],
            [
             0.4,
             "#fde0ef"
            ],
            [
             0.5,
             "#f7f7f7"
            ],
            [
             0.6,
             "#e6f5d0"
            ],
            [
             0.7,
             "#b8e186"
            ],
            [
             0.8,
             "#7fbc41"
            ],
            [
             0.9,
             "#4d9221"
            ],
            [
             1,
             "#276419"
            ]
           ],
           "sequential": [
            [
             0,
             "#0d0887"
            ],
            [
             0.1111111111111111,
             "#46039f"
            ],
            [
             0.2222222222222222,
             "#7201a8"
            ],
            [
             0.3333333333333333,
             "#9c179e"
            ],
            [
             0.4444444444444444,
             "#bd3786"
            ],
            [
             0.5555555555555556,
             "#d8576b"
            ],
            [
             0.6666666666666666,
             "#ed7953"
            ],
            [
             0.7777777777777778,
             "#fb9f3a"
            ],
            [
             0.8888888888888888,
             "#fdca26"
            ],
            [
             1,
             "#f0f921"
            ]
           ],
           "sequentialminus": [
            [
             0,
             "#0d0887"
            ],
            [
             0.1111111111111111,
             "#46039f"
            ],
            [
             0.2222222222222222,
             "#7201a8"
            ],
            [
             0.3333333333333333,
             "#9c179e"
            ],
            [
             0.4444444444444444,
             "#bd3786"
            ],
            [
             0.5555555555555556,
             "#d8576b"
            ],
            [
             0.6666666666666666,
             "#ed7953"
            ],
            [
             0.7777777777777778,
             "#fb9f3a"
            ],
            [
             0.8888888888888888,
             "#fdca26"
            ],
            [
             1,
             "#f0f921"
            ]
           ]
          },
          "colorway": [
           "#636efa",
           "#EF553B",
           "#00cc96",
           "#ab63fa",
           "#FFA15A",
           "#19d3f3",
           "#FF6692",
           "#B6E880",
           "#FF97FF",
           "#FECB52"
          ],
          "font": {
           "color": "#2a3f5f"
          },
          "geo": {
           "bgcolor": "white",
           "lakecolor": "white",
           "landcolor": "#E5ECF6",
           "showlakes": true,
           "showland": true,
           "subunitcolor": "white"
          },
          "hoverlabel": {
           "align": "left"
          },
          "hovermode": "closest",
          "mapbox": {
           "style": "light"
          },
          "paper_bgcolor": "white",
          "plot_bgcolor": "#E5ECF6",
          "polar": {
           "angularaxis": {
            "gridcolor": "white",
            "linecolor": "white",
            "ticks": ""
           },
           "bgcolor": "#E5ECF6",
           "radialaxis": {
            "gridcolor": "white",
            "linecolor": "white",
            "ticks": ""
           }
          },
          "scene": {
           "xaxis": {
            "backgroundcolor": "#E5ECF6",
            "gridcolor": "white",
            "gridwidth": 2,
            "linecolor": "white",
            "showbackground": true,
            "ticks": "",
            "zerolinecolor": "white"
           },
           "yaxis": {
            "backgroundcolor": "#E5ECF6",
            "gridcolor": "white",
            "gridwidth": 2,
            "linecolor": "white",
            "showbackground": true,
            "ticks": "",
            "zerolinecolor": "white"
           },
           "zaxis": {
            "backgroundcolor": "#E5ECF6",
            "gridcolor": "white",
            "gridwidth": 2,
            "linecolor": "white",
            "showbackground": true,
            "ticks": "",
            "zerolinecolor": "white"
           }
          },
          "shapedefaults": {
           "line": {
            "color": "#2a3f5f"
           }
          },
          "ternary": {
           "aaxis": {
            "gridcolor": "white",
            "linecolor": "white",
            "ticks": ""
           },
           "baxis": {
            "gridcolor": "white",
            "linecolor": "white",
            "ticks": ""
           },
           "bgcolor": "#E5ECF6",
           "caxis": {
            "gridcolor": "white",
            "linecolor": "white",
            "ticks": ""
           }
          },
          "title": {
           "x": 0.05
          },
          "xaxis": {
           "automargin": true,
           "gridcolor": "white",
           "linecolor": "white",
           "ticks": "",
           "title": {
            "standoff": 15
           },
           "zerolinecolor": "white",
           "zerolinewidth": 2
          },
          "yaxis": {
           "automargin": true,
           "gridcolor": "white",
           "linecolor": "white",
           "ticks": "",
           "title": {
            "standoff": 15
           },
           "zerolinecolor": "white",
           "zerolinewidth": 2
          }
         }
        },
        "title": {
         "text": " Top 10 protein rich foods"
        },
        "xaxis": {
         "anchor": "y",
         "domain": [
          0,
          1
         ],
         "title": {
          "text": "Food"
         }
        },
        "yaxis": {
         "anchor": "x",
         "domain": [
          0,
          1
         ],
         "title": {
          "text": "Protein"
         }
        }
       }
      }
     },
     "metadata": {},
     "output_type": "display_data"
    }
   ],
   "source": [
    "\n",
    "alls=['Vegetables A-E',\n",
    " 'Vegetables F-P',\n",
    " 'Vegetables R-Z','Breads cereals fastfoodgrains','Seeds and Nuts']\n",
    "\n",
    "prot= nutrients[nutrients['Category'].isin(alls)]\n",
    "\n",
    "protein_rich= prot.sort_values(by='Protein', ascending= False)\n",
    "top_20=protein_rich.head(20)\n",
    "fig = px.bar(top_20, x='Food', y='Protein', color='Protein', title=' Top 10 protein rich foods')\n",
    "fig.show()"
   ]
  },
  {
   "cell_type": "markdown",
   "metadata": {},
   "source": [
    "Therefore, from the category of Grains, Vegetables and Seeds, whole wheat has the most protein content followed by white bread. Soybeans are also in the top 20s. Also, Almonds rank no. 1 in the Seeds category.🌱"
   ]
  },
  {
   "cell_type": "markdown",
   "metadata": {},
   "source": [
    "## Foods to stay away from:\n",
    "\n",
    "What food has the most calories?"
   ]
  },
  {
   "cell_type": "code",
   "execution_count": 12,
   "metadata": {
    "trusted": true
   },
   "outputs": [
    {
     "data": {
      "application/vnd.plotly.v1+json": {
       "config": {
        "plotlyServerURL": "https://plot.ly"
       },
       "data": [
        {
         "alignmentgroup": "True",
         "hovertemplate": "Food=%{x}<br>Calories=%{marker.color}<extra></extra>",
         "legendgroup": "",
         "marker": {
          "color": [
           1100,
           1225,
           460,
           260,
           260,
           255,
           475,
           245,
           260,
           212,
           230,
           748,
           692,
           677,
           285,
           425,
           439,
           284,
           290,
           390
          ],
          "coloraxis": "coloraxis",
          "pattern": {
           "shape": ""
          }
         },
         "name": "",
         "offsetgroup": "",
         "orientation": "v",
         "showlegend": false,
         "textposition": "auto",
         "type": "bar",
         "x": [
          "Whole-wheat",
          "White 20 slices or",
          "Flour",
          "Soybeans",
          "Wheat-germ cereal toasted",
          "Peppers with beef and crumbs",
          "Baked with cheese",
          "Wheat germ",
          "Lima dry cooked",
          "Lentils",
          "Red kidney",
          "Rice",
          "White",
          "Converted",
          "Spaghetti with meat sauce",
          "Almonds",
          "roasted and salted",
          "Peanut butter natural",
          "Peanuts",
          "Wheat (whole)"
         ],
         "xaxis": "x",
         "y": [
          1100,
          1225,
          460,
          260,
          260,
          255,
          475,
          245,
          260,
          212,
          230,
          748,
          692,
          677,
          285,
          425,
          439,
          284,
          290,
          390
         ],
         "yaxis": "y"
        }
       ],
       "layout": {
        "barmode": "relative",
        "coloraxis": {
         "colorbar": {
          "title": {
           "text": "Calories"
          }
         },
         "colorscale": [
          [
           0,
           "#0d0887"
          ],
          [
           0.1111111111111111,
           "#46039f"
          ],
          [
           0.2222222222222222,
           "#7201a8"
          ],
          [
           0.3333333333333333,
           "#9c179e"
          ],
          [
           0.4444444444444444,
           "#bd3786"
          ],
          [
           0.5555555555555556,
           "#d8576b"
          ],
          [
           0.6666666666666666,
           "#ed7953"
          ],
          [
           0.7777777777777778,
           "#fb9f3a"
          ],
          [
           0.8888888888888888,
           "#fdca26"
          ],
          [
           1,
           "#f0f921"
          ]
         ]
        },
        "legend": {
         "tracegroupgap": 0
        },
        "template": {
         "data": {
          "bar": [
           {
            "error_x": {
             "color": "#2a3f5f"
            },
            "error_y": {
             "color": "#2a3f5f"
            },
            "marker": {
             "line": {
              "color": "#E5ECF6",
              "width": 0.5
             },
             "pattern": {
              "fillmode": "overlay",
              "size": 10,
              "solidity": 0.2
             }
            },
            "type": "bar"
           }
          ],
          "barpolar": [
           {
            "marker": {
             "line": {
              "color": "#E5ECF6",
              "width": 0.5
             },
             "pattern": {
              "fillmode": "overlay",
              "size": 10,
              "solidity": 0.2
             }
            },
            "type": "barpolar"
           }
          ],
          "carpet": [
           {
            "aaxis": {
             "endlinecolor": "#2a3f5f",
             "gridcolor": "white",
             "linecolor": "white",
             "minorgridcolor": "white",
             "startlinecolor": "#2a3f5f"
            },
            "baxis": {
             "endlinecolor": "#2a3f5f",
             "gridcolor": "white",
             "linecolor": "white",
             "minorgridcolor": "white",
             "startlinecolor": "#2a3f5f"
            },
            "type": "carpet"
           }
          ],
          "choropleth": [
           {
            "colorbar": {
             "outlinewidth": 0,
             "ticks": ""
            },
            "type": "choropleth"
           }
          ],
          "contour": [
           {
            "colorbar": {
             "outlinewidth": 0,
             "ticks": ""
            },
            "colorscale": [
             [
              0,
              "#0d0887"
             ],
             [
              0.1111111111111111,
              "#46039f"
             ],
             [
              0.2222222222222222,
              "#7201a8"
             ],
             [
              0.3333333333333333,
              "#9c179e"
             ],
             [
              0.4444444444444444,
              "#bd3786"
             ],
             [
              0.5555555555555556,
              "#d8576b"
             ],
             [
              0.6666666666666666,
              "#ed7953"
             ],
             [
              0.7777777777777778,
              "#fb9f3a"
             ],
             [
              0.8888888888888888,
              "#fdca26"
             ],
             [
              1,
              "#f0f921"
             ]
            ],
            "type": "contour"
           }
          ],
          "contourcarpet": [
           {
            "colorbar": {
             "outlinewidth": 0,
             "ticks": ""
            },
            "type": "contourcarpet"
           }
          ],
          "heatmap": [
           {
            "colorbar": {
             "outlinewidth": 0,
             "ticks": ""
            },
            "colorscale": [
             [
              0,
              "#0d0887"
             ],
             [
              0.1111111111111111,
              "#46039f"
             ],
             [
              0.2222222222222222,
              "#7201a8"
             ],
             [
              0.3333333333333333,
              "#9c179e"
             ],
             [
              0.4444444444444444,
              "#bd3786"
             ],
             [
              0.5555555555555556,
              "#d8576b"
             ],
             [
              0.6666666666666666,
              "#ed7953"
             ],
             [
              0.7777777777777778,
              "#fb9f3a"
             ],
             [
              0.8888888888888888,
              "#fdca26"
             ],
             [
              1,
              "#f0f921"
             ]
            ],
            "type": "heatmap"
           }
          ],
          "heatmapgl": [
           {
            "colorbar": {
             "outlinewidth": 0,
             "ticks": ""
            },
            "colorscale": [
             [
              0,
              "#0d0887"
             ],
             [
              0.1111111111111111,
              "#46039f"
             ],
             [
              0.2222222222222222,
              "#7201a8"
             ],
             [
              0.3333333333333333,
              "#9c179e"
             ],
             [
              0.4444444444444444,
              "#bd3786"
             ],
             [
              0.5555555555555556,
              "#d8576b"
             ],
             [
              0.6666666666666666,
              "#ed7953"
             ],
             [
              0.7777777777777778,
              "#fb9f3a"
             ],
             [
              0.8888888888888888,
              "#fdca26"
             ],
             [
              1,
              "#f0f921"
             ]
            ],
            "type": "heatmapgl"
           }
          ],
          "histogram": [
           {
            "marker": {
             "pattern": {
              "fillmode": "overlay",
              "size": 10,
              "solidity": 0.2
             }
            },
            "type": "histogram"
           }
          ],
          "histogram2d": [
           {
            "colorbar": {
             "outlinewidth": 0,
             "ticks": ""
            },
            "colorscale": [
             [
              0,
              "#0d0887"
             ],
             [
              0.1111111111111111,
              "#46039f"
             ],
             [
              0.2222222222222222,
              "#7201a8"
             ],
             [
              0.3333333333333333,
              "#9c179e"
             ],
             [
              0.4444444444444444,
              "#bd3786"
             ],
             [
              0.5555555555555556,
              "#d8576b"
             ],
             [
              0.6666666666666666,
              "#ed7953"
             ],
             [
              0.7777777777777778,
              "#fb9f3a"
             ],
             [
              0.8888888888888888,
              "#fdca26"
             ],
             [
              1,
              "#f0f921"
             ]
            ],
            "type": "histogram2d"
           }
          ],
          "histogram2dcontour": [
           {
            "colorbar": {
             "outlinewidth": 0,
             "ticks": ""
            },
            "colorscale": [
             [
              0,
              "#0d0887"
             ],
             [
              0.1111111111111111,
              "#46039f"
             ],
             [
              0.2222222222222222,
              "#7201a8"
             ],
             [
              0.3333333333333333,
              "#9c179e"
             ],
             [
              0.4444444444444444,
              "#bd3786"
             ],
             [
              0.5555555555555556,
              "#d8576b"
             ],
             [
              0.6666666666666666,
              "#ed7953"
             ],
             [
              0.7777777777777778,
              "#fb9f3a"
             ],
             [
              0.8888888888888888,
              "#fdca26"
             ],
             [
              1,
              "#f0f921"
             ]
            ],
            "type": "histogram2dcontour"
           }
          ],
          "mesh3d": [
           {
            "colorbar": {
             "outlinewidth": 0,
             "ticks": ""
            },
            "type": "mesh3d"
           }
          ],
          "parcoords": [
           {
            "line": {
             "colorbar": {
              "outlinewidth": 0,
              "ticks": ""
             }
            },
            "type": "parcoords"
           }
          ],
          "pie": [
           {
            "automargin": true,
            "type": "pie"
           }
          ],
          "scatter": [
           {
            "fillpattern": {
             "fillmode": "overlay",
             "size": 10,
             "solidity": 0.2
            },
            "type": "scatter"
           }
          ],
          "scatter3d": [
           {
            "line": {
             "colorbar": {
              "outlinewidth": 0,
              "ticks": ""
             }
            },
            "marker": {
             "colorbar": {
              "outlinewidth": 0,
              "ticks": ""
             }
            },
            "type": "scatter3d"
           }
          ],
          "scattercarpet": [
           {
            "marker": {
             "colorbar": {
              "outlinewidth": 0,
              "ticks": ""
             }
            },
            "type": "scattercarpet"
           }
          ],
          "scattergeo": [
           {
            "marker": {
             "colorbar": {
              "outlinewidth": 0,
              "ticks": ""
             }
            },
            "type": "scattergeo"
           }
          ],
          "scattergl": [
           {
            "marker": {
             "colorbar": {
              "outlinewidth": 0,
              "ticks": ""
             }
            },
            "type": "scattergl"
           }
          ],
          "scattermapbox": [
           {
            "marker": {
             "colorbar": {
              "outlinewidth": 0,
              "ticks": ""
             }
            },
            "type": "scattermapbox"
           }
          ],
          "scatterpolar": [
           {
            "marker": {
             "colorbar": {
              "outlinewidth": 0,
              "ticks": ""
             }
            },
            "type": "scatterpolar"
           }
          ],
          "scatterpolargl": [
           {
            "marker": {
             "colorbar": {
              "outlinewidth": 0,
              "ticks": ""
             }
            },
            "type": "scatterpolargl"
           }
          ],
          "scatterternary": [
           {
            "marker": {
             "colorbar": {
              "outlinewidth": 0,
              "ticks": ""
             }
            },
            "type": "scatterternary"
           }
          ],
          "surface": [
           {
            "colorbar": {
             "outlinewidth": 0,
             "ticks": ""
            },
            "colorscale": [
             [
              0,
              "#0d0887"
             ],
             [
              0.1111111111111111,
              "#46039f"
             ],
             [
              0.2222222222222222,
              "#7201a8"
             ],
             [
              0.3333333333333333,
              "#9c179e"
             ],
             [
              0.4444444444444444,
              "#bd3786"
             ],
             [
              0.5555555555555556,
              "#d8576b"
             ],
             [
              0.6666666666666666,
              "#ed7953"
             ],
             [
              0.7777777777777778,
              "#fb9f3a"
             ],
             [
              0.8888888888888888,
              "#fdca26"
             ],
             [
              1,
              "#f0f921"
             ]
            ],
            "type": "surface"
           }
          ],
          "table": [
           {
            "cells": {
             "fill": {
              "color": "#EBF0F8"
             },
             "line": {
              "color": "white"
             }
            },
            "header": {
             "fill": {
              "color": "#C8D4E3"
             },
             "line": {
              "color": "white"
             }
            },
            "type": "table"
           }
          ]
         },
         "layout": {
          "annotationdefaults": {
           "arrowcolor": "#2a3f5f",
           "arrowhead": 0,
           "arrowwidth": 1
          },
          "autotypenumbers": "strict",
          "coloraxis": {
           "colorbar": {
            "outlinewidth": 0,
            "ticks": ""
           }
          },
          "colorscale": {
           "diverging": [
            [
             0,
             "#8e0152"
            ],
            [
             0.1,
             "#c51b7d"
            ],
            [
             0.2,
             "#de77ae"
            ],
            [
             0.3,
             "#f1b6da"
            ],
            [
             0.4,
             "#fde0ef"
            ],
            [
             0.5,
             "#f7f7f7"
            ],
            [
             0.6,
             "#e6f5d0"
            ],
            [
             0.7,
             "#b8e186"
            ],
            [
             0.8,
             "#7fbc41"
            ],
            [
             0.9,
             "#4d9221"
            ],
            [
             1,
             "#276419"
            ]
           ],
           "sequential": [
            [
             0,
             "#0d0887"
            ],
            [
             0.1111111111111111,
             "#46039f"
            ],
            [
             0.2222222222222222,
             "#7201a8"
            ],
            [
             0.3333333333333333,
             "#9c179e"
            ],
            [
             0.4444444444444444,
             "#bd3786"
            ],
            [
             0.5555555555555556,
             "#d8576b"
            ],
            [
             0.6666666666666666,
             "#ed7953"
            ],
            [
             0.7777777777777778,
             "#fb9f3a"
            ],
            [
             0.8888888888888888,
             "#fdca26"
            ],
            [
             1,
             "#f0f921"
            ]
           ],
           "sequentialminus": [
            [
             0,
             "#0d0887"
            ],
            [
             0.1111111111111111,
             "#46039f"
            ],
            [
             0.2222222222222222,
             "#7201a8"
            ],
            [
             0.3333333333333333,
             "#9c179e"
            ],
            [
             0.4444444444444444,
             "#bd3786"
            ],
            [
             0.5555555555555556,
             "#d8576b"
            ],
            [
             0.6666666666666666,
             "#ed7953"
            ],
            [
             0.7777777777777778,
             "#fb9f3a"
            ],
            [
             0.8888888888888888,
             "#fdca26"
            ],
            [
             1,
             "#f0f921"
            ]
           ]
          },
          "colorway": [
           "#636efa",
           "#EF553B",
           "#00cc96",
           "#ab63fa",
           "#FFA15A",
           "#19d3f3",
           "#FF6692",
           "#B6E880",
           "#FF97FF",
           "#FECB52"
          ],
          "font": {
           "color": "#2a3f5f"
          },
          "geo": {
           "bgcolor": "white",
           "lakecolor": "white",
           "landcolor": "#E5ECF6",
           "showlakes": true,
           "showland": true,
           "subunitcolor": "white"
          },
          "hoverlabel": {
           "align": "left"
          },
          "hovermode": "closest",
          "mapbox": {
           "style": "light"
          },
          "paper_bgcolor": "white",
          "plot_bgcolor": "#E5ECF6",
          "polar": {
           "angularaxis": {
            "gridcolor": "white",
            "linecolor": "white",
            "ticks": ""
           },
           "bgcolor": "#E5ECF6",
           "radialaxis": {
            "gridcolor": "white",
            "linecolor": "white",
            "ticks": ""
           }
          },
          "scene": {
           "xaxis": {
            "backgroundcolor": "#E5ECF6",
            "gridcolor": "white",
            "gridwidth": 2,
            "linecolor": "white",
            "showbackground": true,
            "ticks": "",
            "zerolinecolor": "white"
           },
           "yaxis": {
            "backgroundcolor": "#E5ECF6",
            "gridcolor": "white",
            "gridwidth": 2,
            "linecolor": "white",
            "showbackground": true,
            "ticks": "",
            "zerolinecolor": "white"
           },
           "zaxis": {
            "backgroundcolor": "#E5ECF6",
            "gridcolor": "white",
            "gridwidth": 2,
            "linecolor": "white",
            "showbackground": true,
            "ticks": "",
            "zerolinecolor": "white"
           }
          },
          "shapedefaults": {
           "line": {
            "color": "#2a3f5f"
           }
          },
          "ternary": {
           "aaxis": {
            "gridcolor": "white",
            "linecolor": "white",
            "ticks": ""
           },
           "baxis": {
            "gridcolor": "white",
            "linecolor": "white",
            "ticks": ""
           },
           "bgcolor": "#E5ECF6",
           "caxis": {
            "gridcolor": "white",
            "linecolor": "white",
            "ticks": ""
           }
          },
          "title": {
           "x": 0.05
          },
          "xaxis": {
           "automargin": true,
           "gridcolor": "white",
           "linecolor": "white",
           "ticks": "",
           "title": {
            "standoff": 15
           },
           "zerolinecolor": "white",
           "zerolinewidth": 2
          },
          "yaxis": {
           "automargin": true,
           "gridcolor": "white",
           "linecolor": "white",
           "ticks": "",
           "title": {
            "standoff": 15
           },
           "zerolinecolor": "white",
           "zerolinewidth": 2
          }
         }
        },
        "title": {
         "text": " Top 10 calorie rich foods"
        },
        "xaxis": {
         "anchor": "y",
         "domain": [
          0,
          1
         ],
         "title": {
          "text": "Food"
         }
        },
        "yaxis": {
         "anchor": "x",
         "domain": [
          0,
          1
         ],
         "title": {
          "text": "Calories"
         }
        }
       }
      }
     },
     "metadata": {},
     "output_type": "display_data"
    }
   ],
   "source": [
    "cals= nutrients.sort_values(by='Calories', ascending= False)\n",
    "top_20_cals=cals.head(20)\n",
    "fig = px.bar(top_20, x='Food', y='Calories' , color='Calories',title=' Top 10 calorie rich foods')\n",
    "fig.show()"
   ]
  },
  {
   "cell_type": "markdown",
   "metadata": {},
   "source": [
    "Fortified milk has the most calories, followed by white bread. Also, notice how whole wheat has the most proteins but has almost equal amount of calories. Lard is fat source with most calories and 1/2 cup of ice-creams tops the charts in the dessert category."
   ]
  },
  {
   "cell_type": "markdown",
   "metadata": {},
   "source": [
    "## Fat Content:\n",
    "\n",
    "Normally, fat sources are often looked down upon. But, a certain amount of fat is required for a healthy gut.\n",
    "Let's look at some fatty foods.\n",
    "\n"
   ]
  },
  {
   "cell_type": "code",
   "execution_count": 13,
   "metadata": {
    "trusted": true
   },
   "outputs": [
    {
     "data": {
      "application/vnd.plotly.v1+json": {
       "config": {
        "plotlyServerURL": "https://plot.ly"
       },
       "data": [
        {
         "alignmentgroup": "True",
         "hovertemplate": "Food=%{x}<br>Calories=%{marker.color}<extra></extra>",
         "legendgroup": "",
         "marker": {
          "color": [
           231,
           113,
           113,
           992,
           665,
           806,
           457,
           430,
           475,
           1373,
           660,
           439,
           425,
           390,
           480,
           343,
           392,
           325,
           480,
           370
          ],
          "coloraxis": "coloraxis",
          "pattern": {
           "shape": ""
          }
         },
         "name": "",
         "offsetgroup": "",
         "orientation": "v",
         "showlegend": false,
         "textposition": "auto",
         "type": "bar",
         "x": [
          "Oysters",
          "Butter",
          "Butter",
          "Lard",
          "Hydrogenated cooking fat",
          "Margarine",
          "Brazil nuts",
          "or whipping",
          "Pork sausage",
          "Fortified milk",
          "Cows' milk",
          "roasted and salted",
          "Almonds",
          "Roast beef",
          "Lamb chop broiled",
          "Pecans",
          "Cashews",
          "Walnuts",
          "Pot-pie",
          "Duck domestic"
         ],
         "xaxis": "x",
         "y": [
          231,
          113,
          113,
          992,
          665,
          806,
          457,
          430,
          475,
          1373,
          660,
          439,
          425,
          390,
          480,
          343,
          392,
          325,
          480,
          370
         ],
         "yaxis": "y"
        }
       ],
       "layout": {
        "barmode": "relative",
        "coloraxis": {
         "colorbar": {
          "title": {
           "text": "Calories"
          }
         },
         "colorscale": [
          [
           0,
           "#0d0887"
          ],
          [
           0.1111111111111111,
           "#46039f"
          ],
          [
           0.2222222222222222,
           "#7201a8"
          ],
          [
           0.3333333333333333,
           "#9c179e"
          ],
          [
           0.4444444444444444,
           "#bd3786"
          ],
          [
           0.5555555555555556,
           "#d8576b"
          ],
          [
           0.6666666666666666,
           "#ed7953"
          ],
          [
           0.7777777777777778,
           "#fb9f3a"
          ],
          [
           0.8888888888888888,
           "#fdca26"
          ],
          [
           1,
           "#f0f921"
          ]
         ]
        },
        "legend": {
         "tracegroupgap": 0
        },
        "template": {
         "data": {
          "bar": [
           {
            "error_x": {
             "color": "#2a3f5f"
            },
            "error_y": {
             "color": "#2a3f5f"
            },
            "marker": {
             "line": {
              "color": "#E5ECF6",
              "width": 0.5
             },
             "pattern": {
              "fillmode": "overlay",
              "size": 10,
              "solidity": 0.2
             }
            },
            "type": "bar"
           }
          ],
          "barpolar": [
           {
            "marker": {
             "line": {
              "color": "#E5ECF6",
              "width": 0.5
             },
             "pattern": {
              "fillmode": "overlay",
              "size": 10,
              "solidity": 0.2
             }
            },
            "type": "barpolar"
           }
          ],
          "carpet": [
           {
            "aaxis": {
             "endlinecolor": "#2a3f5f",
             "gridcolor": "white",
             "linecolor": "white",
             "minorgridcolor": "white",
             "startlinecolor": "#2a3f5f"
            },
            "baxis": {
             "endlinecolor": "#2a3f5f",
             "gridcolor": "white",
             "linecolor": "white",
             "minorgridcolor": "white",
             "startlinecolor": "#2a3f5f"
            },
            "type": "carpet"
           }
          ],
          "choropleth": [
           {
            "colorbar": {
             "outlinewidth": 0,
             "ticks": ""
            },
            "type": "choropleth"
           }
          ],
          "contour": [
           {
            "colorbar": {
             "outlinewidth": 0,
             "ticks": ""
            },
            "colorscale": [
             [
              0,
              "#0d0887"
             ],
             [
              0.1111111111111111,
              "#46039f"
             ],
             [
              0.2222222222222222,
              "#7201a8"
             ],
             [
              0.3333333333333333,
              "#9c179e"
             ],
             [
              0.4444444444444444,
              "#bd3786"
             ],
             [
              0.5555555555555556,
              "#d8576b"
             ],
             [
              0.6666666666666666,
              "#ed7953"
             ],
             [
              0.7777777777777778,
              "#fb9f3a"
             ],
             [
              0.8888888888888888,
              "#fdca26"
             ],
             [
              1,
              "#f0f921"
             ]
            ],
            "type": "contour"
           }
          ],
          "contourcarpet": [
           {
            "colorbar": {
             "outlinewidth": 0,
             "ticks": ""
            },
            "type": "contourcarpet"
           }
          ],
          "heatmap": [
           {
            "colorbar": {
             "outlinewidth": 0,
             "ticks": ""
            },
            "colorscale": [
             [
              0,
              "#0d0887"
             ],
             [
              0.1111111111111111,
              "#46039f"
             ],
             [
              0.2222222222222222,
              "#7201a8"
             ],
             [
              0.3333333333333333,
              "#9c179e"
             ],
             [
              0.4444444444444444,
              "#bd3786"
             ],
             [
              0.5555555555555556,
              "#d8576b"
             ],
             [
              0.6666666666666666,
              "#ed7953"
             ],
             [
              0.7777777777777778,
              "#fb9f3a"
             ],
             [
              0.8888888888888888,
              "#fdca26"
             ],
             [
              1,
              "#f0f921"
             ]
            ],
            "type": "heatmap"
           }
          ],
          "heatmapgl": [
           {
            "colorbar": {
             "outlinewidth": 0,
             "ticks": ""
            },
            "colorscale": [
             [
              0,
              "#0d0887"
             ],
             [
              0.1111111111111111,
              "#46039f"
             ],
             [
              0.2222222222222222,
              "#7201a8"
             ],
             [
              0.3333333333333333,
              "#9c179e"
             ],
             [
              0.4444444444444444,
              "#bd3786"
             ],
             [
              0.5555555555555556,
              "#d8576b"
             ],
             [
              0.6666666666666666,
              "#ed7953"
             ],
             [
              0.7777777777777778,
              "#fb9f3a"
             ],
             [
              0.8888888888888888,
              "#fdca26"
             ],
             [
              1,
              "#f0f921"
             ]
            ],
            "type": "heatmapgl"
           }
          ],
          "histogram": [
           {
            "marker": {
             "pattern": {
              "fillmode": "overlay",
              "size": 10,
              "solidity": 0.2
             }
            },
            "type": "histogram"
           }
          ],
          "histogram2d": [
           {
            "colorbar": {
             "outlinewidth": 0,
             "ticks": ""
            },
            "colorscale": [
             [
              0,
              "#0d0887"
             ],
             [
              0.1111111111111111,
              "#46039f"
             ],
             [
              0.2222222222222222,
              "#7201a8"
             ],
             [
              0.3333333333333333,
              "#9c179e"
             ],
             [
              0.4444444444444444,
              "#bd3786"
             ],
             [
              0.5555555555555556,
              "#d8576b"
             ],
             [
              0.6666666666666666,
              "#ed7953"
             ],
             [
              0.7777777777777778,
              "#fb9f3a"
             ],
             [
              0.8888888888888888,
              "#fdca26"
             ],
             [
              1,
              "#f0f921"
             ]
            ],
            "type": "histogram2d"
           }
          ],
          "histogram2dcontour": [
           {
            "colorbar": {
             "outlinewidth": 0,
             "ticks": ""
            },
            "colorscale": [
             [
              0,
              "#0d0887"
             ],
             [
              0.1111111111111111,
              "#46039f"
             ],
             [
              0.2222222222222222,
              "#7201a8"
             ],
             [
              0.3333333333333333,
              "#9c179e"
             ],
             [
              0.4444444444444444,
              "#bd3786"
             ],
             [
              0.5555555555555556,
              "#d8576b"
             ],
             [
              0.6666666666666666,
              "#ed7953"
             ],
             [
              0.7777777777777778,
              "#fb9f3a"
             ],
             [
              0.8888888888888888,
              "#fdca26"
             ],
             [
              1,
              "#f0f921"
             ]
            ],
            "type": "histogram2dcontour"
           }
          ],
          "mesh3d": [
           {
            "colorbar": {
             "outlinewidth": 0,
             "ticks": ""
            },
            "type": "mesh3d"
           }
          ],
          "parcoords": [
           {
            "line": {
             "colorbar": {
              "outlinewidth": 0,
              "ticks": ""
             }
            },
            "type": "parcoords"
           }
          ],
          "pie": [
           {
            "automargin": true,
            "type": "pie"
           }
          ],
          "scatter": [
           {
            "fillpattern": {
             "fillmode": "overlay",
             "size": 10,
             "solidity": 0.2
            },
            "type": "scatter"
           }
          ],
          "scatter3d": [
           {
            "line": {
             "colorbar": {
              "outlinewidth": 0,
              "ticks": ""
             }
            },
            "marker": {
             "colorbar": {
              "outlinewidth": 0,
              "ticks": ""
             }
            },
            "type": "scatter3d"
           }
          ],
          "scattercarpet": [
           {
            "marker": {
             "colorbar": {
              "outlinewidth": 0,
              "ticks": ""
             }
            },
            "type": "scattercarpet"
           }
          ],
          "scattergeo": [
           {
            "marker": {
             "colorbar": {
              "outlinewidth": 0,
              "ticks": ""
             }
            },
            "type": "scattergeo"
           }
          ],
          "scattergl": [
           {
            "marker": {
             "colorbar": {
              "outlinewidth": 0,
              "ticks": ""
             }
            },
            "type": "scattergl"
           }
          ],
          "scattermapbox": [
           {
            "marker": {
             "colorbar": {
              "outlinewidth": 0,
              "ticks": ""
             }
            },
            "type": "scattermapbox"
           }
          ],
          "scatterpolar": [
           {
            "marker": {
             "colorbar": {
              "outlinewidth": 0,
              "ticks": ""
             }
            },
            "type": "scatterpolar"
           }
          ],
          "scatterpolargl": [
           {
            "marker": {
             "colorbar": {
              "outlinewidth": 0,
              "ticks": ""
             }
            },
            "type": "scatterpolargl"
           }
          ],
          "scatterternary": [
           {
            "marker": {
             "colorbar": {
              "outlinewidth": 0,
              "ticks": ""
             }
            },
            "type": "scatterternary"
           }
          ],
          "surface": [
           {
            "colorbar": {
             "outlinewidth": 0,
             "ticks": ""
            },
            "colorscale": [
             [
              0,
              "#0d0887"
             ],
             [
              0.1111111111111111,
              "#46039f"
             ],
             [
              0.2222222222222222,
              "#7201a8"
             ],
             [
              0.3333333333333333,
              "#9c179e"
             ],
             [
              0.4444444444444444,
              "#bd3786"
             ],
             [
              0.5555555555555556,
              "#d8576b"
             ],
             [
              0.6666666666666666,
              "#ed7953"
             ],
             [
              0.7777777777777778,
              "#fb9f3a"
             ],
             [
              0.8888888888888888,
              "#fdca26"
             ],
             [
              1,
              "#f0f921"
             ]
            ],
            "type": "surface"
           }
          ],
          "table": [
           {
            "cells": {
             "fill": {
              "color": "#EBF0F8"
             },
             "line": {
              "color": "white"
             }
            },
            "header": {
             "fill": {
              "color": "#C8D4E3"
             },
             "line": {
              "color": "white"
             }
            },
            "type": "table"
           }
          ]
         },
         "layout": {
          "annotationdefaults": {
           "arrowcolor": "#2a3f5f",
           "arrowhead": 0,
           "arrowwidth": 1
          },
          "autotypenumbers": "strict",
          "coloraxis": {
           "colorbar": {
            "outlinewidth": 0,
            "ticks": ""
           }
          },
          "colorscale": {
           "diverging": [
            [
             0,
             "#8e0152"
            ],
            [
             0.1,
             "#c51b7d"
            ],
            [
             0.2,
             "#de77ae"
            ],
            [
             0.3,
             "#f1b6da"
            ],
            [
             0.4,
             "#fde0ef"
            ],
            [
             0.5,
             "#f7f7f7"
            ],
            [
             0.6,
             "#e6f5d0"
            ],
            [
             0.7,
             "#b8e186"
            ],
            [
             0.8,
             "#7fbc41"
            ],
            [
             0.9,
             "#4d9221"
            ],
            [
             1,
             "#276419"
            ]
           ],
           "sequential": [
            [
             0,
             "#0d0887"
            ],
            [
             0.1111111111111111,
             "#46039f"
            ],
            [
             0.2222222222222222,
             "#7201a8"
            ],
            [
             0.3333333333333333,
             "#9c179e"
            ],
            [
             0.4444444444444444,
             "#bd3786"
            ],
            [
             0.5555555555555556,
             "#d8576b"
            ],
            [
             0.6666666666666666,
             "#ed7953"
            ],
            [
             0.7777777777777778,
             "#fb9f3a"
            ],
            [
             0.8888888888888888,
             "#fdca26"
            ],
            [
             1,
             "#f0f921"
            ]
           ],
           "sequentialminus": [
            [
             0,
             "#0d0887"
            ],
            [
             0.1111111111111111,
             "#46039f"
            ],
            [
             0.2222222222222222,
             "#7201a8"
            ],
            [
             0.3333333333333333,
             "#9c179e"
            ],
            [
             0.4444444444444444,
             "#bd3786"
            ],
            [
             0.5555555555555556,
             "#d8576b"
            ],
            [
             0.6666666666666666,
             "#ed7953"
            ],
            [
             0.7777777777777778,
             "#fb9f3a"
            ],
            [
             0.8888888888888888,
             "#fdca26"
            ],
            [
             1,
             "#f0f921"
            ]
           ]
          },
          "colorway": [
           "#636efa",
           "#EF553B",
           "#00cc96",
           "#ab63fa",
           "#FFA15A",
           "#19d3f3",
           "#FF6692",
           "#B6E880",
           "#FF97FF",
           "#FECB52"
          ],
          "font": {
           "color": "#2a3f5f"
          },
          "geo": {
           "bgcolor": "white",
           "lakecolor": "white",
           "landcolor": "#E5ECF6",
           "showlakes": true,
           "showland": true,
           "subunitcolor": "white"
          },
          "hoverlabel": {
           "align": "left"
          },
          "hovermode": "closest",
          "mapbox": {
           "style": "light"
          },
          "paper_bgcolor": "white",
          "plot_bgcolor": "#E5ECF6",
          "polar": {
           "angularaxis": {
            "gridcolor": "white",
            "linecolor": "white",
            "ticks": ""
           },
           "bgcolor": "#E5ECF6",
           "radialaxis": {
            "gridcolor": "white",
            "linecolor": "white",
            "ticks": ""
           }
          },
          "scene": {
           "xaxis": {
            "backgroundcolor": "#E5ECF6",
            "gridcolor": "white",
            "gridwidth": 2,
            "linecolor": "white",
            "showbackground": true,
            "ticks": "",
            "zerolinecolor": "white"
           },
           "yaxis": {
            "backgroundcolor": "#E5ECF6",
            "gridcolor": "white",
            "gridwidth": 2,
            "linecolor": "white",
            "showbackground": true,
            "ticks": "",
            "zerolinecolor": "white"
           },
           "zaxis": {
            "backgroundcolor": "#E5ECF6",
            "gridcolor": "white",
            "gridwidth": 2,
            "linecolor": "white",
            "showbackground": true,
            "ticks": "",
            "zerolinecolor": "white"
           }
          },
          "shapedefaults": {
           "line": {
            "color": "#2a3f5f"
           }
          },
          "ternary": {
           "aaxis": {
            "gridcolor": "white",
            "linecolor": "white",
            "ticks": ""
           },
           "baxis": {
            "gridcolor": "white",
            "linecolor": "white",
            "ticks": ""
           },
           "bgcolor": "#E5ECF6",
           "caxis": {
            "gridcolor": "white",
            "linecolor": "white",
            "ticks": ""
           }
          },
          "title": {
           "x": 0.05
          },
          "xaxis": {
           "automargin": true,
           "gridcolor": "white",
           "linecolor": "white",
           "ticks": "",
           "title": {
            "standoff": 15
           },
           "zerolinecolor": "white",
           "zerolinewidth": 2
          },
          "yaxis": {
           "automargin": true,
           "gridcolor": "white",
           "linecolor": "white",
           "ticks": "",
           "title": {
            "standoff": 15
           },
           "zerolinecolor": "white",
           "zerolinewidth": 2
          }
         }
        },
        "title": {
         "text": " Fat Content and Calories"
        },
        "xaxis": {
         "anchor": "y",
         "domain": [
          0,
          1
         ],
         "title": {
          "text": "Food"
         }
        },
        "yaxis": {
         "anchor": "x",
         "domain": [
          0,
          1
         ],
         "title": {
          "text": "Calories"
         }
        }
       }
      }
     },
     "metadata": {},
     "output_type": "display_data"
    }
   ],
   "source": [
    "fats= nutrients.sort_values(by='Fat', ascending= False)\n",
    "top_20_fat=fats.head(20)\n",
    "fig = px.bar(top_20_fat, x='Food', y='Calories', color='Calories', title=' Fat Content and Calories')\n",
    "fig.show()"
   ]
  },
  {
   "cell_type": "markdown",
   "metadata": {},
   "source": [
    "Therefore, Oysters and Butter have the largest combination of calories and fats, followed by lard."
   ]
  },
  {
   "cell_type": "markdown",
   "metadata": {},
   "source": [
    "## Analysing categories"
   ]
  },
  {
   "cell_type": "markdown",
   "metadata": {},
   "source": [
    "Grouping the data into categories can give us the total count of all metrics and thus we can analyse the categories."
   ]
  },
  {
   "cell_type": "code",
   "execution_count": 14,
   "metadata": {
    "trusted": true
   },
   "outputs": [
    {
     "data": {
      "text/html": [
       "<div>\n",
       "<style scoped>\n",
       "    .dataframe tbody tr th:only-of-type {\n",
       "        vertical-align: middle;\n",
       "    }\n",
       "\n",
       "    .dataframe tbody tr th {\n",
       "        vertical-align: top;\n",
       "    }\n",
       "\n",
       "    .dataframe thead th {\n",
       "        text-align: right;\n",
       "    }\n",
       "</style>\n",
       "<table border=\"1\" class=\"dataframe\">\n",
       "  <thead>\n",
       "    <tr style=\"text-align: right;\">\n",
       "      <th></th>\n",
       "      <th>Food</th>\n",
       "      <th>Measure</th>\n",
       "      <th>Grams</th>\n",
       "      <th>Calories</th>\n",
       "      <th>Protein</th>\n",
       "      <th>Fat</th>\n",
       "      <th>Sat.Fat</th>\n",
       "      <th>Fiber</th>\n",
       "      <th>Carbs</th>\n",
       "    </tr>\n",
       "    <tr>\n",
       "      <th>Category</th>\n",
       "      <th></th>\n",
       "      <th></th>\n",
       "      <th></th>\n",
       "      <th></th>\n",
       "      <th></th>\n",
       "      <th></th>\n",
       "      <th></th>\n",
       "      <th></th>\n",
       "      <th></th>\n",
       "    </tr>\n",
       "  </thead>\n",
       "  <tbody>\n",
       "    <tr>\n",
       "      <th>Breads cereals fastfoodgrains</th>\n",
       "      <td>BiscuitsBran flakesBread cracked wheatRyeWhite...</td>\n",
       "      <td>11 cup1 slice1 slice1-lb. loaf1-lb. loaf1 slic...</td>\n",
       "      <td>5253</td>\n",
       "      <td>11921.0</td>\n",
       "      <td>403</td>\n",
       "      <td>207</td>\n",
       "      <td>99.0</td>\n",
       "      <td>115.91</td>\n",
       "      <td>2059.0</td>\n",
       "    </tr>\n",
       "    <tr>\n",
       "      <th>Dairy products</th>\n",
       "      <td>Cows' milkMilk skimButtermilkEvaporated undilu...</td>\n",
       "      <td>1 qt.1 qt.1 cup1 cup6 cups1 cup1 1/3 cups2/3 c...</td>\n",
       "      <td>7412</td>\n",
       "      <td>8434.0</td>\n",
       "      <td>503</td>\n",
       "      <td>396</td>\n",
       "      <td>322.0</td>\n",
       "      <td>4.40</td>\n",
       "      <td>651.0</td>\n",
       "    </tr>\n",
       "    <tr>\n",
       "      <th>Desserts sweets</th>\n",
       "      <td>Apple bettyBread puddingCakesChocolate fudgeCu...</td>\n",
       "      <td>1 serving3/4 cup1 slice1 slice11 slice1 slice1...</td>\n",
       "      <td>2958</td>\n",
       "      <td>6608.0</td>\n",
       "      <td>78</td>\n",
       "      <td>163</td>\n",
       "      <td>150.0</td>\n",
       "      <td>20.50</td>\n",
       "      <td>1184.0</td>\n",
       "    </tr>\n",
       "    <tr>\n",
       "      <th>DrinksAlcohol Beverages</th>\n",
       "      <td>BeerGinWinesTable (12.2% alcohol)Carbonated dr...</td>\n",
       "      <td>2 cups1 oz.1/2 cup1/2 cup12 oz.12 oz.12 oz.12 ...</td>\n",
       "      <td>3284</td>\n",
       "      <td>1112.0</td>\n",
       "      <td>0</td>\n",
       "      <td>0</td>\n",
       "      <td>0.0</td>\n",
       "      <td>0.00</td>\n",
       "      <td>167.0</td>\n",
       "    </tr>\n",
       "    <tr>\n",
       "      <th>Fats Oils Shortenings</th>\n",
       "      <td>YolksButterButterButterHydrogenated cooking fa...</td>\n",
       "      <td>21T.1/2 cup1/4 lb.1/2 cup1/2 cup1/2 cup1 T.1 T...</td>\n",
       "      <td>695</td>\n",
       "      <td>3629.0</td>\n",
       "      <td>234</td>\n",
       "      <td>631</td>\n",
       "      <td>536.0</td>\n",
       "      <td>234.00</td>\n",
       "      <td>239.0</td>\n",
       "    </tr>\n",
       "    <tr>\n",
       "      <th>Fish Seafood</th>\n",
       "      <td>ClamsCodCrab meatFish sticks friedFlounderHadd...</td>\n",
       "      <td>3 oz.3 1/2 oz.3 oz.53 1/2 oz.3 oz.3 1/2 oz.1 s...</td>\n",
       "      <td>1807</td>\n",
       "      <td>2757.0</td>\n",
       "      <td>588</td>\n",
       "      <td>338</td>\n",
       "      <td>252.0</td>\n",
       "      <td>235.00</td>\n",
       "      <td>263.0</td>\n",
       "    </tr>\n",
       "    <tr>\n",
       "      <th>Fruits A-F</th>\n",
       "      <td>Watercress stems rawApple juice cannedApple vi...</td>\n",
       "      <td>1 cup1 cup1/3 cup1 med1 cup1 cup1/2 cup3 med.1...</td>\n",
       "      <td>3844</td>\n",
       "      <td>3328.0</td>\n",
       "      <td>29</td>\n",
       "      <td>20</td>\n",
       "      <td>12.0</td>\n",
       "      <td>33.50</td>\n",
       "      <td>812.0</td>\n",
       "    </tr>\n",
       "    <tr>\n",
       "      <th>Fruits G-P</th>\n",
       "      <td>Grapefruit sectionsGrapefruit fresh 5\" diamete...</td>\n",
       "      <td>1 cup1/21 cup1 cup1 cup1 cup1/2 cup6-oz. can6-...</td>\n",
       "      <td>5412</td>\n",
       "      <td>4054.0</td>\n",
       "      <td>28</td>\n",
       "      <td>25</td>\n",
       "      <td>21.0</td>\n",
       "      <td>21.10</td>\n",
       "      <td>1009.0</td>\n",
       "    </tr>\n",
       "    <tr>\n",
       "      <th>Fruits R-Z</th>\n",
       "      <td>RaisinsRaspberriesRaw redRhubarb sweetenedStra...</td>\n",
       "      <td>1/2 cup1/2 cup3/4 cup1 cup1 cup1 cupI med.1 wedge</td>\n",
       "      <td>1973</td>\n",
       "      <td>1228.0</td>\n",
       "      <td>7</td>\n",
       "      <td>1</td>\n",
       "      <td>0.0</td>\n",
       "      <td>17.40</td>\n",
       "      <td>330.0</td>\n",
       "    </tr>\n",
       "    <tr>\n",
       "      <th>Jams Jellies</th>\n",
       "      <td>HoneypreservesJelliesMolassesCane SyrupBrown f...</td>\n",
       "      <td>2 T.1 T.1 T.1 T.1 T.1 cup2 T.2 T.</td>\n",
       "      <td>422</td>\n",
       "      <td>1345.0</td>\n",
       "      <td>0</td>\n",
       "      <td>0</td>\n",
       "      <td>0.0</td>\n",
       "      <td>8.00</td>\n",
       "      <td>345.0</td>\n",
       "    </tr>\n",
       "    <tr>\n",
       "      <th>Meat Poultry</th>\n",
       "      <td>BaconBeefHamburgerGround leanRoast beefSteakSt...</td>\n",
       "      <td>2 slices3 oz.3 oz.3 oz.3 oz.3 oz.3 oz.3 oz.3 o...</td>\n",
       "      <td>2724</td>\n",
       "      <td>7529.0</td>\n",
       "      <td>546</td>\n",
       "      <td>520</td>\n",
       "      <td>427.0</td>\n",
       "      <td>0.00</td>\n",
       "      <td>57.3</td>\n",
       "    </tr>\n",
       "    <tr>\n",
       "      <th>Seeds and Nuts</th>\n",
       "      <td>Almondsroasted and saltedBrazil nutsCashewscoc...</td>\n",
       "      <td>1/2 cup1/2 cup1/2 cup1/2 cup1/2 cup1/3 cup1/3 ...</td>\n",
       "      <td>682</td>\n",
       "      <td>4089.0</td>\n",
       "      <td>120</td>\n",
       "      <td>368</td>\n",
       "      <td>232.0</td>\n",
       "      <td>18.60</td>\n",
       "      <td>140.0</td>\n",
       "    </tr>\n",
       "    <tr>\n",
       "      <th>Soups</th>\n",
       "      <td>Bean soupsBeef soupBouillonchicken soupClam ch...</td>\n",
       "      <td>1 cup1 cup1 cup1 cup1 cup1 cup1 cup1 cup1 cup1...</td>\n",
       "      <td>2495</td>\n",
       "      <td>1191.0</td>\n",
       "      <td>59</td>\n",
       "      <td>41</td>\n",
       "      <td>43.0</td>\n",
       "      <td>4.00</td>\n",
       "      <td>155.0</td>\n",
       "    </tr>\n",
       "    <tr>\n",
       "      <th>Vegetables A-E</th>\n",
       "      <td>ArtichokeAsparagusBeansLimaLima dry cookedNavy...</td>\n",
       "      <td>1 large6 spears1 cup1 cup1 cup3/4 cup1 cup1 cu...</td>\n",
       "      <td>3520</td>\n",
       "      <td>1804.0</td>\n",
       "      <td>101</td>\n",
       "      <td>9</td>\n",
       "      <td>6.0</td>\n",
       "      <td>36.30</td>\n",
       "      <td>356.0</td>\n",
       "    </tr>\n",
       "    <tr>\n",
       "      <th>Vegetables F-P</th>\n",
       "      <td>KaleKohlrabiLambs quarters steamedLentilsLettu...</td>\n",
       "      <td>1 cup1 cup1 cup1 cup1/4 head1/4 head411 1/3 cu...</td>\n",
       "      <td>1725</td>\n",
       "      <td>711.0</td>\n",
       "      <td>40</td>\n",
       "      <td>2</td>\n",
       "      <td>0.0</td>\n",
       "      <td>16.90</td>\n",
       "      <td>142.0</td>\n",
       "    </tr>\n",
       "    <tr>\n",
       "      <th>Vegetables R-Z</th>\n",
       "      <td>Fresh steamed peasSplit cooked peasheated peas...</td>\n",
       "      <td>1 cup4 cups1 cup1 pod1 large1 med.1 med.10 pie...</td>\n",
       "      <td>3360</td>\n",
       "      <td>2694.0</td>\n",
       "      <td>98</td>\n",
       "      <td>76</td>\n",
       "      <td>44.0</td>\n",
       "      <td>26.20</td>\n",
       "      <td>447.0</td>\n",
       "    </tr>\n",
       "  </tbody>\n",
       "</table>\n",
       "</div>"
      ],
      "text/plain": [
       "                                                                            Food  \\\n",
       "Category                                                                           \n",
       "Breads cereals fastfoodgrains  BiscuitsBran flakesBread cracked wheatRyeWhite...   \n",
       "Dairy products                 Cows' milkMilk skimButtermilkEvaporated undilu...   \n",
       "Desserts sweets                Apple bettyBread puddingCakesChocolate fudgeCu...   \n",
       "DrinksAlcohol Beverages        BeerGinWinesTable (12.2% alcohol)Carbonated dr...   \n",
       "Fats Oils Shortenings          YolksButterButterButterHydrogenated cooking fa...   \n",
       "Fish Seafood                   ClamsCodCrab meatFish sticks friedFlounderHadd...   \n",
       "Fruits A-F                     Watercress stems rawApple juice cannedApple vi...   \n",
       "Fruits G-P                     Grapefruit sectionsGrapefruit fresh 5\" diamete...   \n",
       "Fruits R-Z                     RaisinsRaspberriesRaw redRhubarb sweetenedStra...   \n",
       "Jams Jellies                   HoneypreservesJelliesMolassesCane SyrupBrown f...   \n",
       "Meat Poultry                   BaconBeefHamburgerGround leanRoast beefSteakSt...   \n",
       "Seeds and Nuts                 Almondsroasted and saltedBrazil nutsCashewscoc...   \n",
       "Soups                          Bean soupsBeef soupBouillonchicken soupClam ch...   \n",
       "Vegetables A-E                 ArtichokeAsparagusBeansLimaLima dry cookedNavy...   \n",
       "Vegetables F-P                 KaleKohlrabiLambs quarters steamedLentilsLettu...   \n",
       "Vegetables R-Z                 Fresh steamed peasSplit cooked peasheated peas...   \n",
       "\n",
       "                                                                         Measure  \\\n",
       "Category                                                                           \n",
       "Breads cereals fastfoodgrains  11 cup1 slice1 slice1-lb. loaf1-lb. loaf1 slic...   \n",
       "Dairy products                 1 qt.1 qt.1 cup1 cup6 cups1 cup1 1/3 cups2/3 c...   \n",
       "Desserts sweets                1 serving3/4 cup1 slice1 slice11 slice1 slice1...   \n",
       "DrinksAlcohol Beverages        2 cups1 oz.1/2 cup1/2 cup12 oz.12 oz.12 oz.12 ...   \n",
       "Fats Oils Shortenings          21T.1/2 cup1/4 lb.1/2 cup1/2 cup1/2 cup1 T.1 T...   \n",
       "Fish Seafood                   3 oz.3 1/2 oz.3 oz.53 1/2 oz.3 oz.3 1/2 oz.1 s...   \n",
       "Fruits A-F                     1 cup1 cup1/3 cup1 med1 cup1 cup1/2 cup3 med.1...   \n",
       "Fruits G-P                     1 cup1/21 cup1 cup1 cup1 cup1/2 cup6-oz. can6-...   \n",
       "Fruits R-Z                     1/2 cup1/2 cup3/4 cup1 cup1 cup1 cupI med.1 wedge   \n",
       "Jams Jellies                                   2 T.1 T.1 T.1 T.1 T.1 cup2 T.2 T.   \n",
       "Meat Poultry                   2 slices3 oz.3 oz.3 oz.3 oz.3 oz.3 oz.3 oz.3 o...   \n",
       "Seeds and Nuts                 1/2 cup1/2 cup1/2 cup1/2 cup1/2 cup1/3 cup1/3 ...   \n",
       "Soups                          1 cup1 cup1 cup1 cup1 cup1 cup1 cup1 cup1 cup1...   \n",
       "Vegetables A-E                 1 large6 spears1 cup1 cup1 cup3/4 cup1 cup1 cu...   \n",
       "Vegetables F-P                 1 cup1 cup1 cup1 cup1/4 head1/4 head411 1/3 cu...   \n",
       "Vegetables R-Z                 1 cup4 cups1 cup1 pod1 large1 med.1 med.10 pie...   \n",
       "\n",
       "                               Grams  Calories  Protein  Fat  Sat.Fat   Fiber  \\\n",
       "Category                                                                        \n",
       "Breads cereals fastfoodgrains   5253   11921.0      403  207     99.0  115.91   \n",
       "Dairy products                  7412    8434.0      503  396    322.0    4.40   \n",
       "Desserts sweets                 2958    6608.0       78  163    150.0   20.50   \n",
       "DrinksAlcohol Beverages         3284    1112.0        0    0      0.0    0.00   \n",
       "Fats Oils Shortenings            695    3629.0      234  631    536.0  234.00   \n",
       "Fish Seafood                    1807    2757.0      588  338    252.0  235.00   \n",
       "Fruits A-F                      3844    3328.0       29   20     12.0   33.50   \n",
       "Fruits G-P                      5412    4054.0       28   25     21.0   21.10   \n",
       "Fruits R-Z                      1973    1228.0        7    1      0.0   17.40   \n",
       "Jams Jellies                     422    1345.0        0    0      0.0    8.00   \n",
       "Meat Poultry                    2724    7529.0      546  520    427.0    0.00   \n",
       "Seeds and Nuts                   682    4089.0      120  368    232.0   18.60   \n",
       "Soups                           2495    1191.0       59   41     43.0    4.00   \n",
       "Vegetables A-E                  3520    1804.0      101    9      6.0   36.30   \n",
       "Vegetables F-P                  1725     711.0       40    2      0.0   16.90   \n",
       "Vegetables R-Z                  3360    2694.0       98   76     44.0   26.20   \n",
       "\n",
       "                                Carbs  \n",
       "Category                               \n",
       "Breads cereals fastfoodgrains  2059.0  \n",
       "Dairy products                  651.0  \n",
       "Desserts sweets                1184.0  \n",
       "DrinksAlcohol Beverages         167.0  \n",
       "Fats Oils Shortenings           239.0  \n",
       "Fish Seafood                    263.0  \n",
       "Fruits A-F                      812.0  \n",
       "Fruits G-P                     1009.0  \n",
       "Fruits R-Z                      330.0  \n",
       "Jams Jellies                    345.0  \n",
       "Meat Poultry                     57.3  \n",
       "Seeds and Nuts                  140.0  \n",
       "Soups                           155.0  \n",
       "Vegetables A-E                  356.0  \n",
       "Vegetables F-P                  142.0  \n",
       "Vegetables R-Z                  447.0  "
      ]
     },
     "execution_count": 14,
     "metadata": {},
     "output_type": "execute_result"
    }
   ],
   "source": [
    "category_dist=nutrients.groupby(['Category']).sum()\n",
    "category_dist"
   ]
  },
  {
   "cell_type": "code",
   "execution_count": 15,
   "metadata": {
    "trusted": true
   },
   "outputs": [
    {
     "data": {
      "application/vnd.plotly.v1+json": {
       "config": {
        "plotlyServerURL": "https://plot.ly"
       },
       "data": [
        {
         "domain": {
          "x": [
           0,
           0.2888888888888889
          ],
          "y": [
           0.575,
           1
          ]
         },
         "labels": [
          "Breads cereals fastfoodgrains",
          "Dairy products",
          "Desserts sweets",
          "DrinksAlcohol Beverages",
          "Fats Oils Shortenings",
          "Fish Seafood",
          "Fruits A-F",
          "Fruits G-P",
          "Fruits R-Z",
          "Jams Jellies",
          "Meat Poultry",
          "Seeds and Nuts",
          "Soups",
          "Vegetables A-E",
          "Vegetables F-P",
          "Vegetables R-Z"
         ],
         "marker": {
          "colors": [
           "#100b",
           "#f00560"
          ],
          "line": {
           "color": "#FFFFFF",
           "width": 2.5
          }
         },
         "title": {
          "text": "CALORIES"
         },
         "type": "pie",
         "values": [
          11921,
          8434,
          6608,
          1112,
          3629,
          2757,
          3328,
          4054,
          1228,
          1345,
          7529,
          4089,
          1191,
          1804,
          711,
          2694
         ]
        },
        {
         "domain": {
          "x": [
           0.35555555555555557,
           0.6444444444444445
          ],
          "y": [
           0.575,
           1
          ]
         },
         "labels": [
          "Breads cereals fastfoodgrains",
          "Dairy products",
          "Desserts sweets",
          "DrinksAlcohol Beverages",
          "Fats Oils Shortenings",
          "Fish Seafood",
          "Fruits A-F",
          "Fruits G-P",
          "Fruits R-Z",
          "Jams Jellies",
          "Meat Poultry",
          "Seeds and Nuts",
          "Soups",
          "Vegetables A-E",
          "Vegetables F-P",
          "Vegetables R-Z"
         ],
         "marker": {
          "colors": [
           "#100b",
           "#f00560"
          ],
          "line": {
           "color": "#FFFFFF",
           "width": 2.5
          }
         },
         "title": {
          "text": "FAT"
         },
         "type": "pie",
         "values": [
          207,
          396,
          163,
          0,
          631,
          338,
          20,
          25,
          1,
          0,
          520,
          368,
          41,
          9,
          2,
          76
         ]
        },
        {
         "domain": {
          "x": [
           0.7111111111111111,
           1
          ],
          "y": [
           0.575,
           1
          ]
         },
         "labels": [
          "Breads cereals fastfoodgrains",
          "Dairy products",
          "Desserts sweets",
          "DrinksAlcohol Beverages",
          "Fats Oils Shortenings",
          "Fish Seafood",
          "Fruits A-F",
          "Fruits G-P",
          "Fruits R-Z",
          "Jams Jellies",
          "Meat Poultry",
          "Seeds and Nuts",
          "Soups",
          "Vegetables A-E",
          "Vegetables F-P",
          "Vegetables R-Z"
         ],
         "marker": {
          "colors": [
           "#100b",
           "#f00560"
          ],
          "line": {
           "color": "#FFFFFF",
           "width": 2.5
          }
         },
         "title": {
          "text": "PROTEIN"
         },
         "type": "pie",
         "values": [
          403,
          503,
          78,
          0,
          234,
          588,
          29,
          28,
          7,
          0,
          546,
          120,
          59,
          101,
          40,
          98
         ]
        },
        {
         "domain": {
          "x": [
           0,
           0.2888888888888889
          ],
          "y": [
           0,
           0.425
          ]
         },
         "labels": [
          "Breads cereals fastfoodgrains",
          "Dairy products",
          "Desserts sweets",
          "DrinksAlcohol Beverages",
          "Fats Oils Shortenings",
          "Fish Seafood",
          "Fruits A-F",
          "Fruits G-P",
          "Fruits R-Z",
          "Jams Jellies",
          "Meat Poultry",
          "Seeds and Nuts",
          "Soups",
          "Vegetables A-E",
          "Vegetables F-P",
          "Vegetables R-Z"
         ],
         "marker": {
          "colors": [
           "#100b",
           "#f00560"
          ],
          "line": {
           "color": "#FFFFFF",
           "width": 2.5
          }
         },
         "title": {
          "text": "FIBER"
         },
         "type": "pie",
         "values": [
          115.91,
          4.4,
          20.5,
          0,
          234,
          235,
          33.5,
          21.1,
          17.4,
          8,
          0,
          18.6,
          4,
          36.3,
          16.9,
          26.2
         ]
        },
        {
         "domain": {
          "x": [
           0.35555555555555557,
           0.6444444444444445
          ],
          "y": [
           0,
           0.425
          ]
         },
         "labels": [
          "Breads cereals fastfoodgrains",
          "Dairy products",
          "Desserts sweets",
          "DrinksAlcohol Beverages",
          "Fats Oils Shortenings",
          "Fish Seafood",
          "Fruits A-F",
          "Fruits G-P",
          "Fruits R-Z",
          "Jams Jellies",
          "Meat Poultry",
          "Seeds and Nuts",
          "Soups",
          "Vegetables A-E",
          "Vegetables F-P",
          "Vegetables R-Z"
         ],
         "marker": {
          "colors": [
           "#100b",
           "#f00560"
          ],
          "line": {
           "color": "#FFFFFF",
           "width": 2.5
          }
         },
         "title": {
          "text": "SAT.FAT"
         },
         "type": "pie",
         "values": [
          99,
          322,
          150,
          0,
          536,
          252,
          12,
          21,
          0,
          0,
          427,
          232,
          43,
          6,
          0,
          44
         ]
        },
        {
         "domain": {
          "x": [
           0.7111111111111111,
           1
          ],
          "y": [
           0,
           0.425
          ]
         },
         "labels": [
          "Breads cereals fastfoodgrains",
          "Dairy products",
          "Desserts sweets",
          "DrinksAlcohol Beverages",
          "Fats Oils Shortenings",
          "Fish Seafood",
          "Fruits A-F",
          "Fruits G-P",
          "Fruits R-Z",
          "Jams Jellies",
          "Meat Poultry",
          "Seeds and Nuts",
          "Soups",
          "Vegetables A-E",
          "Vegetables F-P",
          "Vegetables R-Z"
         ],
         "marker": {
          "colors": [
           "#100b",
           "#f00560"
          ],
          "line": {
           "color": "#FFFFFF",
           "width": 2.5
          }
         },
         "title": {
          "text": "CARBS"
         },
         "type": "pie",
         "values": [
          2059,
          651,
          1184,
          167,
          239,
          263,
          812,
          1009,
          330,
          345,
          57.3,
          140,
          155,
          356,
          142,
          447
         ]
        }
       ],
       "layout": {
        "height": 700,
        "template": {
         "data": {
          "bar": [
           {
            "error_x": {
             "color": "#2a3f5f"
            },
            "error_y": {
             "color": "#2a3f5f"
            },
            "marker": {
             "line": {
              "color": "#E5ECF6",
              "width": 0.5
             },
             "pattern": {
              "fillmode": "overlay",
              "size": 10,
              "solidity": 0.2
             }
            },
            "type": "bar"
           }
          ],
          "barpolar": [
           {
            "marker": {
             "line": {
              "color": "#E5ECF6",
              "width": 0.5
             },
             "pattern": {
              "fillmode": "overlay",
              "size": 10,
              "solidity": 0.2
             }
            },
            "type": "barpolar"
           }
          ],
          "carpet": [
           {
            "aaxis": {
             "endlinecolor": "#2a3f5f",
             "gridcolor": "white",
             "linecolor": "white",
             "minorgridcolor": "white",
             "startlinecolor": "#2a3f5f"
            },
            "baxis": {
             "endlinecolor": "#2a3f5f",
             "gridcolor": "white",
             "linecolor": "white",
             "minorgridcolor": "white",
             "startlinecolor": "#2a3f5f"
            },
            "type": "carpet"
           }
          ],
          "choropleth": [
           {
            "colorbar": {
             "outlinewidth": 0,
             "ticks": ""
            },
            "type": "choropleth"
           }
          ],
          "contour": [
           {
            "colorbar": {
             "outlinewidth": 0,
             "ticks": ""
            },
            "colorscale": [
             [
              0,
              "#0d0887"
             ],
             [
              0.1111111111111111,
              "#46039f"
             ],
             [
              0.2222222222222222,
              "#7201a8"
             ],
             [
              0.3333333333333333,
              "#9c179e"
             ],
             [
              0.4444444444444444,
              "#bd3786"
             ],
             [
              0.5555555555555556,
              "#d8576b"
             ],
             [
              0.6666666666666666,
              "#ed7953"
             ],
             [
              0.7777777777777778,
              "#fb9f3a"
             ],
             [
              0.8888888888888888,
              "#fdca26"
             ],
             [
              1,
              "#f0f921"
             ]
            ],
            "type": "contour"
           }
          ],
          "contourcarpet": [
           {
            "colorbar": {
             "outlinewidth": 0,
             "ticks": ""
            },
            "type": "contourcarpet"
           }
          ],
          "heatmap": [
           {
            "colorbar": {
             "outlinewidth": 0,
             "ticks": ""
            },
            "colorscale": [
             [
              0,
              "#0d0887"
             ],
             [
              0.1111111111111111,
              "#46039f"
             ],
             [
              0.2222222222222222,
              "#7201a8"
             ],
             [
              0.3333333333333333,
              "#9c179e"
             ],
             [
              0.4444444444444444,
              "#bd3786"
             ],
             [
              0.5555555555555556,
              "#d8576b"
             ],
             [
              0.6666666666666666,
              "#ed7953"
             ],
             [
              0.7777777777777778,
              "#fb9f3a"
             ],
             [
              0.8888888888888888,
              "#fdca26"
             ],
             [
              1,
              "#f0f921"
             ]
            ],
            "type": "heatmap"
           }
          ],
          "heatmapgl": [
           {
            "colorbar": {
             "outlinewidth": 0,
             "ticks": ""
            },
            "colorscale": [
             [
              0,
              "#0d0887"
             ],
             [
              0.1111111111111111,
              "#46039f"
             ],
             [
              0.2222222222222222,
              "#7201a8"
             ],
             [
              0.3333333333333333,
              "#9c179e"
             ],
             [
              0.4444444444444444,
              "#bd3786"
             ],
             [
              0.5555555555555556,
              "#d8576b"
             ],
             [
              0.6666666666666666,
              "#ed7953"
             ],
             [
              0.7777777777777778,
              "#fb9f3a"
             ],
             [
              0.8888888888888888,
              "#fdca26"
             ],
             [
              1,
              "#f0f921"
             ]
            ],
            "type": "heatmapgl"
           }
          ],
          "histogram": [
           {
            "marker": {
             "pattern": {
              "fillmode": "overlay",
              "size": 10,
              "solidity": 0.2
             }
            },
            "type": "histogram"
           }
          ],
          "histogram2d": [
           {
            "colorbar": {
             "outlinewidth": 0,
             "ticks": ""
            },
            "colorscale": [
             [
              0,
              "#0d0887"
             ],
             [
              0.1111111111111111,
              "#46039f"
             ],
             [
              0.2222222222222222,
              "#7201a8"
             ],
             [
              0.3333333333333333,
              "#9c179e"
             ],
             [
              0.4444444444444444,
              "#bd3786"
             ],
             [
              0.5555555555555556,
              "#d8576b"
             ],
             [
              0.6666666666666666,
              "#ed7953"
             ],
             [
              0.7777777777777778,
              "#fb9f3a"
             ],
             [
              0.8888888888888888,
              "#fdca26"
             ],
             [
              1,
              "#f0f921"
             ]
            ],
            "type": "histogram2d"
           }
          ],
          "histogram2dcontour": [
           {
            "colorbar": {
             "outlinewidth": 0,
             "ticks": ""
            },
            "colorscale": [
             [
              0,
              "#0d0887"
             ],
             [
              0.1111111111111111,
              "#46039f"
             ],
             [
              0.2222222222222222,
              "#7201a8"
             ],
             [
              0.3333333333333333,
              "#9c179e"
             ],
             [
              0.4444444444444444,
              "#bd3786"
             ],
             [
              0.5555555555555556,
              "#d8576b"
             ],
             [
              0.6666666666666666,
              "#ed7953"
             ],
             [
              0.7777777777777778,
              "#fb9f3a"
             ],
             [
              0.8888888888888888,
              "#fdca26"
             ],
             [
              1,
              "#f0f921"
             ]
            ],
            "type": "histogram2dcontour"
           }
          ],
          "mesh3d": [
           {
            "colorbar": {
             "outlinewidth": 0,
             "ticks": ""
            },
            "type": "mesh3d"
           }
          ],
          "parcoords": [
           {
            "line": {
             "colorbar": {
              "outlinewidth": 0,
              "ticks": ""
             }
            },
            "type": "parcoords"
           }
          ],
          "pie": [
           {
            "automargin": true,
            "type": "pie"
           }
          ],
          "scatter": [
           {
            "fillpattern": {
             "fillmode": "overlay",
             "size": 10,
             "solidity": 0.2
            },
            "type": "scatter"
           }
          ],
          "scatter3d": [
           {
            "line": {
             "colorbar": {
              "outlinewidth": 0,
              "ticks": ""
             }
            },
            "marker": {
             "colorbar": {
              "outlinewidth": 0,
              "ticks": ""
             }
            },
            "type": "scatter3d"
           }
          ],
          "scattercarpet": [
           {
            "marker": {
             "colorbar": {
              "outlinewidth": 0,
              "ticks": ""
             }
            },
            "type": "scattercarpet"
           }
          ],
          "scattergeo": [
           {
            "marker": {
             "colorbar": {
              "outlinewidth": 0,
              "ticks": ""
             }
            },
            "type": "scattergeo"
           }
          ],
          "scattergl": [
           {
            "marker": {
             "colorbar": {
              "outlinewidth": 0,
              "ticks": ""
             }
            },
            "type": "scattergl"
           }
          ],
          "scattermapbox": [
           {
            "marker": {
             "colorbar": {
              "outlinewidth": 0,
              "ticks": ""
             }
            },
            "type": "scattermapbox"
           }
          ],
          "scatterpolar": [
           {
            "marker": {
             "colorbar": {
              "outlinewidth": 0,
              "ticks": ""
             }
            },
            "type": "scatterpolar"
           }
          ],
          "scatterpolargl": [
           {
            "marker": {
             "colorbar": {
              "outlinewidth": 0,
              "ticks": ""
             }
            },
            "type": "scatterpolargl"
           }
          ],
          "scatterternary": [
           {
            "marker": {
             "colorbar": {
              "outlinewidth": 0,
              "ticks": ""
             }
            },
            "type": "scatterternary"
           }
          ],
          "surface": [
           {
            "colorbar": {
             "outlinewidth": 0,
             "ticks": ""
            },
            "colorscale": [
             [
              0,
              "#0d0887"
             ],
             [
              0.1111111111111111,
              "#46039f"
             ],
             [
              0.2222222222222222,
              "#7201a8"
             ],
             [
              0.3333333333333333,
              "#9c179e"
             ],
             [
              0.4444444444444444,
              "#bd3786"
             ],
             [
              0.5555555555555556,
              "#d8576b"
             ],
             [
              0.6666666666666666,
              "#ed7953"
             ],
             [
              0.7777777777777778,
              "#fb9f3a"
             ],
             [
              0.8888888888888888,
              "#fdca26"
             ],
             [
              1,
              "#f0f921"
             ]
            ],
            "type": "surface"
           }
          ],
          "table": [
           {
            "cells": {
             "fill": {
              "color": "#EBF0F8"
             },
             "line": {
              "color": "white"
             }
            },
            "header": {
             "fill": {
              "color": "#C8D4E3"
             },
             "line": {
              "color": "white"
             }
            },
            "type": "table"
           }
          ]
         },
         "layout": {
          "annotationdefaults": {
           "arrowcolor": "#2a3f5f",
           "arrowhead": 0,
           "arrowwidth": 1
          },
          "autotypenumbers": "strict",
          "coloraxis": {
           "colorbar": {
            "outlinewidth": 0,
            "ticks": ""
           }
          },
          "colorscale": {
           "diverging": [
            [
             0,
             "#8e0152"
            ],
            [
             0.1,
             "#c51b7d"
            ],
            [
             0.2,
             "#de77ae"
            ],
            [
             0.3,
             "#f1b6da"
            ],
            [
             0.4,
             "#fde0ef"
            ],
            [
             0.5,
             "#f7f7f7"
            ],
            [
             0.6,
             "#e6f5d0"
            ],
            [
             0.7,
             "#b8e186"
            ],
            [
             0.8,
             "#7fbc41"
            ],
            [
             0.9,
             "#4d9221"
            ],
            [
             1,
             "#276419"
            ]
           ],
           "sequential": [
            [
             0,
             "#0d0887"
            ],
            [
             0.1111111111111111,
             "#46039f"
            ],
            [
             0.2222222222222222,
             "#7201a8"
            ],
            [
             0.3333333333333333,
             "#9c179e"
            ],
            [
             0.4444444444444444,
             "#bd3786"
            ],
            [
             0.5555555555555556,
             "#d8576b"
            ],
            [
             0.6666666666666666,
             "#ed7953"
            ],
            [
             0.7777777777777778,
             "#fb9f3a"
            ],
            [
             0.8888888888888888,
             "#fdca26"
            ],
            [
             1,
             "#f0f921"
            ]
           ],
           "sequentialminus": [
            [
             0,
             "#0d0887"
            ],
            [
             0.1111111111111111,
             "#46039f"
            ],
            [
             0.2222222222222222,
             "#7201a8"
            ],
            [
             0.3333333333333333,
             "#9c179e"
            ],
            [
             0.4444444444444444,
             "#bd3786"
            ],
            [
             0.5555555555555556,
             "#d8576b"
            ],
            [
             0.6666666666666666,
             "#ed7953"
            ],
            [
             0.7777777777777778,
             "#fb9f3a"
            ],
            [
             0.8888888888888888,
             "#fdca26"
            ],
            [
             1,
             "#f0f921"
            ]
           ]
          },
          "colorway": [
           "#636efa",
           "#EF553B",
           "#00cc96",
           "#ab63fa",
           "#FFA15A",
           "#19d3f3",
           "#FF6692",
           "#B6E880",
           "#FF97FF",
           "#FECB52"
          ],
          "font": {
           "color": "#2a3f5f"
          },
          "geo": {
           "bgcolor": "white",
           "lakecolor": "white",
           "landcolor": "#E5ECF6",
           "showlakes": true,
           "showland": true,
           "subunitcolor": "white"
          },
          "hoverlabel": {
           "align": "left"
          },
          "hovermode": "closest",
          "mapbox": {
           "style": "light"
          },
          "paper_bgcolor": "white",
          "plot_bgcolor": "#E5ECF6",
          "polar": {
           "angularaxis": {
            "gridcolor": "white",
            "linecolor": "white",
            "ticks": ""
           },
           "bgcolor": "#E5ECF6",
           "radialaxis": {
            "gridcolor": "white",
            "linecolor": "white",
            "ticks": ""
           }
          },
          "scene": {
           "xaxis": {
            "backgroundcolor": "#E5ECF6",
            "gridcolor": "white",
            "gridwidth": 2,
            "linecolor": "white",
            "showbackground": true,
            "ticks": "",
            "zerolinecolor": "white"
           },
           "yaxis": {
            "backgroundcolor": "#E5ECF6",
            "gridcolor": "white",
            "gridwidth": 2,
            "linecolor": "white",
            "showbackground": true,
            "ticks": "",
            "zerolinecolor": "white"
           },
           "zaxis": {
            "backgroundcolor": "#E5ECF6",
            "gridcolor": "white",
            "gridwidth": 2,
            "linecolor": "white",
            "showbackground": true,
            "ticks": "",
            "zerolinecolor": "white"
           }
          },
          "shapedefaults": {
           "line": {
            "color": "#2a3f5f"
           }
          },
          "ternary": {
           "aaxis": {
            "gridcolor": "white",
            "linecolor": "white",
            "ticks": ""
           },
           "baxis": {
            "gridcolor": "white",
            "linecolor": "white",
            "ticks": ""
           },
           "bgcolor": "#E5ECF6",
           "caxis": {
            "gridcolor": "white",
            "linecolor": "white",
            "ticks": ""
           }
          },
          "title": {
           "x": 0.05
          },
          "xaxis": {
           "automargin": true,
           "gridcolor": "white",
           "linecolor": "white",
           "ticks": "",
           "title": {
            "standoff": 15
           },
           "zerolinecolor": "white",
           "zerolinewidth": 2
          },
          "yaxis": {
           "automargin": true,
           "gridcolor": "white",
           "linecolor": "white",
           "ticks": "",
           "title": {
            "standoff": 15
           },
           "zerolinecolor": "white",
           "zerolinewidth": 2
          }
         }
        },
        "title": {
         "text": "Category wise distribution of all metrics"
        },
        "width": 1000
       }
      }
     },
     "metadata": {},
     "output_type": "display_data"
    }
   ],
   "source": [
    "category_dist=nutrients.groupby(['Category']).sum()\n",
    "from plotly.subplots import make_subplots\n",
    "import plotly.graph_objects as go\n",
    "\n",
    "fig = make_subplots(\n",
    "    rows=2, cols=3,\n",
    "    specs=[[{\"type\": \"domain\"},{\"type\": \"domain\"},{\"type\": \"domain\"}],[{\"type\": \"domain\"},{\"type\": \"domain\"},{\"type\": \"domain\"}]])\n",
    "\n",
    "fig.add_trace(go.Pie(values=category_dist['Calories'].values, title='CALORIES', labels=category_dist.index,marker=dict(colors=['#100b','#f00560'], line=dict(color='#FFFFFF', width=2.5))),\n",
    "              row=1, col=1)\n",
    "\n",
    "fig.add_trace(go.Pie(values=category_dist['Fat'].values,title='FAT', labels=category_dist.index,marker=dict(colors=['#100b','#f00560'], line=dict(color='#FFFFFF', width=2.5))),\n",
    "              row=1, col=2)\n",
    "\n",
    "fig.add_trace(go.Pie(values=category_dist['Protein'].values,title='PROTEIN', labels=category_dist.index,marker=dict(colors=['#100b','#f00560'], line=dict(color='#FFFFFF', width=2.5))),\n",
    "              row=1, col=3)\n",
    "\n",
    "fig.add_trace(go.Pie(values=category_dist['Fiber'].values,title='FIBER', labels=category_dist.index,marker=dict(colors=['#100b','#f00560'], line=dict(color='#FFFFFF', width=2.5))),\n",
    "              row=2, col=1)\n",
    "\n",
    "fig.add_trace(go.Pie(values=category_dist['Sat.Fat'].values,title='SAT.FAT', labels=category_dist.index,marker=dict(colors=['#100b','#f00560'], line=dict(color='#FFFFFF', width=2.5))),\n",
    "              row=2, col=2)\n",
    "\n",
    "fig.add_trace(go.Pie(values=category_dist['Carbs'].values,title='CARBS', labels=category_dist.index,marker=dict(colors=['#100b','#f00560'], line=dict(color='#FFFFFF', width=2.5))),\n",
    "              row=2, col=3)\n",
    "fig.update_layout(title_text=\"Category wise distribution of all metrics\",height=700, width=1000)\n",
    "\n",
    "fig.show()"
   ]
  },
  {
   "cell_type": "markdown",
   "metadata": {},
   "source": [
    "### Some inferences from the above pie charts:\n",
    "\n",
    "* It is clear that breads, grains and cereals have the highest amount of Carbs and Calories.\n",
    "\n",
    "* Largest percentage of protein is in seafood (God bless the vegetarians!)\n",
    "\n",
    "* Surprisingly, same amount of fiber content is present in Fats and Seafood.\n",
    "\n",
    "* Seeds and nuts have about 14% fat content.\n",
    "\n",
    "* Fruits do not have a large percentage in any of the categories except carbs, they have about 10% carbohydrates.\n",
    "\n",
    "* Dairy products (15%) have more saturated fat content than seafood (11.8%)."
   ]
  },
  {
   "cell_type": "markdown",
   "metadata": {
    "trusted": true
   },
   "source": [
    "## Analyzing the Drinks, Alcohol, Beverages and Desserts"
   ]
  },
  {
   "cell_type": "markdown",
   "metadata": {},
   "source": [
    "Since it is clear that meat/ seafood have an abundance of protein, let us find the protein rich foods."
   ]
  },
  {
   "cell_type": "code",
   "execution_count": 16,
   "metadata": {
    "trusted": true
   },
   "outputs": [
    {
     "data": {
      "application/vnd.plotly.v1+json": {
       "config": {
        "plotlyServerURL": "https://plot.ly"
       },
       "data": [
        {
         "marker": {
          "colors": [
           "deepskyblue",
           "lightsalmon",
           "tan",
           "teal",
           "silver",
           "deepskyblue",
           "lightsalmon",
           "tan",
           "teal",
           "silver"
          ],
          "line": {
           "color": [
            "wheat",
            "wheat",
            "blue",
            "wheat",
            "wheat",
            "wheat",
            "wheat",
            "blue",
            "wheat",
            "wheat"
           ]
          }
         },
         "text": [
          "Puddings Sugar",
          "Chocolate fudge",
          "Bread pudding",
          "Fudge",
          "Mince",
          "Cherry Pie",
          "Tapioca cream pudding",
          "9\" diam. pie",
          "Lemon meringue",
          "Milk chocolate"
         ],
         "title": {
          "text": "Desserts with high calorie percentages"
         },
         "type": "funnelarea",
         "values": [
          770,
          420,
          374,
          370,
          340,
          340,
          335,
          330,
          300,
          290
         ]
        }
       ],
       "layout": {
        "template": {
         "data": {
          "bar": [
           {
            "error_x": {
             "color": "#2a3f5f"
            },
            "error_y": {
             "color": "#2a3f5f"
            },
            "marker": {
             "line": {
              "color": "#E5ECF6",
              "width": 0.5
             },
             "pattern": {
              "fillmode": "overlay",
              "size": 10,
              "solidity": 0.2
             }
            },
            "type": "bar"
           }
          ],
          "barpolar": [
           {
            "marker": {
             "line": {
              "color": "#E5ECF6",
              "width": 0.5
             },
             "pattern": {
              "fillmode": "overlay",
              "size": 10,
              "solidity": 0.2
             }
            },
            "type": "barpolar"
           }
          ],
          "carpet": [
           {
            "aaxis": {
             "endlinecolor": "#2a3f5f",
             "gridcolor": "white",
             "linecolor": "white",
             "minorgridcolor": "white",
             "startlinecolor": "#2a3f5f"
            },
            "baxis": {
             "endlinecolor": "#2a3f5f",
             "gridcolor": "white",
             "linecolor": "white",
             "minorgridcolor": "white",
             "startlinecolor": "#2a3f5f"
            },
            "type": "carpet"
           }
          ],
          "choropleth": [
           {
            "colorbar": {
             "outlinewidth": 0,
             "ticks": ""
            },
            "type": "choropleth"
           }
          ],
          "contour": [
           {
            "colorbar": {
             "outlinewidth": 0,
             "ticks": ""
            },
            "colorscale": [
             [
              0,
              "#0d0887"
             ],
             [
              0.1111111111111111,
              "#46039f"
             ],
             [
              0.2222222222222222,
              "#7201a8"
             ],
             [
              0.3333333333333333,
              "#9c179e"
             ],
             [
              0.4444444444444444,
              "#bd3786"
             ],
             [
              0.5555555555555556,
              "#d8576b"
             ],
             [
              0.6666666666666666,
              "#ed7953"
             ],
             [
              0.7777777777777778,
              "#fb9f3a"
             ],
             [
              0.8888888888888888,
              "#fdca26"
             ],
             [
              1,
              "#f0f921"
             ]
            ],
            "type": "contour"
           }
          ],
          "contourcarpet": [
           {
            "colorbar": {
             "outlinewidth": 0,
             "ticks": ""
            },
            "type": "contourcarpet"
           }
          ],
          "heatmap": [
           {
            "colorbar": {
             "outlinewidth": 0,
             "ticks": ""
            },
            "colorscale": [
             [
              0,
              "#0d0887"
             ],
             [
              0.1111111111111111,
              "#46039f"
             ],
             [
              0.2222222222222222,
              "#7201a8"
             ],
             [
              0.3333333333333333,
              "#9c179e"
             ],
             [
              0.4444444444444444,
              "#bd3786"
             ],
             [
              0.5555555555555556,
              "#d8576b"
             ],
             [
              0.6666666666666666,
              "#ed7953"
             ],
             [
              0.7777777777777778,
              "#fb9f3a"
             ],
             [
              0.8888888888888888,
              "#fdca26"
             ],
             [
              1,
              "#f0f921"
             ]
            ],
            "type": "heatmap"
           }
          ],
          "heatmapgl": [
           {
            "colorbar": {
             "outlinewidth": 0,
             "ticks": ""
            },
            "colorscale": [
             [
              0,
              "#0d0887"
             ],
             [
              0.1111111111111111,
              "#46039f"
             ],
             [
              0.2222222222222222,
              "#7201a8"
             ],
             [
              0.3333333333333333,
              "#9c179e"
             ],
             [
              0.4444444444444444,
              "#bd3786"
             ],
             [
              0.5555555555555556,
              "#d8576b"
             ],
             [
              0.6666666666666666,
              "#ed7953"
             ],
             [
              0.7777777777777778,
              "#fb9f3a"
             ],
             [
              0.8888888888888888,
              "#fdca26"
             ],
             [
              1,
              "#f0f921"
             ]
            ],
            "type": "heatmapgl"
           }
          ],
          "histogram": [
           {
            "marker": {
             "pattern": {
              "fillmode": "overlay",
              "size": 10,
              "solidity": 0.2
             }
            },
            "type": "histogram"
           }
          ],
          "histogram2d": [
           {
            "colorbar": {
             "outlinewidth": 0,
             "ticks": ""
            },
            "colorscale": [
             [
              0,
              "#0d0887"
             ],
             [
              0.1111111111111111,
              "#46039f"
             ],
             [
              0.2222222222222222,
              "#7201a8"
             ],
             [
              0.3333333333333333,
              "#9c179e"
             ],
             [
              0.4444444444444444,
              "#bd3786"
             ],
             [
              0.5555555555555556,
              "#d8576b"
             ],
             [
              0.6666666666666666,
              "#ed7953"
             ],
             [
              0.7777777777777778,
              "#fb9f3a"
             ],
             [
              0.8888888888888888,
              "#fdca26"
             ],
             [
              1,
              "#f0f921"
             ]
            ],
            "type": "histogram2d"
           }
          ],
          "histogram2dcontour": [
           {
            "colorbar": {
             "outlinewidth": 0,
             "ticks": ""
            },
            "colorscale": [
             [
              0,
              "#0d0887"
             ],
             [
              0.1111111111111111,
              "#46039f"
             ],
             [
              0.2222222222222222,
              "#7201a8"
             ],
             [
              0.3333333333333333,
              "#9c179e"
             ],
             [
              0.4444444444444444,
              "#bd3786"
             ],
             [
              0.5555555555555556,
              "#d8576b"
             ],
             [
              0.6666666666666666,
              "#ed7953"
             ],
             [
              0.7777777777777778,
              "#fb9f3a"
             ],
             [
              0.8888888888888888,
              "#fdca26"
             ],
             [
              1,
              "#f0f921"
             ]
            ],
            "type": "histogram2dcontour"
           }
          ],
          "mesh3d": [
           {
            "colorbar": {
             "outlinewidth": 0,
             "ticks": ""
            },
            "type": "mesh3d"
           }
          ],
          "parcoords": [
           {
            "line": {
             "colorbar": {
              "outlinewidth": 0,
              "ticks": ""
             }
            },
            "type": "parcoords"
           }
          ],
          "pie": [
           {
            "automargin": true,
            "type": "pie"
           }
          ],
          "scatter": [
           {
            "fillpattern": {
             "fillmode": "overlay",
             "size": 10,
             "solidity": 0.2
            },
            "type": "scatter"
           }
          ],
          "scatter3d": [
           {
            "line": {
             "colorbar": {
              "outlinewidth": 0,
              "ticks": ""
             }
            },
            "marker": {
             "colorbar": {
              "outlinewidth": 0,
              "ticks": ""
             }
            },
            "type": "scatter3d"
           }
          ],
          "scattercarpet": [
           {
            "marker": {
             "colorbar": {
              "outlinewidth": 0,
              "ticks": ""
             }
            },
            "type": "scattercarpet"
           }
          ],
          "scattergeo": [
           {
            "marker": {
             "colorbar": {
              "outlinewidth": 0,
              "ticks": ""
             }
            },
            "type": "scattergeo"
           }
          ],
          "scattergl": [
           {
            "marker": {
             "colorbar": {
              "outlinewidth": 0,
              "ticks": ""
             }
            },
            "type": "scattergl"
           }
          ],
          "scattermapbox": [
           {
            "marker": {
             "colorbar": {
              "outlinewidth": 0,
              "ticks": ""
             }
            },
            "type": "scattermapbox"
           }
          ],
          "scatterpolar": [
           {
            "marker": {
             "colorbar": {
              "outlinewidth": 0,
              "ticks": ""
             }
            },
            "type": "scatterpolar"
           }
          ],
          "scatterpolargl": [
           {
            "marker": {
             "colorbar": {
              "outlinewidth": 0,
              "ticks": ""
             }
            },
            "type": "scatterpolargl"
           }
          ],
          "scatterternary": [
           {
            "marker": {
             "colorbar": {
              "outlinewidth": 0,
              "ticks": ""
             }
            },
            "type": "scatterternary"
           }
          ],
          "surface": [
           {
            "colorbar": {
             "outlinewidth": 0,
             "ticks": ""
            },
            "colorscale": [
             [
              0,
              "#0d0887"
             ],
             [
              0.1111111111111111,
              "#46039f"
             ],
             [
              0.2222222222222222,
              "#7201a8"
             ],
             [
              0.3333333333333333,
              "#9c179e"
             ],
             [
              0.4444444444444444,
              "#bd3786"
             ],
             [
              0.5555555555555556,
              "#d8576b"
             ],
             [
              0.6666666666666666,
              "#ed7953"
             ],
             [
              0.7777777777777778,
              "#fb9f3a"
             ],
             [
              0.8888888888888888,
              "#fdca26"
             ],
             [
              1,
              "#f0f921"
             ]
            ],
            "type": "surface"
           }
          ],
          "table": [
           {
            "cells": {
             "fill": {
              "color": "#EBF0F8"
             },
             "line": {
              "color": "white"
             }
            },
            "header": {
             "fill": {
              "color": "#C8D4E3"
             },
             "line": {
              "color": "white"
             }
            },
            "type": "table"
           }
          ]
         },
         "layout": {
          "annotationdefaults": {
           "arrowcolor": "#2a3f5f",
           "arrowhead": 0,
           "arrowwidth": 1
          },
          "autotypenumbers": "strict",
          "coloraxis": {
           "colorbar": {
            "outlinewidth": 0,
            "ticks": ""
           }
          },
          "colorscale": {
           "diverging": [
            [
             0,
             "#8e0152"
            ],
            [
             0.1,
             "#c51b7d"
            ],
            [
             0.2,
             "#de77ae"
            ],
            [
             0.3,
             "#f1b6da"
            ],
            [
             0.4,
             "#fde0ef"
            ],
            [
             0.5,
             "#f7f7f7"
            ],
            [
             0.6,
             "#e6f5d0"
            ],
            [
             0.7,
             "#b8e186"
            ],
            [
             0.8,
             "#7fbc41"
            ],
            [
             0.9,
             "#4d9221"
            ],
            [
             1,
             "#276419"
            ]
           ],
           "sequential": [
            [
             0,
             "#0d0887"
            ],
            [
             0.1111111111111111,
             "#46039f"
            ],
            [
             0.2222222222222222,
             "#7201a8"
            ],
            [
             0.3333333333333333,
             "#9c179e"
            ],
            [
             0.4444444444444444,
             "#bd3786"
            ],
            [
             0.5555555555555556,
             "#d8576b"
            ],
            [
             0.6666666666666666,
             "#ed7953"
            ],
            [
             0.7777777777777778,
             "#fb9f3a"
            ],
            [
             0.8888888888888888,
             "#fdca26"
            ],
            [
             1,
             "#f0f921"
            ]
           ],
           "sequentialminus": [
            [
             0,
             "#0d0887"
            ],
            [
             0.1111111111111111,
             "#46039f"
            ],
            [
             0.2222222222222222,
             "#7201a8"
            ],
            [
             0.3333333333333333,
             "#9c179e"
            ],
            [
             0.4444444444444444,
             "#bd3786"
            ],
            [
             0.5555555555555556,
             "#d8576b"
            ],
            [
             0.6666666666666666,
             "#ed7953"
            ],
            [
             0.7777777777777778,
             "#fb9f3a"
            ],
            [
             0.8888888888888888,
             "#fdca26"
            ],
            [
             1,
             "#f0f921"
            ]
           ]
          },
          "colorway": [
           "#636efa",
           "#EF553B",
           "#00cc96",
           "#ab63fa",
           "#FFA15A",
           "#19d3f3",
           "#FF6692",
           "#B6E880",
           "#FF97FF",
           "#FECB52"
          ],
          "font": {
           "color": "#2a3f5f"
          },
          "geo": {
           "bgcolor": "white",
           "lakecolor": "white",
           "landcolor": "#E5ECF6",
           "showlakes": true,
           "showland": true,
           "subunitcolor": "white"
          },
          "hoverlabel": {
           "align": "left"
          },
          "hovermode": "closest",
          "mapbox": {
           "style": "light"
          },
          "paper_bgcolor": "white",
          "plot_bgcolor": "#E5ECF6",
          "polar": {
           "angularaxis": {
            "gridcolor": "white",
            "linecolor": "white",
            "ticks": ""
           },
           "bgcolor": "#E5ECF6",
           "radialaxis": {
            "gridcolor": "white",
            "linecolor": "white",
            "ticks": ""
           }
          },
          "scene": {
           "xaxis": {
            "backgroundcolor": "#E5ECF6",
            "gridcolor": "white",
            "gridwidth": 2,
            "linecolor": "white",
            "showbackground": true,
            "ticks": "",
            "zerolinecolor": "white"
           },
           "yaxis": {
            "backgroundcolor": "#E5ECF6",
            "gridcolor": "white",
            "gridwidth": 2,
            "linecolor": "white",
            "showbackground": true,
            "ticks": "",
            "zerolinecolor": "white"
           },
           "zaxis": {
            "backgroundcolor": "#E5ECF6",
            "gridcolor": "white",
            "gridwidth": 2,
            "linecolor": "white",
            "showbackground": true,
            "ticks": "",
            "zerolinecolor": "white"
           }
          },
          "shapedefaults": {
           "line": {
            "color": "#2a3f5f"
           }
          },
          "ternary": {
           "aaxis": {
            "gridcolor": "white",
            "linecolor": "white",
            "ticks": ""
           },
           "baxis": {
            "gridcolor": "white",
            "linecolor": "white",
            "ticks": ""
           },
           "bgcolor": "#E5ECF6",
           "caxis": {
            "gridcolor": "white",
            "linecolor": "white",
            "ticks": ""
           }
          },
          "title": {
           "x": 0.05
          },
          "xaxis": {
           "automargin": true,
           "gridcolor": "white",
           "linecolor": "white",
           "ticks": "",
           "title": {
            "standoff": 15
           },
           "zerolinecolor": "white",
           "zerolinewidth": 2
          },
          "yaxis": {
           "automargin": true,
           "gridcolor": "white",
           "linecolor": "white",
           "ticks": "",
           "title": {
            "standoff": 15
           },
           "zerolinecolor": "white",
           "zerolinewidth": 2
          }
         }
        }
       }
      }
     },
     "metadata": {},
     "output_type": "display_data"
    }
   ],
   "source": [
    "drinks= nutrients[nutrients['Category'].isin(['Fish Seafood','Desserts sweets'])]\n",
    "drinks_top=drinks.sort_values(by='Calories', ascending= False)\n",
    "drinks_top=drinks_top.head(10)\n",
    "\n",
    "fig = go.Figure(go.Funnelarea(values=drinks_top['Calories'].values, text=drinks_top['Food'],\n",
    "                              title = { \"text\": \"Desserts with high calorie percentages\"},\n",
    "               marker = {\"colors\": [\"deepskyblue\", \"lightsalmon\", \"tan\", \"teal\", \"silver\",\"deepskyblue\", \"lightsalmon\", \"tan\", \"teal\", \"silver\"],\n",
    "                \"line\": {\"color\": [\"wheat\", \"wheat\", \"blue\", \"wheat\", \"wheat\",\"wheat\", \"wheat\", \"blue\", \"wheat\", \"wheat\"]}}))\n",
    "\n",
    "\n",
    "\n",
    "fig.show()"
   ]
  },
  {
   "cell_type": "markdown",
   "metadata": {},
   "source": [
    "So, pudding has the most amount of calories followed by chocolate fudge."
   ]
  },
  {
   "cell_type": "code",
   "execution_count": 17,
   "metadata": {
    "trusted": true
   },
   "outputs": [
    {
     "data": {
      "application/vnd.plotly.v1+json": {
       "config": {
        "plotlyServerURL": "https://plot.ly"
       },
       "data": [
        {
         "marker": {
          "colors": [
           "blue",
           "purple",
           "pink",
           "teal",
           "silver",
           "yellow",
           "lightsalmon",
           "tan",
           "teal",
           "silver"
          ],
          "line": {
           "color": [
            "wheat",
            "wheat",
            "blue",
            "wheat",
            "wheat",
            "wheat",
            "wheat",
            "blue",
            "wheat",
            "wheat"
           ]
          }
         },
         "text": [
          "Oysters",
          "Chocolate fudge",
          "9\" diam. pie",
          "Cherry Pie",
          "Herring",
          "Fudge",
          "Pumpkin Pie",
          "Bread pudding",
          "Lemon meringue",
          "Custard"
         ],
         "title": {
          "text": "Desserts with high fat percentage"
         },
         "type": "funnelarea",
         "values": [
          233,
          14,
          13,
          13,
          13,
          12,
          12,
          12,
          12,
          11
         ]
        }
       ],
       "layout": {
        "template": {
         "data": {
          "bar": [
           {
            "error_x": {
             "color": "#2a3f5f"
            },
            "error_y": {
             "color": "#2a3f5f"
            },
            "marker": {
             "line": {
              "color": "#E5ECF6",
              "width": 0.5
             },
             "pattern": {
              "fillmode": "overlay",
              "size": 10,
              "solidity": 0.2
             }
            },
            "type": "bar"
           }
          ],
          "barpolar": [
           {
            "marker": {
             "line": {
              "color": "#E5ECF6",
              "width": 0.5
             },
             "pattern": {
              "fillmode": "overlay",
              "size": 10,
              "solidity": 0.2
             }
            },
            "type": "barpolar"
           }
          ],
          "carpet": [
           {
            "aaxis": {
             "endlinecolor": "#2a3f5f",
             "gridcolor": "white",
             "linecolor": "white",
             "minorgridcolor": "white",
             "startlinecolor": "#2a3f5f"
            },
            "baxis": {
             "endlinecolor": "#2a3f5f",
             "gridcolor": "white",
             "linecolor": "white",
             "minorgridcolor": "white",
             "startlinecolor": "#2a3f5f"
            },
            "type": "carpet"
           }
          ],
          "choropleth": [
           {
            "colorbar": {
             "outlinewidth": 0,
             "ticks": ""
            },
            "type": "choropleth"
           }
          ],
          "contour": [
           {
            "colorbar": {
             "outlinewidth": 0,
             "ticks": ""
            },
            "colorscale": [
             [
              0,
              "#0d0887"
             ],
             [
              0.1111111111111111,
              "#46039f"
             ],
             [
              0.2222222222222222,
              "#7201a8"
             ],
             [
              0.3333333333333333,
              "#9c179e"
             ],
             [
              0.4444444444444444,
              "#bd3786"
             ],
             [
              0.5555555555555556,
              "#d8576b"
             ],
             [
              0.6666666666666666,
              "#ed7953"
             ],
             [
              0.7777777777777778,
              "#fb9f3a"
             ],
             [
              0.8888888888888888,
              "#fdca26"
             ],
             [
              1,
              "#f0f921"
             ]
            ],
            "type": "contour"
           }
          ],
          "contourcarpet": [
           {
            "colorbar": {
             "outlinewidth": 0,
             "ticks": ""
            },
            "type": "contourcarpet"
           }
          ],
          "heatmap": [
           {
            "colorbar": {
             "outlinewidth": 0,
             "ticks": ""
            },
            "colorscale": [
             [
              0,
              "#0d0887"
             ],
             [
              0.1111111111111111,
              "#46039f"
             ],
             [
              0.2222222222222222,
              "#7201a8"
             ],
             [
              0.3333333333333333,
              "#9c179e"
             ],
             [
              0.4444444444444444,
              "#bd3786"
             ],
             [
              0.5555555555555556,
              "#d8576b"
             ],
             [
              0.6666666666666666,
              "#ed7953"
             ],
             [
              0.7777777777777778,
              "#fb9f3a"
             ],
             [
              0.8888888888888888,
              "#fdca26"
             ],
             [
              1,
              "#f0f921"
             ]
            ],
            "type": "heatmap"
           }
          ],
          "heatmapgl": [
           {
            "colorbar": {
             "outlinewidth": 0,
             "ticks": ""
            },
            "colorscale": [
             [
              0,
              "#0d0887"
             ],
             [
              0.1111111111111111,
              "#46039f"
             ],
             [
              0.2222222222222222,
              "#7201a8"
             ],
             [
              0.3333333333333333,
              "#9c179e"
             ],
             [
              0.4444444444444444,
              "#bd3786"
             ],
             [
              0.5555555555555556,
              "#d8576b"
             ],
             [
              0.6666666666666666,
              "#ed7953"
             ],
             [
              0.7777777777777778,
              "#fb9f3a"
             ],
             [
              0.8888888888888888,
              "#fdca26"
             ],
             [
              1,
              "#f0f921"
             ]
            ],
            "type": "heatmapgl"
           }
          ],
          "histogram": [
           {
            "marker": {
             "pattern": {
              "fillmode": "overlay",
              "size": 10,
              "solidity": 0.2
             }
            },
            "type": "histogram"
           }
          ],
          "histogram2d": [
           {
            "colorbar": {
             "outlinewidth": 0,
             "ticks": ""
            },
            "colorscale": [
             [
              0,
              "#0d0887"
             ],
             [
              0.1111111111111111,
              "#46039f"
             ],
             [
              0.2222222222222222,
              "#7201a8"
             ],
             [
              0.3333333333333333,
              "#9c179e"
             ],
             [
              0.4444444444444444,
              "#bd3786"
             ],
             [
              0.5555555555555556,
              "#d8576b"
             ],
             [
              0.6666666666666666,
              "#ed7953"
             ],
             [
              0.7777777777777778,
              "#fb9f3a"
             ],
             [
              0.8888888888888888,
              "#fdca26"
             ],
             [
              1,
              "#f0f921"
             ]
            ],
            "type": "histogram2d"
           }
          ],
          "histogram2dcontour": [
           {
            "colorbar": {
             "outlinewidth": 0,
             "ticks": ""
            },
            "colorscale": [
             [
              0,
              "#0d0887"
             ],
             [
              0.1111111111111111,
              "#46039f"
             ],
             [
              0.2222222222222222,
              "#7201a8"
             ],
             [
              0.3333333333333333,
              "#9c179e"
             ],
             [
              0.4444444444444444,
              "#bd3786"
             ],
             [
              0.5555555555555556,
              "#d8576b"
             ],
             [
              0.6666666666666666,
              "#ed7953"
             ],
             [
              0.7777777777777778,
              "#fb9f3a"
             ],
             [
              0.8888888888888888,
              "#fdca26"
             ],
             [
              1,
              "#f0f921"
             ]
            ],
            "type": "histogram2dcontour"
           }
          ],
          "mesh3d": [
           {
            "colorbar": {
             "outlinewidth": 0,
             "ticks": ""
            },
            "type": "mesh3d"
           }
          ],
          "parcoords": [
           {
            "line": {
             "colorbar": {
              "outlinewidth": 0,
              "ticks": ""
             }
            },
            "type": "parcoords"
           }
          ],
          "pie": [
           {
            "automargin": true,
            "type": "pie"
           }
          ],
          "scatter": [
           {
            "fillpattern": {
             "fillmode": "overlay",
             "size": 10,
             "solidity": 0.2
            },
            "type": "scatter"
           }
          ],
          "scatter3d": [
           {
            "line": {
             "colorbar": {
              "outlinewidth": 0,
              "ticks": ""
             }
            },
            "marker": {
             "colorbar": {
              "outlinewidth": 0,
              "ticks": ""
             }
            },
            "type": "scatter3d"
           }
          ],
          "scattercarpet": [
           {
            "marker": {
             "colorbar": {
              "outlinewidth": 0,
              "ticks": ""
             }
            },
            "type": "scattercarpet"
           }
          ],
          "scattergeo": [
           {
            "marker": {
             "colorbar": {
              "outlinewidth": 0,
              "ticks": ""
             }
            },
            "type": "scattergeo"
           }
          ],
          "scattergl": [
           {
            "marker": {
             "colorbar": {
              "outlinewidth": 0,
              "ticks": ""
             }
            },
            "type": "scattergl"
           }
          ],
          "scattermapbox": [
           {
            "marker": {
             "colorbar": {
              "outlinewidth": 0,
              "ticks": ""
             }
            },
            "type": "scattermapbox"
           }
          ],
          "scatterpolar": [
           {
            "marker": {
             "colorbar": {
              "outlinewidth": 0,
              "ticks": ""
             }
            },
            "type": "scatterpolar"
           }
          ],
          "scatterpolargl": [
           {
            "marker": {
             "colorbar": {
              "outlinewidth": 0,
              "ticks": ""
             }
            },
            "type": "scatterpolargl"
           }
          ],
          "scatterternary": [
           {
            "marker": {
             "colorbar": {
              "outlinewidth": 0,
              "ticks": ""
             }
            },
            "type": "scatterternary"
           }
          ],
          "surface": [
           {
            "colorbar": {
             "outlinewidth": 0,
             "ticks": ""
            },
            "colorscale": [
             [
              0,
              "#0d0887"
             ],
             [
              0.1111111111111111,
              "#46039f"
             ],
             [
              0.2222222222222222,
              "#7201a8"
             ],
             [
              0.3333333333333333,
              "#9c179e"
             ],
             [
              0.4444444444444444,
              "#bd3786"
             ],
             [
              0.5555555555555556,
              "#d8576b"
             ],
             [
              0.6666666666666666,
              "#ed7953"
             ],
             [
              0.7777777777777778,
              "#fb9f3a"
             ],
             [
              0.8888888888888888,
              "#fdca26"
             ],
             [
              1,
              "#f0f921"
             ]
            ],
            "type": "surface"
           }
          ],
          "table": [
           {
            "cells": {
             "fill": {
              "color": "#EBF0F8"
             },
             "line": {
              "color": "white"
             }
            },
            "header": {
             "fill": {
              "color": "#C8D4E3"
             },
             "line": {
              "color": "white"
             }
            },
            "type": "table"
           }
          ]
         },
         "layout": {
          "annotationdefaults": {
           "arrowcolor": "#2a3f5f",
           "arrowhead": 0,
           "arrowwidth": 1
          },
          "autotypenumbers": "strict",
          "coloraxis": {
           "colorbar": {
            "outlinewidth": 0,
            "ticks": ""
           }
          },
          "colorscale": {
           "diverging": [
            [
             0,
             "#8e0152"
            ],
            [
             0.1,
             "#c51b7d"
            ],
            [
             0.2,
             "#de77ae"
            ],
            [
             0.3,
             "#f1b6da"
            ],
            [
             0.4,
             "#fde0ef"
            ],
            [
             0.5,
             "#f7f7f7"
            ],
            [
             0.6,
             "#e6f5d0"
            ],
            [
             0.7,
             "#b8e186"
            ],
            [
             0.8,
             "#7fbc41"
            ],
            [
             0.9,
             "#4d9221"
            ],
            [
             1,
             "#276419"
            ]
           ],
           "sequential": [
            [
             0,
             "#0d0887"
            ],
            [
             0.1111111111111111,
             "#46039f"
            ],
            [
             0.2222222222222222,
             "#7201a8"
            ],
            [
             0.3333333333333333,
             "#9c179e"
            ],
            [
             0.4444444444444444,
             "#bd3786"
            ],
            [
             0.5555555555555556,
             "#d8576b"
            ],
            [
             0.6666666666666666,
             "#ed7953"
            ],
            [
             0.7777777777777778,
             "#fb9f3a"
            ],
            [
             0.8888888888888888,
             "#fdca26"
            ],
            [
             1,
             "#f0f921"
            ]
           ],
           "sequentialminus": [
            [
             0,
             "#0d0887"
            ],
            [
             0.1111111111111111,
             "#46039f"
            ],
            [
             0.2222222222222222,
             "#7201a8"
            ],
            [
             0.3333333333333333,
             "#9c179e"
            ],
            [
             0.4444444444444444,
             "#bd3786"
            ],
            [
             0.5555555555555556,
             "#d8576b"
            ],
            [
             0.6666666666666666,
             "#ed7953"
            ],
            [
             0.7777777777777778,
             "#fb9f3a"
            ],
            [
             0.8888888888888888,
             "#fdca26"
            ],
            [
             1,
             "#f0f921"
            ]
           ]
          },
          "colorway": [
           "#636efa",
           "#EF553B",
           "#00cc96",
           "#ab63fa",
           "#FFA15A",
           "#19d3f3",
           "#FF6692",
           "#B6E880",
           "#FF97FF",
           "#FECB52"
          ],
          "font": {
           "color": "#2a3f5f"
          },
          "geo": {
           "bgcolor": "white",
           "lakecolor": "white",
           "landcolor": "#E5ECF6",
           "showlakes": true,
           "showland": true,
           "subunitcolor": "white"
          },
          "hoverlabel": {
           "align": "left"
          },
          "hovermode": "closest",
          "mapbox": {
           "style": "light"
          },
          "paper_bgcolor": "white",
          "plot_bgcolor": "#E5ECF6",
          "polar": {
           "angularaxis": {
            "gridcolor": "white",
            "linecolor": "white",
            "ticks": ""
           },
           "bgcolor": "#E5ECF6",
           "radialaxis": {
            "gridcolor": "white",
            "linecolor": "white",
            "ticks": ""
           }
          },
          "scene": {
           "xaxis": {
            "backgroundcolor": "#E5ECF6",
            "gridcolor": "white",
            "gridwidth": 2,
            "linecolor": "white",
            "showbackground": true,
            "ticks": "",
            "zerolinecolor": "white"
           },
           "yaxis": {
            "backgroundcolor": "#E5ECF6",
            "gridcolor": "white",
            "gridwidth": 2,
            "linecolor": "white",
            "showbackground": true,
            "ticks": "",
            "zerolinecolor": "white"
           },
           "zaxis": {
            "backgroundcolor": "#E5ECF6",
            "gridcolor": "white",
            "gridwidth": 2,
            "linecolor": "white",
            "showbackground": true,
            "ticks": "",
            "zerolinecolor": "white"
           }
          },
          "shapedefaults": {
           "line": {
            "color": "#2a3f5f"
           }
          },
          "ternary": {
           "aaxis": {
            "gridcolor": "white",
            "linecolor": "white",
            "ticks": ""
           },
           "baxis": {
            "gridcolor": "white",
            "linecolor": "white",
            "ticks": ""
           },
           "bgcolor": "#E5ECF6",
           "caxis": {
            "gridcolor": "white",
            "linecolor": "white",
            "ticks": ""
           }
          },
          "title": {
           "x": 0.05
          },
          "xaxis": {
           "automargin": true,
           "gridcolor": "white",
           "linecolor": "white",
           "ticks": "",
           "title": {
            "standoff": 15
           },
           "zerolinecolor": "white",
           "zerolinewidth": 2
          },
          "yaxis": {
           "automargin": true,
           "gridcolor": "white",
           "linecolor": "white",
           "ticks": "",
           "title": {
            "standoff": 15
           },
           "zerolinecolor": "white",
           "zerolinewidth": 2
          }
         }
        }
       }
      }
     },
     "metadata": {},
     "output_type": "display_data"
    }
   ],
   "source": [
    "drinks_fatty=drinks.sort_values(by='Fat', ascending= False)\n",
    "drinks_fatty=drinks_fatty.head(10)\n",
    "\n",
    "fig = go.Figure(go.Funnelarea(values=drinks_fatty['Fat'].values, text=drinks_fatty['Food'],\n",
    "                              title = { \"text\": \"Desserts with high fat percentage\"},\n",
    "               marker = {\"colors\": [\"blue\", \"purple\", \"pink\", \"teal\", \"silver\",\"yellow\", \"lightsalmon\", \"tan\", \"teal\", \"silver\"],\n",
    "                \"line\": {\"color\": [\"wheat\", \"wheat\", \"blue\", \"wheat\", \"wheat\",\"wheat\", \"wheat\", \"blue\", \"wheat\", \"wheat\"]}}))\n",
    "fig.show()"
   ]
  },
  {
   "cell_type": "markdown",
   "metadata": {},
   "source": [
    "Pies and fudges have the highest percentage of fat as well."
   ]
  },
  {
   "cell_type": "markdown",
   "metadata": {},
   "source": [
    "## Analyzing meat, poultry , seafood."
   ]
  },
  {
   "cell_type": "code",
   "execution_count": 18,
   "metadata": {
    "trusted": true
   },
   "outputs": [
    {
     "data": {
      "application/vnd.plotly.v1+json": {
       "config": {
        "plotlyServerURL": "https://plot.ly"
       },
       "data": [
        {
         "marker": {
          "colors": [
           "maroon",
           "salmon",
           "tan",
           "gold",
           "silver",
           "deepskyblue",
           "lightsalmon",
           "tan",
           "teal",
           "silver"
          ],
          "line": {
           "color": [
            "wheat",
            "wheat",
            "blue",
            "wheat",
            "wheat",
            "wheat",
            "wheat",
            "blue",
            "wheat",
            "wheat"
           ]
          }
         },
         "text": [
          "Oysters",
          "Flounder",
          "Cod",
          "Swordfish",
          "Halibut",
          "Tuna",
          "Shrimp",
          "Herring",
          "Sardines",
          "Shad"
         ],
         "title": {
          "text": "Desserts with high calorie percentages"
         },
         "type": "pie",
         "values": [
          232,
          30,
          28,
          27,
          26,
          25,
          23,
          22,
          22,
          20
         ]
        }
       ],
       "layout": {
        "template": {
         "data": {
          "bar": [
           {
            "error_x": {
             "color": "#2a3f5f"
            },
            "error_y": {
             "color": "#2a3f5f"
            },
            "marker": {
             "line": {
              "color": "#E5ECF6",
              "width": 0.5
             },
             "pattern": {
              "fillmode": "overlay",
              "size": 10,
              "solidity": 0.2
             }
            },
            "type": "bar"
           }
          ],
          "barpolar": [
           {
            "marker": {
             "line": {
              "color": "#E5ECF6",
              "width": 0.5
             },
             "pattern": {
              "fillmode": "overlay",
              "size": 10,
              "solidity": 0.2
             }
            },
            "type": "barpolar"
           }
          ],
          "carpet": [
           {
            "aaxis": {
             "endlinecolor": "#2a3f5f",
             "gridcolor": "white",
             "linecolor": "white",
             "minorgridcolor": "white",
             "startlinecolor": "#2a3f5f"
            },
            "baxis": {
             "endlinecolor": "#2a3f5f",
             "gridcolor": "white",
             "linecolor": "white",
             "minorgridcolor": "white",
             "startlinecolor": "#2a3f5f"
            },
            "type": "carpet"
           }
          ],
          "choropleth": [
           {
            "colorbar": {
             "outlinewidth": 0,
             "ticks": ""
            },
            "type": "choropleth"
           }
          ],
          "contour": [
           {
            "colorbar": {
             "outlinewidth": 0,
             "ticks": ""
            },
            "colorscale": [
             [
              0,
              "#0d0887"
             ],
             [
              0.1111111111111111,
              "#46039f"
             ],
             [
              0.2222222222222222,
              "#7201a8"
             ],
             [
              0.3333333333333333,
              "#9c179e"
             ],
             [
              0.4444444444444444,
              "#bd3786"
             ],
             [
              0.5555555555555556,
              "#d8576b"
             ],
             [
              0.6666666666666666,
              "#ed7953"
             ],
             [
              0.7777777777777778,
              "#fb9f3a"
             ],
             [
              0.8888888888888888,
              "#fdca26"
             ],
             [
              1,
              "#f0f921"
             ]
            ],
            "type": "contour"
           }
          ],
          "contourcarpet": [
           {
            "colorbar": {
             "outlinewidth": 0,
             "ticks": ""
            },
            "type": "contourcarpet"
           }
          ],
          "heatmap": [
           {
            "colorbar": {
             "outlinewidth": 0,
             "ticks": ""
            },
            "colorscale": [
             [
              0,
              "#0d0887"
             ],
             [
              0.1111111111111111,
              "#46039f"
             ],
             [
              0.2222222222222222,
              "#7201a8"
             ],
             [
              0.3333333333333333,
              "#9c179e"
             ],
             [
              0.4444444444444444,
              "#bd3786"
             ],
             [
              0.5555555555555556,
              "#d8576b"
             ],
             [
              0.6666666666666666,
              "#ed7953"
             ],
             [
              0.7777777777777778,
              "#fb9f3a"
             ],
             [
              0.8888888888888888,
              "#fdca26"
             ],
             [
              1,
              "#f0f921"
             ]
            ],
            "type": "heatmap"
           }
          ],
          "heatmapgl": [
           {
            "colorbar": {
             "outlinewidth": 0,
             "ticks": ""
            },
            "colorscale": [
             [
              0,
              "#0d0887"
             ],
             [
              0.1111111111111111,
              "#46039f"
             ],
             [
              0.2222222222222222,
              "#7201a8"
             ],
             [
              0.3333333333333333,
              "#9c179e"
             ],
             [
              0.4444444444444444,
              "#bd3786"
             ],
             [
              0.5555555555555556,
              "#d8576b"
             ],
             [
              0.6666666666666666,
              "#ed7953"
             ],
             [
              0.7777777777777778,
              "#fb9f3a"
             ],
             [
              0.8888888888888888,
              "#fdca26"
             ],
             [
              1,
              "#f0f921"
             ]
            ],
            "type": "heatmapgl"
           }
          ],
          "histogram": [
           {
            "marker": {
             "pattern": {
              "fillmode": "overlay",
              "size": 10,
              "solidity": 0.2
             }
            },
            "type": "histogram"
           }
          ],
          "histogram2d": [
           {
            "colorbar": {
             "outlinewidth": 0,
             "ticks": ""
            },
            "colorscale": [
             [
              0,
              "#0d0887"
             ],
             [
              0.1111111111111111,
              "#46039f"
             ],
             [
              0.2222222222222222,
              "#7201a8"
             ],
             [
              0.3333333333333333,
              "#9c179e"
             ],
             [
              0.4444444444444444,
              "#bd3786"
             ],
             [
              0.5555555555555556,
              "#d8576b"
             ],
             [
              0.6666666666666666,
              "#ed7953"
             ],
             [
              0.7777777777777778,
              "#fb9f3a"
             ],
             [
              0.8888888888888888,
              "#fdca26"
             ],
             [
              1,
              "#f0f921"
             ]
            ],
            "type": "histogram2d"
           }
          ],
          "histogram2dcontour": [
           {
            "colorbar": {
             "outlinewidth": 0,
             "ticks": ""
            },
            "colorscale": [
             [
              0,
              "#0d0887"
             ],
             [
              0.1111111111111111,
              "#46039f"
             ],
             [
              0.2222222222222222,
              "#7201a8"
             ],
             [
              0.3333333333333333,
              "#9c179e"
             ],
             [
              0.4444444444444444,
              "#bd3786"
             ],
             [
              0.5555555555555556,
              "#d8576b"
             ],
             [
              0.6666666666666666,
              "#ed7953"
             ],
             [
              0.7777777777777778,
              "#fb9f3a"
             ],
             [
              0.8888888888888888,
              "#fdca26"
             ],
             [
              1,
              "#f0f921"
             ]
            ],
            "type": "histogram2dcontour"
           }
          ],
          "mesh3d": [
           {
            "colorbar": {
             "outlinewidth": 0,
             "ticks": ""
            },
            "type": "mesh3d"
           }
          ],
          "parcoords": [
           {
            "line": {
             "colorbar": {
              "outlinewidth": 0,
              "ticks": ""
             }
            },
            "type": "parcoords"
           }
          ],
          "pie": [
           {
            "automargin": true,
            "type": "pie"
           }
          ],
          "scatter": [
           {
            "fillpattern": {
             "fillmode": "overlay",
             "size": 10,
             "solidity": 0.2
            },
            "type": "scatter"
           }
          ],
          "scatter3d": [
           {
            "line": {
             "colorbar": {
              "outlinewidth": 0,
              "ticks": ""
             }
            },
            "marker": {
             "colorbar": {
              "outlinewidth": 0,
              "ticks": ""
             }
            },
            "type": "scatter3d"
           }
          ],
          "scattercarpet": [
           {
            "marker": {
             "colorbar": {
              "outlinewidth": 0,
              "ticks": ""
             }
            },
            "type": "scattercarpet"
           }
          ],
          "scattergeo": [
           {
            "marker": {
             "colorbar": {
              "outlinewidth": 0,
              "ticks": ""
             }
            },
            "type": "scattergeo"
           }
          ],
          "scattergl": [
           {
            "marker": {
             "colorbar": {
              "outlinewidth": 0,
              "ticks": ""
             }
            },
            "type": "scattergl"
           }
          ],
          "scattermapbox": [
           {
            "marker": {
             "colorbar": {
              "outlinewidth": 0,
              "ticks": ""
             }
            },
            "type": "scattermapbox"
           }
          ],
          "scatterpolar": [
           {
            "marker": {
             "colorbar": {
              "outlinewidth": 0,
              "ticks": ""
             }
            },
            "type": "scatterpolar"
           }
          ],
          "scatterpolargl": [
           {
            "marker": {
             "colorbar": {
              "outlinewidth": 0,
              "ticks": ""
             }
            },
            "type": "scatterpolargl"
           }
          ],
          "scatterternary": [
           {
            "marker": {
             "colorbar": {
              "outlinewidth": 0,
              "ticks": ""
             }
            },
            "type": "scatterternary"
           }
          ],
          "surface": [
           {
            "colorbar": {
             "outlinewidth": 0,
             "ticks": ""
            },
            "colorscale": [
             [
              0,
              "#0d0887"
             ],
             [
              0.1111111111111111,
              "#46039f"
             ],
             [
              0.2222222222222222,
              "#7201a8"
             ],
             [
              0.3333333333333333,
              "#9c179e"
             ],
             [
              0.4444444444444444,
              "#bd3786"
             ],
             [
              0.5555555555555556,
              "#d8576b"
             ],
             [
              0.6666666666666666,
              "#ed7953"
             ],
             [
              0.7777777777777778,
              "#fb9f3a"
             ],
             [
              0.8888888888888888,
              "#fdca26"
             ],
             [
              1,
              "#f0f921"
             ]
            ],
            "type": "surface"
           }
          ],
          "table": [
           {
            "cells": {
             "fill": {
              "color": "#EBF0F8"
             },
             "line": {
              "color": "white"
             }
            },
            "header": {
             "fill": {
              "color": "#C8D4E3"
             },
             "line": {
              "color": "white"
             }
            },
            "type": "table"
           }
          ]
         },
         "layout": {
          "annotationdefaults": {
           "arrowcolor": "#2a3f5f",
           "arrowhead": 0,
           "arrowwidth": 1
          },
          "autotypenumbers": "strict",
          "coloraxis": {
           "colorbar": {
            "outlinewidth": 0,
            "ticks": ""
           }
          },
          "colorscale": {
           "diverging": [
            [
             0,
             "#8e0152"
            ],
            [
             0.1,
             "#c51b7d"
            ],
            [
             0.2,
             "#de77ae"
            ],
            [
             0.3,
             "#f1b6da"
            ],
            [
             0.4,
             "#fde0ef"
            ],
            [
             0.5,
             "#f7f7f7"
            ],
            [
             0.6,
             "#e6f5d0"
            ],
            [
             0.7,
             "#b8e186"
            ],
            [
             0.8,
             "#7fbc41"
            ],
            [
             0.9,
             "#4d9221"
            ],
            [
             1,
             "#276419"
            ]
           ],
           "sequential": [
            [
             0,
             "#0d0887"
            ],
            [
             0.1111111111111111,
             "#46039f"
            ],
            [
             0.2222222222222222,
             "#7201a8"
            ],
            [
             0.3333333333333333,
             "#9c179e"
            ],
            [
             0.4444444444444444,
             "#bd3786"
            ],
            [
             0.5555555555555556,
             "#d8576b"
            ],
            [
             0.6666666666666666,
             "#ed7953"
            ],
            [
             0.7777777777777778,
             "#fb9f3a"
            ],
            [
             0.8888888888888888,
             "#fdca26"
            ],
            [
             1,
             "#f0f921"
            ]
           ],
           "sequentialminus": [
            [
             0,
             "#0d0887"
            ],
            [
             0.1111111111111111,
             "#46039f"
            ],
            [
             0.2222222222222222,
             "#7201a8"
            ],
            [
             0.3333333333333333,
             "#9c179e"
            ],
            [
             0.4444444444444444,
             "#bd3786"
            ],
            [
             0.5555555555555556,
             "#d8576b"
            ],
            [
             0.6666666666666666,
             "#ed7953"
            ],
            [
             0.7777777777777778,
             "#fb9f3a"
            ],
            [
             0.8888888888888888,
             "#fdca26"
            ],
            [
             1,
             "#f0f921"
            ]
           ]
          },
          "colorway": [
           "#636efa",
           "#EF553B",
           "#00cc96",
           "#ab63fa",
           "#FFA15A",
           "#19d3f3",
           "#FF6692",
           "#B6E880",
           "#FF97FF",
           "#FECB52"
          ],
          "font": {
           "color": "#2a3f5f"
          },
          "geo": {
           "bgcolor": "white",
           "lakecolor": "white",
           "landcolor": "#E5ECF6",
           "showlakes": true,
           "showland": true,
           "subunitcolor": "white"
          },
          "hoverlabel": {
           "align": "left"
          },
          "hovermode": "closest",
          "mapbox": {
           "style": "light"
          },
          "paper_bgcolor": "white",
          "plot_bgcolor": "#E5ECF6",
          "polar": {
           "angularaxis": {
            "gridcolor": "white",
            "linecolor": "white",
            "ticks": ""
           },
           "bgcolor": "#E5ECF6",
           "radialaxis": {
            "gridcolor": "white",
            "linecolor": "white",
            "ticks": ""
           }
          },
          "scene": {
           "xaxis": {
            "backgroundcolor": "#E5ECF6",
            "gridcolor": "white",
            "gridwidth": 2,
            "linecolor": "white",
            "showbackground": true,
            "ticks": "",
            "zerolinecolor": "white"
           },
           "yaxis": {
            "backgroundcolor": "#E5ECF6",
            "gridcolor": "white",
            "gridwidth": 2,
            "linecolor": "white",
            "showbackground": true,
            "ticks": "",
            "zerolinecolor": "white"
           },
           "zaxis": {
            "backgroundcolor": "#E5ECF6",
            "gridcolor": "white",
            "gridwidth": 2,
            "linecolor": "white",
            "showbackground": true,
            "ticks": "",
            "zerolinecolor": "white"
           }
          },
          "shapedefaults": {
           "line": {
            "color": "#2a3f5f"
           }
          },
          "ternary": {
           "aaxis": {
            "gridcolor": "white",
            "linecolor": "white",
            "ticks": ""
           },
           "baxis": {
            "gridcolor": "white",
            "linecolor": "white",
            "ticks": ""
           },
           "bgcolor": "#E5ECF6",
           "caxis": {
            "gridcolor": "white",
            "linecolor": "white",
            "ticks": ""
           }
          },
          "title": {
           "x": 0.05
          },
          "xaxis": {
           "automargin": true,
           "gridcolor": "white",
           "linecolor": "white",
           "ticks": "",
           "title": {
            "standoff": 15
           },
           "zerolinecolor": "white",
           "zerolinewidth": 2
          },
          "yaxis": {
           "automargin": true,
           "gridcolor": "white",
           "linecolor": "white",
           "ticks": "",
           "title": {
            "standoff": 15
           },
           "zerolinecolor": "white",
           "zerolinewidth": 2
          }
         }
        }
       }
      }
     },
     "metadata": {},
     "output_type": "display_data"
    }
   ],
   "source": [
    "meat= nutrients[nutrients['Category'].isin(['Fish Seafood','Meat Poultry'])]\n",
    "meats_top=drinks.sort_values(by='Protein', ascending= False)\n",
    "meats_top=meats_top.head(10)\n",
    "\n",
    "fig = go.Figure(go.Pie(values=meats_top['Protein'].values, text=meats_top['Food'],\n",
    "                              title = { \"text\": \"Desserts with high calorie percentages\"},\n",
    "               marker = {\"colors\": [\"maroon\", \"salmon\", \"tan\", \"gold\", \"silver\",\"deepskyblue\", \"lightsalmon\", \"tan\", \"teal\", \"silver\"],\n",
    "                \"line\": {\"color\": [\"wheat\", \"wheat\", \"blue\", \"wheat\", \"wheat\",\"wheat\", \"wheat\", \"blue\", \"wheat\", \"wheat\"]}}))\n",
    "fig.show()"
   ]
  },
  {
   "cell_type": "markdown",
   "metadata": {},
   "source": [
    "Oysters have a large amount of proteins, after them the flatfish flounders have about 6.59% protein."
   ]
  },
  {
   "cell_type": "markdown",
   "metadata": {},
   "source": [
    "Fattiest of the fishes"
   ]
  },
  {
   "cell_type": "code",
   "execution_count": 19,
   "metadata": {
    "trusted": true
   },
   "outputs": [
    {
     "data": {
      "application/vnd.plotly.v1+json": {
       "config": {
        "plotlyServerURL": "https://plot.ly"
       },
       "data": [
        {
         "marker": {
          "size": [
           200,
           180,
           160,
           140,
           120,
           100,
           80,
           60,
           40,
           20
          ]
         },
         "mode": "markers",
         "type": "scatter",
         "x": [
          "Oysters",
          "Pork sausage",
          "Roast beef",
          "Lamb chop broiled",
          "Pot-pie",
          "Duck domestic",
          "Steak",
          "Pork roast",
          "Shoulder braised",
          "Ham pan-broiled"
         ],
         "y": [
          233,
          44,
          36,
          35,
          28,
          28,
          27,
          24,
          23,
          22
         ]
        }
       ],
       "layout": {
        "template": {
         "data": {
          "bar": [
           {
            "error_x": {
             "color": "#2a3f5f"
            },
            "error_y": {
             "color": "#2a3f5f"
            },
            "marker": {
             "line": {
              "color": "#E5ECF6",
              "width": 0.5
             },
             "pattern": {
              "fillmode": "overlay",
              "size": 10,
              "solidity": 0.2
             }
            },
            "type": "bar"
           }
          ],
          "barpolar": [
           {
            "marker": {
             "line": {
              "color": "#E5ECF6",
              "width": 0.5
             },
             "pattern": {
              "fillmode": "overlay",
              "size": 10,
              "solidity": 0.2
             }
            },
            "type": "barpolar"
           }
          ],
          "carpet": [
           {
            "aaxis": {
             "endlinecolor": "#2a3f5f",
             "gridcolor": "white",
             "linecolor": "white",
             "minorgridcolor": "white",
             "startlinecolor": "#2a3f5f"
            },
            "baxis": {
             "endlinecolor": "#2a3f5f",
             "gridcolor": "white",
             "linecolor": "white",
             "minorgridcolor": "white",
             "startlinecolor": "#2a3f5f"
            },
            "type": "carpet"
           }
          ],
          "choropleth": [
           {
            "colorbar": {
             "outlinewidth": 0,
             "ticks": ""
            },
            "type": "choropleth"
           }
          ],
          "contour": [
           {
            "colorbar": {
             "outlinewidth": 0,
             "ticks": ""
            },
            "colorscale": [
             [
              0,
              "#0d0887"
             ],
             [
              0.1111111111111111,
              "#46039f"
             ],
             [
              0.2222222222222222,
              "#7201a8"
             ],
             [
              0.3333333333333333,
              "#9c179e"
             ],
             [
              0.4444444444444444,
              "#bd3786"
             ],
             [
              0.5555555555555556,
              "#d8576b"
             ],
             [
              0.6666666666666666,
              "#ed7953"
             ],
             [
              0.7777777777777778,
              "#fb9f3a"
             ],
             [
              0.8888888888888888,
              "#fdca26"
             ],
             [
              1,
              "#f0f921"
             ]
            ],
            "type": "contour"
           }
          ],
          "contourcarpet": [
           {
            "colorbar": {
             "outlinewidth": 0,
             "ticks": ""
            },
            "type": "contourcarpet"
           }
          ],
          "heatmap": [
           {
            "colorbar": {
             "outlinewidth": 0,
             "ticks": ""
            },
            "colorscale": [
             [
              0,
              "#0d0887"
             ],
             [
              0.1111111111111111,
              "#46039f"
             ],
             [
              0.2222222222222222,
              "#7201a8"
             ],
             [
              0.3333333333333333,
              "#9c179e"
             ],
             [
              0.4444444444444444,
              "#bd3786"
             ],
             [
              0.5555555555555556,
              "#d8576b"
             ],
             [
              0.6666666666666666,
              "#ed7953"
             ],
             [
              0.7777777777777778,
              "#fb9f3a"
             ],
             [
              0.8888888888888888,
              "#fdca26"
             ],
             [
              1,
              "#f0f921"
             ]
            ],
            "type": "heatmap"
           }
          ],
          "heatmapgl": [
           {
            "colorbar": {
             "outlinewidth": 0,
             "ticks": ""
            },
            "colorscale": [
             [
              0,
              "#0d0887"
             ],
             [
              0.1111111111111111,
              "#46039f"
             ],
             [
              0.2222222222222222,
              "#7201a8"
             ],
             [
              0.3333333333333333,
              "#9c179e"
             ],
             [
              0.4444444444444444,
              "#bd3786"
             ],
             [
              0.5555555555555556,
              "#d8576b"
             ],
             [
              0.6666666666666666,
              "#ed7953"
             ],
             [
              0.7777777777777778,
              "#fb9f3a"
             ],
             [
              0.8888888888888888,
              "#fdca26"
             ],
             [
              1,
              "#f0f921"
             ]
            ],
            "type": "heatmapgl"
           }
          ],
          "histogram": [
           {
            "marker": {
             "pattern": {
              "fillmode": "overlay",
              "size": 10,
              "solidity": 0.2
             }
            },
            "type": "histogram"
           }
          ],
          "histogram2d": [
           {
            "colorbar": {
             "outlinewidth": 0,
             "ticks": ""
            },
            "colorscale": [
             [
              0,
              "#0d0887"
             ],
             [
              0.1111111111111111,
              "#46039f"
             ],
             [
              0.2222222222222222,
              "#7201a8"
             ],
             [
              0.3333333333333333,
              "#9c179e"
             ],
             [
              0.4444444444444444,
              "#bd3786"
             ],
             [
              0.5555555555555556,
              "#d8576b"
             ],
             [
              0.6666666666666666,
              "#ed7953"
             ],
             [
              0.7777777777777778,
              "#fb9f3a"
             ],
             [
              0.8888888888888888,
              "#fdca26"
             ],
             [
              1,
              "#f0f921"
             ]
            ],
            "type": "histogram2d"
           }
          ],
          "histogram2dcontour": [
           {
            "colorbar": {
             "outlinewidth": 0,
             "ticks": ""
            },
            "colorscale": [
             [
              0,
              "#0d0887"
             ],
             [
              0.1111111111111111,
              "#46039f"
             ],
             [
              0.2222222222222222,
              "#7201a8"
             ],
             [
              0.3333333333333333,
              "#9c179e"
             ],
             [
              0.4444444444444444,
              "#bd3786"
             ],
             [
              0.5555555555555556,
              "#d8576b"
             ],
             [
              0.6666666666666666,
              "#ed7953"
             ],
             [
              0.7777777777777778,
              "#fb9f3a"
             ],
             [
              0.8888888888888888,
              "#fdca26"
             ],
             [
              1,
              "#f0f921"
             ]
            ],
            "type": "histogram2dcontour"
           }
          ],
          "mesh3d": [
           {
            "colorbar": {
             "outlinewidth": 0,
             "ticks": ""
            },
            "type": "mesh3d"
           }
          ],
          "parcoords": [
           {
            "line": {
             "colorbar": {
              "outlinewidth": 0,
              "ticks": ""
             }
            },
            "type": "parcoords"
           }
          ],
          "pie": [
           {
            "automargin": true,
            "type": "pie"
           }
          ],
          "scatter": [
           {
            "fillpattern": {
             "fillmode": "overlay",
             "size": 10,
             "solidity": 0.2
            },
            "type": "scatter"
           }
          ],
          "scatter3d": [
           {
            "line": {
             "colorbar": {
              "outlinewidth": 0,
              "ticks": ""
             }
            },
            "marker": {
             "colorbar": {
              "outlinewidth": 0,
              "ticks": ""
             }
            },
            "type": "scatter3d"
           }
          ],
          "scattercarpet": [
           {
            "marker": {
             "colorbar": {
              "outlinewidth": 0,
              "ticks": ""
             }
            },
            "type": "scattercarpet"
           }
          ],
          "scattergeo": [
           {
            "marker": {
             "colorbar": {
              "outlinewidth": 0,
              "ticks": ""
             }
            },
            "type": "scattergeo"
           }
          ],
          "scattergl": [
           {
            "marker": {
             "colorbar": {
              "outlinewidth": 0,
              "ticks": ""
             }
            },
            "type": "scattergl"
           }
          ],
          "scattermapbox": [
           {
            "marker": {
             "colorbar": {
              "outlinewidth": 0,
              "ticks": ""
             }
            },
            "type": "scattermapbox"
           }
          ],
          "scatterpolar": [
           {
            "marker": {
             "colorbar": {
              "outlinewidth": 0,
              "ticks": ""
             }
            },
            "type": "scatterpolar"
           }
          ],
          "scatterpolargl": [
           {
            "marker": {
             "colorbar": {
              "outlinewidth": 0,
              "ticks": ""
             }
            },
            "type": "scatterpolargl"
           }
          ],
          "scatterternary": [
           {
            "marker": {
             "colorbar": {
              "outlinewidth": 0,
              "ticks": ""
             }
            },
            "type": "scatterternary"
           }
          ],
          "surface": [
           {
            "colorbar": {
             "outlinewidth": 0,
             "ticks": ""
            },
            "colorscale": [
             [
              0,
              "#0d0887"
             ],
             [
              0.1111111111111111,
              "#46039f"
             ],
             [
              0.2222222222222222,
              "#7201a8"
             ],
             [
              0.3333333333333333,
              "#9c179e"
             ],
             [
              0.4444444444444444,
              "#bd3786"
             ],
             [
              0.5555555555555556,
              "#d8576b"
             ],
             [
              0.6666666666666666,
              "#ed7953"
             ],
             [
              0.7777777777777778,
              "#fb9f3a"
             ],
             [
              0.8888888888888888,
              "#fdca26"
             ],
             [
              1,
              "#f0f921"
             ]
            ],
            "type": "surface"
           }
          ],
          "table": [
           {
            "cells": {
             "fill": {
              "color": "#EBF0F8"
             },
             "line": {
              "color": "white"
             }
            },
            "header": {
             "fill": {
              "color": "#C8D4E3"
             },
             "line": {
              "color": "white"
             }
            },
            "type": "table"
           }
          ]
         },
         "layout": {
          "annotationdefaults": {
           "arrowcolor": "#2a3f5f",
           "arrowhead": 0,
           "arrowwidth": 1
          },
          "autotypenumbers": "strict",
          "coloraxis": {
           "colorbar": {
            "outlinewidth": 0,
            "ticks": ""
           }
          },
          "colorscale": {
           "diverging": [
            [
             0,
             "#8e0152"
            ],
            [
             0.1,
             "#c51b7d"
            ],
            [
             0.2,
             "#de77ae"
            ],
            [
             0.3,
             "#f1b6da"
            ],
            [
             0.4,
             "#fde0ef"
            ],
            [
             0.5,
             "#f7f7f7"
            ],
            [
             0.6,
             "#e6f5d0"
            ],
            [
             0.7,
             "#b8e186"
            ],
            [
             0.8,
             "#7fbc41"
            ],
            [
             0.9,
             "#4d9221"
            ],
            [
             1,
             "#276419"
            ]
           ],
           "sequential": [
            [
             0,
             "#0d0887"
            ],
            [
             0.1111111111111111,
             "#46039f"
            ],
            [
             0.2222222222222222,
             "#7201a8"
            ],
            [
             0.3333333333333333,
             "#9c179e"
            ],
            [
             0.4444444444444444,
             "#bd3786"
            ],
            [
             0.5555555555555556,
             "#d8576b"
            ],
            [
             0.6666666666666666,
             "#ed7953"
            ],
            [
             0.7777777777777778,
             "#fb9f3a"
            ],
            [
             0.8888888888888888,
             "#fdca26"
            ],
            [
             1,
             "#f0f921"
            ]
           ],
           "sequentialminus": [
            [
             0,
             "#0d0887"
            ],
            [
             0.1111111111111111,
             "#46039f"
            ],
            [
             0.2222222222222222,
             "#7201a8"
            ],
            [
             0.3333333333333333,
             "#9c179e"
            ],
            [
             0.4444444444444444,
             "#bd3786"
            ],
            [
             0.5555555555555556,
             "#d8576b"
            ],
            [
             0.6666666666666666,
             "#ed7953"
            ],
            [
             0.7777777777777778,
             "#fb9f3a"
            ],
            [
             0.8888888888888888,
             "#fdca26"
            ],
            [
             1,
             "#f0f921"
            ]
           ]
          },
          "colorway": [
           "#636efa",
           "#EF553B",
           "#00cc96",
           "#ab63fa",
           "#FFA15A",
           "#19d3f3",
           "#FF6692",
           "#B6E880",
           "#FF97FF",
           "#FECB52"
          ],
          "font": {
           "color": "#2a3f5f"
          },
          "geo": {
           "bgcolor": "white",
           "lakecolor": "white",
           "landcolor": "#E5ECF6",
           "showlakes": true,
           "showland": true,
           "subunitcolor": "white"
          },
          "hoverlabel": {
           "align": "left"
          },
          "hovermode": "closest",
          "mapbox": {
           "style": "light"
          },
          "paper_bgcolor": "white",
          "plot_bgcolor": "#E5ECF6",
          "polar": {
           "angularaxis": {
            "gridcolor": "white",
            "linecolor": "white",
            "ticks": ""
           },
           "bgcolor": "#E5ECF6",
           "radialaxis": {
            "gridcolor": "white",
            "linecolor": "white",
            "ticks": ""
           }
          },
          "scene": {
           "xaxis": {
            "backgroundcolor": "#E5ECF6",
            "gridcolor": "white",
            "gridwidth": 2,
            "linecolor": "white",
            "showbackground": true,
            "ticks": "",
            "zerolinecolor": "white"
           },
           "yaxis": {
            "backgroundcolor": "#E5ECF6",
            "gridcolor": "white",
            "gridwidth": 2,
            "linecolor": "white",
            "showbackground": true,
            "ticks": "",
            "zerolinecolor": "white"
           },
           "zaxis": {
            "backgroundcolor": "#E5ECF6",
            "gridcolor": "white",
            "gridwidth": 2,
            "linecolor": "white",
            "showbackground": true,
            "ticks": "",
            "zerolinecolor": "white"
           }
          },
          "shapedefaults": {
           "line": {
            "color": "#2a3f5f"
           }
          },
          "ternary": {
           "aaxis": {
            "gridcolor": "white",
            "linecolor": "white",
            "ticks": ""
           },
           "baxis": {
            "gridcolor": "white",
            "linecolor": "white",
            "ticks": ""
           },
           "bgcolor": "#E5ECF6",
           "caxis": {
            "gridcolor": "white",
            "linecolor": "white",
            "ticks": ""
           }
          },
          "title": {
           "x": 0.05
          },
          "xaxis": {
           "automargin": true,
           "gridcolor": "white",
           "linecolor": "white",
           "ticks": "",
           "title": {
            "standoff": 15
           },
           "zerolinecolor": "white",
           "zerolinewidth": 2
          },
          "yaxis": {
           "automargin": true,
           "gridcolor": "white",
           "linecolor": "white",
           "ticks": "",
           "title": {
            "standoff": 15
           },
           "zerolinecolor": "white",
           "zerolinewidth": 2
          }
         }
        },
        "title": {
         "text": "Meat/Seafood with high Fat Content"
        }
       }
      }
     },
     "metadata": {},
     "output_type": "display_data"
    }
   ],
   "source": [
    "top_10_fattest= meat.sort_values(by='Fat', ascending=False)\n",
    "top_10_fattest=top_10_fattest.head(10)\n",
    "fig = go.Figure(data=[go.Scatter(\n",
    "    x=top_10_fattest['Food'], y=top_10_fattest['Fat'],\n",
    "    mode='markers',\n",
    "    marker_size=[200,180,160,140,120, 100 ,80 , 60 ,40,20])\n",
    "])\n",
    "fig.update_layout(title='Meat/Seafood with high Fat Content')\n",
    "fig.show()"
   ]
  },
  {
   "cell_type": "markdown",
   "metadata": {},
   "source": [
    "So, only have high protein as well as high fat percentage. Pork sausages are the second highest followed by Roast beef. Also, no type of fish is present in the top 10 fattiest meats list. So, fishes tend to have less fat, I suppose."
   ]
  },
  {
   "cell_type": "markdown",
   "metadata": {},
   "source": [
    "## Lastly, let us find the meat with most fiber"
   ]
  },
  {
   "cell_type": "code",
   "execution_count": 20,
   "metadata": {
    "trusted": true
   },
   "outputs": [
    {
     "data": {
      "text/html": [
       "<div>\n",
       "<style scoped>\n",
       "    .dataframe tbody tr th:only-of-type {\n",
       "        vertical-align: middle;\n",
       "    }\n",
       "\n",
       "    .dataframe tbody tr th {\n",
       "        vertical-align: top;\n",
       "    }\n",
       "\n",
       "    .dataframe thead th {\n",
       "        text-align: right;\n",
       "    }\n",
       "</style>\n",
       "<table border=\"1\" class=\"dataframe\">\n",
       "  <thead>\n",
       "    <tr style=\"text-align: right;\">\n",
       "      <th></th>\n",
       "      <th>Food</th>\n",
       "      <th>Measure</th>\n",
       "      <th>Grams</th>\n",
       "      <th>Calories</th>\n",
       "      <th>Protein</th>\n",
       "      <th>Fat</th>\n",
       "      <th>Sat.Fat</th>\n",
       "      <th>Fiber</th>\n",
       "      <th>Carbs</th>\n",
       "      <th>Category</th>\n",
       "    </tr>\n",
       "  </thead>\n",
       "  <tbody>\n",
       "    <tr>\n",
       "      <th>82</th>\n",
       "      <td>Oysters</td>\n",
       "      <td>6-8 med.</td>\n",
       "      <td>230</td>\n",
       "      <td>231.0</td>\n",
       "      <td>232</td>\n",
       "      <td>233</td>\n",
       "      <td>234.0</td>\n",
       "      <td>235.0</td>\n",
       "      <td>236.0</td>\n",
       "      <td>Fish Seafood</td>\n",
       "    </tr>\n",
       "    <tr>\n",
       "      <th>43</th>\n",
       "      <td>Bacon</td>\n",
       "      <td>2 slices</td>\n",
       "      <td>16</td>\n",
       "      <td>95.0</td>\n",
       "      <td>4</td>\n",
       "      <td>8</td>\n",
       "      <td>7.0</td>\n",
       "      <td>0.0</td>\n",
       "      <td>1.0</td>\n",
       "      <td>Meat Poultry</td>\n",
       "    </tr>\n",
       "    <tr>\n",
       "      <th>78</th>\n",
       "      <td>Halibut</td>\n",
       "      <td>3 1/2 oz.</td>\n",
       "      <td>100</td>\n",
       "      <td>182.0</td>\n",
       "      <td>26</td>\n",
       "      <td>8</td>\n",
       "      <td>0.0</td>\n",
       "      <td>0.0</td>\n",
       "      <td>0.0</td>\n",
       "      <td>Fish Seafood</td>\n",
       "    </tr>\n",
       "    <tr>\n",
       "      <th>69</th>\n",
       "      <td>Turkey</td>\n",
       "      <td>3 1/2 oz.</td>\n",
       "      <td>100</td>\n",
       "      <td>265.0</td>\n",
       "      <td>27</td>\n",
       "      <td>15</td>\n",
       "      <td>0.0</td>\n",
       "      <td>0.0</td>\n",
       "      <td>0.0</td>\n",
       "      <td>Meat Poultry</td>\n",
       "    </tr>\n",
       "    <tr>\n",
       "      <th>70</th>\n",
       "      <td>Veal</td>\n",
       "      <td>3 oz.</td>\n",
       "      <td>85</td>\n",
       "      <td>185.0</td>\n",
       "      <td>23</td>\n",
       "      <td>9</td>\n",
       "      <td>8.0</td>\n",
       "      <td>0.0</td>\n",
       "      <td>0.0</td>\n",
       "      <td>Meat Poultry</td>\n",
       "    </tr>\n",
       "    <tr>\n",
       "      <th>71</th>\n",
       "      <td>Roast</td>\n",
       "      <td>3 oz.</td>\n",
       "      <td>85</td>\n",
       "      <td>305.0</td>\n",
       "      <td>13</td>\n",
       "      <td>14</td>\n",
       "      <td>13.0</td>\n",
       "      <td>0.0</td>\n",
       "      <td>0.0</td>\n",
       "      <td>Meat Poultry</td>\n",
       "    </tr>\n",
       "    <tr>\n",
       "      <th>72</th>\n",
       "      <td>Clams</td>\n",
       "      <td>3 oz.</td>\n",
       "      <td>85</td>\n",
       "      <td>87.0</td>\n",
       "      <td>12</td>\n",
       "      <td>1</td>\n",
       "      <td>0.0</td>\n",
       "      <td>0.0</td>\n",
       "      <td>2.0</td>\n",
       "      <td>Fish Seafood</td>\n",
       "    </tr>\n",
       "    <tr>\n",
       "      <th>73</th>\n",
       "      <td>Cod</td>\n",
       "      <td>3 1/2 oz.</td>\n",
       "      <td>100</td>\n",
       "      <td>170.0</td>\n",
       "      <td>28</td>\n",
       "      <td>5</td>\n",
       "      <td>0.0</td>\n",
       "      <td>0.0</td>\n",
       "      <td>0.0</td>\n",
       "      <td>Fish Seafood</td>\n",
       "    </tr>\n",
       "    <tr>\n",
       "      <th>74</th>\n",
       "      <td>Crab meat</td>\n",
       "      <td>3 oz.</td>\n",
       "      <td>85</td>\n",
       "      <td>90.0</td>\n",
       "      <td>14</td>\n",
       "      <td>2</td>\n",
       "      <td>0.0</td>\n",
       "      <td>0.0</td>\n",
       "      <td>1.0</td>\n",
       "      <td>Fish Seafood</td>\n",
       "    </tr>\n",
       "    <tr>\n",
       "      <th>75</th>\n",
       "      <td>Fish sticks fried</td>\n",
       "      <td>5</td>\n",
       "      <td>112</td>\n",
       "      <td>200.0</td>\n",
       "      <td>19</td>\n",
       "      <td>10</td>\n",
       "      <td>5.0</td>\n",
       "      <td>0.0</td>\n",
       "      <td>8.0</td>\n",
       "      <td>Fish Seafood</td>\n",
       "    </tr>\n",
       "  </tbody>\n",
       "</table>\n",
       "</div>"
      ],
      "text/plain": [
       "                 Food    Measure  Grams  Calories  Protein  Fat  Sat.Fat  \\\n",
       "82            Oysters   6-8 med.    230     231.0      232  233    234.0   \n",
       "43              Bacon   2 slices     16      95.0        4    8      7.0   \n",
       "78            Halibut  3 1/2 oz.    100     182.0       26    8      0.0   \n",
       "69             Turkey  3 1/2 oz.    100     265.0       27   15      0.0   \n",
       "70               Veal      3 oz.     85     185.0       23    9      8.0   \n",
       "71              Roast      3 oz.     85     305.0       13   14     13.0   \n",
       "72              Clams      3 oz.     85      87.0       12    1      0.0   \n",
       "73                Cod  3 1/2 oz.    100     170.0       28    5      0.0   \n",
       "74          Crab meat      3 oz.     85      90.0       14    2      0.0   \n",
       "75  Fish sticks fried          5    112     200.0       19   10      5.0   \n",
       "\n",
       "    Fiber  Carbs      Category  \n",
       "82  235.0  236.0  Fish Seafood  \n",
       "43    0.0    1.0  Meat Poultry  \n",
       "78    0.0    0.0  Fish Seafood  \n",
       "69    0.0    0.0  Meat Poultry  \n",
       "70    0.0    0.0  Meat Poultry  \n",
       "71    0.0    0.0  Meat Poultry  \n",
       "72    0.0    2.0  Fish Seafood  \n",
       "73    0.0    0.0  Fish Seafood  \n",
       "74    0.0    1.0  Fish Seafood  \n",
       "75    0.0    8.0  Fish Seafood  "
      ]
     },
     "execution_count": 20,
     "metadata": {},
     "output_type": "execute_result"
    }
   ],
   "source": [
    "top_10_fibrous= meat.sort_values(by='Fiber', ascending=False)\n",
    "top_10_fibrous=top_10_fibrous.head(10)\n",
    "top_10_fibrous"
   ]
  },
  {
   "cell_type": "markdown",
   "metadata": {},
   "source": [
    "Bacon, Halibut, Turkey and veal top the charts in terms of Fiber content."
   ]
  },
  {
   "cell_type": "markdown",
   "metadata": {},
   "source": [
    "## 3D Scatter Plots\n"
   ]
  },
  {
   "cell_type": "code",
   "execution_count": 21,
   "metadata": {
    "trusted": true
   },
   "outputs": [
    {
     "data": {
      "application/vnd.plotly.v1+json": {
       "config": {
        "linkText": "Export to plot.ly",
        "plotlyServerURL": "https://plot.ly",
        "showLink": false
       },
       "data": [
        {
         "marker": {
          "color": [
           40,
           0,
           5,
           20,
           42,
           28,
           0,
           0,
           10,
           24,
           11,
           4,
           10,
           14,
           18,
           10,
           15,
           44,
           11,
           0,
           6,
           19,
           11,
           9,
           9,
           8,
           12,
           16,
           10,
           11,
           115,
           115,
           100,
           110,
           91,
           11,
           12,
           14,
           14,
           14,
           6,
           8,
           8,
           16,
           17,
           10,
           36,
           27,
           12,
           10,
           8,
           4,
           28,
           10,
           9,
           15,
           20,
           14,
           28,
           35,
           14,
           23,
           21,
           22,
           13,
           14,
           24,
           44,
           15,
           9,
           14,
           1,
           5,
           2,
           10,
           8,
           5,
           8,
           13,
           1,
           233,
           6,
           5,
           9,
           8,
           10,
           1,
           6,
           7,
           0,
           0,
           0,
           0,
           0,
           6,
           1,
           0,
           0,
           0,
           0,
           0,
           0,
           0,
           0,
           0,
           0,
           0,
           0,
           0,
           0,
           1,
           0,
           0,
           1,
           0,
           0,
           1,
           0,
           0,
           0,
           0,
           0,
           0,
           0,
           0,
           0,
           0,
           0,
           1,
           0,
           0,
           0,
           0,
           0,
           0,
           9,
           0,
           7,
           12,
           14,
           8,
           0,
           7,
           0,
           0,
           11,
           0,
           0,
           0,
           1,
           6,
           0,
           0,
           0,
           0,
           1,
           0,
           0,
           0,
           0,
           0,
           0,
           0,
           0,
           0,
           0,
           18,
           0,
           1,
           0,
           0,
           1,
           0,
           0,
           0,
           0,
           0,
           0,
           0,
           0,
           0,
           0,
           0,
           0,
           0,
           0,
           0,
           0,
           10,
           13,
           0,
           0,
           0,
           0,
           0,
           0,
           0,
           1,
           0,
           0,
           0,
           0,
           0,
           0,
           0,
           1,
           0,
           0,
           0,
           0,
           0,
           0,
           0,
           0,
           1,
           4,
           0,
           1,
           1,
           15,
           14,
           1,
           4,
           0,
           0,
           4,
           1,
           1,
           0,
           22,
           1,
           2,
           1,
           25,
           5,
           2,
           3,
           9,
           9,
           6,
           7,
           0,
           0,
           3,
           0,
           0,
           0,
           6,
           12,
           2,
           1,
           10,
           5,
           4,
           1,
           9,
           7,
           7,
           1,
           1,
           5,
           4,
           0,
           2,
           2,
           12,
           4,
           3,
           7,
           2,
           4,
           12,
           0,
           14,
           3,
           4,
           7,
           5,
           2,
           3,
           4,
           12,
           0,
           0,
           6,
           0,
           7,
           0,
           0,
           0,
           0,
           0,
           0,
           0,
           0,
           13,
           13,
           11,
           12,
           9,
           12,
           0,
           0,
           0,
           0,
           0,
           10,
           38,
           40,
           47,
           32,
           20,
           25,
           24,
           25,
           35,
           24,
           26,
           32,
           0,
           0,
           0,
           0,
           0,
           0,
           0,
           0,
           0,
           0,
           0,
           0
          ],
          "colorbar": {
           "title": {
            "text": "Total Fat (% Daily Value)"
           }
          },
          "colorscale": [
           [
            0,
            "rgb(12,51,131)"
           ],
           [
            0.25,
            "rgb(10,136,186)"
           ],
           [
            0.5,
            "rgb(242,211,56)"
           ],
           [
            0.75,
            "rgb(242,143,56)"
           ],
           [
            1,
            "rgb(217,30,30)"
           ]
          ],
          "line": {
           "color": "rgb(255, 255, 255)"
          },
          "sizemode": "diameter",
          "sizeref": 750
         },
         "mode": "markers",
         "text": [
          "Cows' milk",
          "Milk skim",
          "Buttermilk",
          "Evaporated undiluted",
          "Fortified milk",
          "Powdered milk",
          "skim instant",
          "skim non-instant",
          "Goats' milk",
          "(1/2 cup ice cream)",
          "Cocoa",
          "skim. milk",
          "(cornstarch)",
          "Custard",
          "Ice cream",
          "Ice milk",
          "Cream or half-and-half",
          "or whipping",
          "Cheese",
          "uncreamed",
          "Cheddar",
          "Cheddar grated cup",
          "Cream cheese",
          "Processed cheese",
          "Roquefort type",
          "Swiss",
          "Eggs raw",
          "Eggs Scrambled or fried",
          "Yolks",
          "Butter",
          "Butter",
          "Butter",
          "Hydrogenated cooking fat",
          "Lard",
          "Margarine",
          "Margarine 2 pat or",
          "Mayonnaise",
          "Corn oil",
          "Olive oil",
          "Safflower seed oil",
          "French dressing",
          "Thousand Island sauce",
          "Bacon",
          "Beef",
          "Hamburger",
          "Ground lean",
          "Roast beef",
          "Steak",
          "Steak lean as round",
          "Corned beef",
          "Corned beef hash canned",
          "Corned beef hash Dried",
          "Pot-pie",
          "Corned beef hash Stew",
          "chicken",
          "Fried breast or leg and thigh chicken",
          "Roasted chicken",
          "Chicken livers fried",
          "Duck domestic",
          "Lamb chop broiled",
          "Leg roasted",
          "Shoulder braised",
          "Pork chop 1 thick",
          "Ham pan-broiled",
          "Ham as ",
          "Ham canned spiced",
          "Pork roast",
          "Pork sausage",
          "Turkey",
          "Veal",
          "Roast",
          "Clams",
          "Cod",
          "Crab meat",
          "Fish sticks fried",
          "Flounder",
          "Haddock",
          "Halibut",
          "Herring",
          "Lobster",
          "Oysters",
          "Oyster stew",
          "Salmon",
          "Sardines",
          "Scallops",
          "Shad",
          "Shrimp",
          "Swordfish",
          "Tuna",
          "Artichoke",
          "Asparagus",
          "Beans",
          "Lima",
          "Lima dry cooked",
          "Navy baked with pork",
          "Red kidney",
          "Bean sprouts",
          "Beet greens",
          "Broccoli",
          "Brussels sprouts",
          "Sauerkraut",
          "Steamed cabbage",
          "Carrots",
          "Raw grated",
          "Strips from raw",
          "Cauliflower",
          "Celery",
          "Stalk raw",
          "Chard steamed",
          "Collards",
          "Corn",
          "cooked or canned",
          "Cucumbers",
          "Dandelion greens",
          "Eggplant",
          "Endive",
          "Kale",
          "Kohlrabi",
          "Lambs quarters steamed",
          "Lentils",
          "Lettuce",
          "Iceberg",
          "Mushrooms canned",
          "Mustard greens",
          "Okra",
          "Onions",
          "Raw green",
          "Parsley",
          "Parsnips",
          "Peas",
          "Fresh steamed peas",
          "Split cooked peas",
          "heated peas",
          "Peppers canned",
          "Peppers Raw green sweet",
          "Peppers with beef and crumbs",
          "Potatoes baked",
          "French-fried",
          "Potatoes Mashed with milk and butter",
          "Potatoes pan-tried",
          "Scalloped with cheese potatoes",
          "Steamed potatoes before peeling",
          "Potato chips",
          "Radishes",
          "Rutabagas",
          "Soybeans",
          "Spinach",
          "Squash",
          "Winter mashed",
          "Sweet potatoes",
          "Candied",
          "Tomatoes",
          "Raw 2 by 2 1/2",
          "Tomato juice",
          "Tomato catsup",
          "Turnip greens",
          "Turnips steamed",
          "Watercress stems raw",
          "Apple juice canned",
          "Apple vinegar",
          "Apples raw",
          "Stewed or canned",
          "Apricots",
          "Dried uncooked",
          "Fresh",
          "Nectar or juice",
          "Avocado",
          "Banana",
          "Blackberries",
          "Blueberries",
          "Cantaloupe",
          "Cherries",
          "Fresh raw",
          "Cranberry sauce sweetened",
          "Dates",
          "Figs",
          "Fresh raw figs",
          "figs Canned with syrup ",
          "Fruit cocktail canned",
          "Grapefruit sections",
          "Grapefruit fresh 5\" diameter",
          "Grapefruit juice",
          "Grapes",
          "European as Muscat Tokay",
          "Grape juice",
          "Lemon juice",
          "Lemonade concentratefrozen",
          "Limeade concentrate frozen",
          "Olives large",
          "OlivesRipe",
          "Oranges 3\" diameter",
          "Orange juice",
          "Frozen ",
          "Papaya",
          "Peaches",
          "Fresh raw",
          "Pears",
          "Raw 3 by 2V",
          "Persimmons",
          "Pineapple",
          "Pineapple Crushed",
          "Raw diced",
          "Pineapple juice",
          "Plums",
          "Raw 2\" diameter",
          "Prunes",
          "Prune juice",
          "Raisins",
          "Raspberries",
          "Raw red",
          "Rhubarb sweetened",
          "Strawberries",
          "Raw",
          "Tangerines",
          "Watermelon",
          "Biscuits",
          "Bran flakes",
          "Bread cracked wheat",
          "Rye",
          "White 20 slices or",
          "Whole-wheat",
          "Whole-wheat",
          "Corn bread ground meal",
          "Cornflakes",
          "Corn grits cooked",
          "Corn meal",
          "Crackers",
          "Soda 2 1/2 square",
          "Farina",
          "Flour",
          "Wheat (all purpose)",
          "Wheat (whole)",
          "Macaroni",
          "Baked with cheese",
          "Muffins",
          "Noodles",
          "Oatmeal",
          "Pancakes 4\" diam.",
          "Wheat pancakes 4\" diam.",
          "Pizza 14\" diam.",
          "Popcorn salted",
          "Puffed rice",
          "Puffed wheat presweetened",
          "Rice",
          "Converted",
          "White",
          "Rice flakes",
          "Rice polish",
          "Rolls",
          "of refined flour",
          "whole-wheat",
          "Spaghetti with meat sauce",
          "with tomatoes and cheese",
          "Spanish rice",
          "Shredded wheat biscuit",
          "Waffles",
          "Wheat germ",
          "Wheat-germ cereal toasted",
          "Wheat meal cereal unrefined",
          "Wheat cooked",
          "Bean soups",
          "Beef soup",
          "Bouillon",
          "chicken soup",
          "Clam chowder",
          "Cream soups",
          "Noodle",
          "Split-pea soup",
          "Tomato soup",
          "Vegetable",
          "Apple betty",
          "Bread pudding",
          "Cakes",
          "Chocolate fudge",
          "Cupcake",
          "Fruit cake",
          "Gingerbread",
          "Plain with no icing",
          "Sponge cake",
          "Candy",
          "Chocolate creams",
          "Fudge",
          "Hard candies",
          "Marshmallows",
          "Milk chocolate",
          "Chocolate syrup",
          "Doughnuts",
          "Gelatin made with water",
          "Honey",
          "Ice cream",
          "Ices",
          "preserves",
          "Jellies",
          "Molasses",
          "Cane Syrup",
          "9\" diam. pie",
          "Cherry Pie",
          "Custard",
          "Lemon meringue",
          "Mince",
          "Pumpkin Pie",
          "Puddings Sugar",
          "3 teaspoons sugar",
          "Brown firm-packed dark sugar",
          "Syrup",
          "table blends sugar",
          "Tapioca cream pudding",
          "Almonds",
          "roasted and salted",
          "Brazil nuts",
          "Cashews",
          "coconut sweetened",
          "Peanut butter",
          "Peanut butter natural",
          "Peanuts",
          "Pecans",
          "Sesame seeds",
          "Sunflower seeds",
          "Walnuts",
          "Beer",
          "Gin",
          "Wines",
          "Table (12.2% alcohol)",
          "Carbonated drinks Artificially sweetened",
          "Club soda",
          "Cola drinks",
          "Fruit-flavored soda",
          "Ginger ale",
          "Root beer",
          "Coffee",
          "Tea"
         ],
         "type": "scatter3d",
         "x": [
          "Dairy products",
          "Dairy products",
          "Dairy products",
          "Dairy products",
          "Dairy products",
          "Dairy products",
          "Dairy products",
          "Dairy products",
          "Dairy products",
          "Dairy products",
          "Dairy products",
          "Dairy products",
          "Dairy products",
          "Dairy products",
          "Dairy products",
          "Dairy products",
          "Dairy products",
          "Dairy products",
          "Dairy products",
          "Dairy products",
          "Dairy products",
          "Dairy products",
          "Dairy products",
          "Dairy products",
          "Dairy products",
          "Dairy products",
          "Dairy products",
          "Dairy products",
          "Fats Oils Shortenings",
          "Fats Oils Shortenings",
          "Fats Oils Shortenings",
          "Fats Oils Shortenings",
          "Fats Oils Shortenings",
          "Fats Oils Shortenings",
          "Fats Oils Shortenings",
          "Fats Oils Shortenings",
          "Fats Oils Shortenings",
          "Fats Oils Shortenings",
          "Fats Oils Shortenings",
          "Fats Oils Shortenings",
          "Fats Oils Shortenings",
          "Fats Oils Shortenings",
          "Meat Poultry",
          "Meat Poultry",
          "Meat Poultry",
          "Meat Poultry",
          "Meat Poultry",
          "Meat Poultry",
          "Meat Poultry",
          "Meat Poultry",
          "Meat Poultry",
          "Meat Poultry",
          "Meat Poultry",
          "Meat Poultry",
          "Meat Poultry",
          "Meat Poultry",
          "Meat Poultry",
          "Meat Poultry",
          "Meat Poultry",
          "Meat Poultry",
          "Meat Poultry",
          "Meat Poultry",
          "Meat Poultry",
          "Meat Poultry",
          "Meat Poultry",
          "Meat Poultry",
          "Meat Poultry",
          "Meat Poultry",
          "Meat Poultry",
          "Meat Poultry",
          "Meat Poultry",
          "Fish Seafood",
          "Fish Seafood",
          "Fish Seafood",
          "Fish Seafood",
          "Fish Seafood",
          "Fish Seafood",
          "Fish Seafood",
          "Fish Seafood",
          "Fish Seafood",
          "Fish Seafood",
          "Fish Seafood",
          "Fish Seafood",
          "Fish Seafood",
          "Fish Seafood",
          "Fish Seafood",
          "Fish Seafood",
          "Fish Seafood",
          "Fish Seafood",
          "Vegetables A-E",
          "Vegetables A-E",
          "Vegetables A-E",
          "Vegetables A-E",
          "Vegetables A-E",
          "Vegetables A-E",
          "Vegetables A-E",
          "Vegetables A-E",
          "Vegetables A-E",
          "Vegetables A-E",
          "Vegetables A-E",
          "Vegetables A-E",
          "Vegetables A-E",
          "Vegetables A-E",
          "Vegetables A-E",
          "Vegetables A-E",
          "Vegetables A-E",
          "Vegetables A-E",
          "Vegetables A-E",
          "Vegetables A-E",
          "Vegetables A-E",
          "Vegetables A-E",
          "Vegetables A-E",
          "Vegetables A-E",
          "Vegetables A-E",
          "Vegetables A-E",
          "Vegetables A-E",
          "Vegetables F-P",
          "Vegetables F-P",
          "Vegetables F-P",
          "Vegetables F-P",
          "Vegetables F-P",
          "Vegetables F-P",
          "Vegetables F-P",
          "Vegetables F-P",
          "Vegetables F-P",
          "Vegetables F-P",
          "Vegetables F-P",
          "Vegetables F-P",
          "Vegetables F-P",
          "Vegetables F-P",
          "Vegetables R-Z",
          "Vegetables R-Z",
          "Vegetables R-Z",
          "Vegetables R-Z",
          "Vegetables R-Z",
          "Vegetables R-Z",
          "Vegetables R-Z",
          "Vegetables R-Z",
          "Vegetables R-Z",
          "Vegetables R-Z",
          "Vegetables R-Z",
          "Vegetables R-Z",
          "Vegetables R-Z",
          "Vegetables R-Z",
          "Vegetables R-Z",
          "Vegetables R-Z",
          "Vegetables R-Z",
          "Vegetables R-Z",
          "Vegetables R-Z",
          "Vegetables R-Z",
          "Vegetables R-Z",
          "Vegetables R-Z",
          "Vegetables R-Z",
          "Vegetables R-Z",
          "Vegetables R-Z",
          "Vegetables R-Z",
          "Vegetables R-Z",
          "Fruits A-F",
          "Fruits A-F",
          "Fruits A-F",
          "Fruits A-F",
          "Fruits A-F",
          "Fruits A-F",
          "Fruits A-F",
          "Fruits A-F",
          "Fruits A-F",
          "Fruits A-F",
          "Fruits A-F",
          "Fruits A-F",
          "Fruits A-F",
          "Fruits A-F",
          "Fruits A-F",
          "Fruits A-F",
          "Fruits A-F",
          "Fruits A-F",
          "Fruits A-F",
          "Fruits A-F",
          "Fruits A-F",
          "Fruits A-F",
          "Fruits G-P",
          "Fruits G-P",
          "Fruits G-P",
          "Fruits G-P",
          "Fruits G-P",
          "Fruits G-P",
          "Fruits G-P",
          "Fruits G-P",
          "Fruits G-P",
          "Fruits G-P",
          "Fruits G-P",
          "Fruits G-P",
          "Fruits G-P",
          "Fruits G-P",
          "Fruits G-P",
          "Fruits G-P",
          "Fruits G-P",
          "Fruits G-P",
          "Fruits G-P",
          "Fruits G-P",
          "Fruits G-P",
          "Fruits G-P",
          "Fruits G-P",
          "Fruits G-P",
          "Fruits G-P",
          "Fruits G-P",
          "Fruits G-P",
          "Fruits G-P",
          "Fruits R-Z",
          "Fruits R-Z",
          "Fruits R-Z",
          "Fruits R-Z",
          "Fruits R-Z",
          "Fruits R-Z",
          "Fruits R-Z",
          "Fruits R-Z",
          "Breads cereals fastfoodgrains",
          "Breads cereals fastfoodgrains",
          "Breads cereals fastfoodgrains",
          "Breads cereals fastfoodgrains",
          "Breads cereals fastfoodgrains",
          "Breads cereals fastfoodgrains",
          "Breads cereals fastfoodgrains",
          "Breads cereals fastfoodgrains",
          "Breads cereals fastfoodgrains",
          "Breads cereals fastfoodgrains",
          "Breads cereals fastfoodgrains",
          "Breads cereals fastfoodgrains",
          "Breads cereals fastfoodgrains",
          "Breads cereals fastfoodgrains",
          "Breads cereals fastfoodgrains",
          "Breads cereals fastfoodgrains",
          "Breads cereals fastfoodgrains",
          "Breads cereals fastfoodgrains",
          "Breads cereals fastfoodgrains",
          "Breads cereals fastfoodgrains",
          "Breads cereals fastfoodgrains",
          "Breads cereals fastfoodgrains",
          "Breads cereals fastfoodgrains",
          "Breads cereals fastfoodgrains",
          "Breads cereals fastfoodgrains",
          "Breads cereals fastfoodgrains",
          "Breads cereals fastfoodgrains",
          "Breads cereals fastfoodgrains",
          "Breads cereals fastfoodgrains",
          "Breads cereals fastfoodgrains",
          "Breads cereals fastfoodgrains",
          "Breads cereals fastfoodgrains",
          "Breads cereals fastfoodgrains",
          "Breads cereals fastfoodgrains",
          "Breads cereals fastfoodgrains",
          "Breads cereals fastfoodgrains",
          "Breads cereals fastfoodgrains",
          "Breads cereals fastfoodgrains",
          "Breads cereals fastfoodgrains",
          "Breads cereals fastfoodgrains",
          "Breads cereals fastfoodgrains",
          "Breads cereals fastfoodgrains",
          "Breads cereals fastfoodgrains",
          "Breads cereals fastfoodgrains",
          "Breads cereals fastfoodgrains",
          "Soups",
          "Soups",
          "Soups",
          "Soups",
          "Soups",
          "Soups",
          "Soups",
          "Soups",
          "Soups",
          "Soups",
          "Desserts sweets",
          "Desserts sweets",
          "Desserts sweets",
          "Desserts sweets",
          "Desserts sweets",
          "Desserts sweets",
          "Desserts sweets",
          "Desserts sweets",
          "Desserts sweets",
          "Desserts sweets",
          "Desserts sweets",
          "Desserts sweets",
          "Desserts sweets",
          "Desserts sweets",
          "Desserts sweets",
          "Desserts sweets",
          "Desserts sweets",
          "Desserts sweets",
          "Jams Jellies",
          "Desserts sweets",
          "Desserts sweets",
          "Jams Jellies",
          "Jams Jellies",
          "Jams Jellies",
          "Jams Jellies",
          "Desserts sweets",
          "Desserts sweets",
          "Desserts sweets",
          "Desserts sweets",
          "Desserts sweets",
          "Desserts sweets",
          "Desserts sweets",
          "Desserts sweets",
          "Jams Jellies",
          "Jams Jellies",
          "Jams Jellies",
          "Desserts sweets",
          "Seeds and Nuts",
          "Seeds and Nuts",
          "Seeds and Nuts",
          "Seeds and Nuts",
          "Seeds and Nuts",
          "Seeds and Nuts",
          "Seeds and Nuts",
          "Seeds and Nuts",
          "Seeds and Nuts",
          "Seeds and Nuts",
          "Seeds and Nuts",
          "Seeds and Nuts",
          "DrinksAlcohol Beverages",
          "DrinksAlcohol Beverages",
          "DrinksAlcohol Beverages",
          "DrinksAlcohol Beverages",
          "DrinksAlcohol Beverages",
          "DrinksAlcohol Beverages",
          "DrinksAlcohol Beverages",
          "DrinksAlcohol Beverages",
          "DrinksAlcohol Beverages",
          "DrinksAlcohol Beverages",
          "DrinksAlcohol Beverages",
          "DrinksAlcohol Beverages"
         ],
         "y": [
          "Cows' milk",
          "Milk skim",
          "Buttermilk",
          "Evaporated undiluted",
          "Fortified milk",
          "Powdered milk",
          "skim instant",
          "skim non-instant",
          "Goats' milk",
          "(1/2 cup ice cream)",
          "Cocoa",
          "skim. milk",
          "(cornstarch)",
          "Custard",
          "Ice cream",
          "Ice milk",
          "Cream or half-and-half",
          "or whipping",
          "Cheese",
          "uncreamed",
          "Cheddar",
          "Cheddar grated cup",
          "Cream cheese",
          "Processed cheese",
          "Roquefort type",
          "Swiss",
          "Eggs raw",
          "Eggs Scrambled or fried",
          "Yolks",
          "Butter",
          "Butter",
          "Butter",
          "Hydrogenated cooking fat",
          "Lard",
          "Margarine",
          "Margarine 2 pat or",
          "Mayonnaise",
          "Corn oil",
          "Olive oil",
          "Safflower seed oil",
          "French dressing",
          "Thousand Island sauce",
          "Bacon",
          "Beef",
          "Hamburger",
          "Ground lean",
          "Roast beef",
          "Steak",
          "Steak lean as round",
          "Corned beef",
          "Corned beef hash canned",
          "Corned beef hash Dried",
          "Pot-pie",
          "Corned beef hash Stew",
          "chicken",
          "Fried breast or leg and thigh chicken",
          "Roasted chicken",
          "Chicken livers fried",
          "Duck domestic",
          "Lamb chop broiled",
          "Leg roasted",
          "Shoulder braised",
          "Pork chop 1 thick",
          "Ham pan-broiled",
          "Ham as ",
          "Ham canned spiced",
          "Pork roast",
          "Pork sausage",
          "Turkey",
          "Veal",
          "Roast",
          "Clams",
          "Cod",
          "Crab meat",
          "Fish sticks fried",
          "Flounder",
          "Haddock",
          "Halibut",
          "Herring",
          "Lobster",
          "Oysters",
          "Oyster stew",
          "Salmon",
          "Sardines",
          "Scallops",
          "Shad",
          "Shrimp",
          "Swordfish",
          "Tuna",
          "Artichoke",
          "Asparagus",
          "Beans",
          "Lima",
          "Lima dry cooked",
          "Navy baked with pork",
          "Red kidney",
          "Bean sprouts",
          "Beet greens",
          "Broccoli",
          "Brussels sprouts",
          "Sauerkraut",
          "Steamed cabbage",
          "Carrots",
          "Raw grated",
          "Strips from raw",
          "Cauliflower",
          "Celery",
          "Stalk raw",
          "Chard steamed",
          "Collards",
          "Corn",
          "cooked or canned",
          "Cucumbers",
          "Dandelion greens",
          "Eggplant",
          "Endive",
          "Kale",
          "Kohlrabi",
          "Lambs quarters steamed",
          "Lentils",
          "Lettuce",
          "Iceberg",
          "Mushrooms canned",
          "Mustard greens",
          "Okra",
          "Onions",
          "Raw green",
          "Parsley",
          "Parsnips",
          "Peas",
          "Fresh steamed peas",
          "Split cooked peas",
          "heated peas",
          "Peppers canned",
          "Peppers Raw green sweet",
          "Peppers with beef and crumbs",
          "Potatoes baked",
          "French-fried",
          "Potatoes Mashed with milk and butter",
          "Potatoes pan-tried",
          "Scalloped with cheese potatoes",
          "Steamed potatoes before peeling",
          "Potato chips",
          "Radishes",
          "Rutabagas",
          "Soybeans",
          "Spinach",
          "Squash",
          "Winter mashed",
          "Sweet potatoes",
          "Candied",
          "Tomatoes",
          "Raw 2 by 2 1/2",
          "Tomato juice",
          "Tomato catsup",
          "Turnip greens",
          "Turnips steamed",
          "Watercress stems raw",
          "Apple juice canned",
          "Apple vinegar",
          "Apples raw",
          "Stewed or canned",
          "Apricots",
          "Dried uncooked",
          "Fresh",
          "Nectar or juice",
          "Avocado",
          "Banana",
          "Blackberries",
          "Blueberries",
          "Cantaloupe",
          "Cherries",
          "Fresh raw",
          "Cranberry sauce sweetened",
          "Dates",
          "Figs",
          "Fresh raw figs",
          "figs Canned with syrup ",
          "Fruit cocktail canned",
          "Grapefruit sections",
          "Grapefruit fresh 5\" diameter",
          "Grapefruit juice",
          "Grapes",
          "European as Muscat Tokay",
          "Grape juice",
          "Lemon juice",
          "Lemonade concentratefrozen",
          "Limeade concentrate frozen",
          "Olives large",
          "OlivesRipe",
          "Oranges 3\" diameter",
          "Orange juice",
          "Frozen ",
          "Papaya",
          "Peaches",
          "Fresh raw",
          "Pears",
          "Raw 3 by 2V",
          "Persimmons",
          "Pineapple",
          "Pineapple Crushed",
          "Raw diced",
          "Pineapple juice",
          "Plums",
          "Raw 2\" diameter",
          "Prunes",
          "Prune juice",
          "Raisins",
          "Raspberries",
          "Raw red",
          "Rhubarb sweetened",
          "Strawberries",
          "Raw",
          "Tangerines",
          "Watermelon",
          "Biscuits",
          "Bran flakes",
          "Bread cracked wheat",
          "Rye",
          "White 20 slices or",
          "Whole-wheat",
          "Whole-wheat",
          "Corn bread ground meal",
          "Cornflakes",
          "Corn grits cooked",
          "Corn meal",
          "Crackers",
          "Soda 2 1/2 square",
          "Farina",
          "Flour",
          "Wheat (all purpose)",
          "Wheat (whole)",
          "Macaroni",
          "Baked with cheese",
          "Muffins",
          "Noodles",
          "Oatmeal",
          "Pancakes 4\" diam.",
          "Wheat pancakes 4\" diam.",
          "Pizza 14\" diam.",
          "Popcorn salted",
          "Puffed rice",
          "Puffed wheat presweetened",
          "Rice",
          "Converted",
          "White",
          "Rice flakes",
          "Rice polish",
          "Rolls",
          "of refined flour",
          "whole-wheat",
          "Spaghetti with meat sauce",
          "with tomatoes and cheese",
          "Spanish rice",
          "Shredded wheat biscuit",
          "Waffles",
          "Wheat germ",
          "Wheat-germ cereal toasted",
          "Wheat meal cereal unrefined",
          "Wheat cooked",
          "Bean soups",
          "Beef soup",
          "Bouillon",
          "chicken soup",
          "Clam chowder",
          "Cream soups",
          "Noodle",
          "Split-pea soup",
          "Tomato soup",
          "Vegetable",
          "Apple betty",
          "Bread pudding",
          "Cakes",
          "Chocolate fudge",
          "Cupcake",
          "Fruit cake",
          "Gingerbread",
          "Plain with no icing",
          "Sponge cake",
          "Candy",
          "Chocolate creams",
          "Fudge",
          "Hard candies",
          "Marshmallows",
          "Milk chocolate",
          "Chocolate syrup",
          "Doughnuts",
          "Gelatin made with water",
          "Honey",
          "Ice cream",
          "Ices",
          "preserves",
          "Jellies",
          "Molasses",
          "Cane Syrup",
          "9\" diam. pie",
          "Cherry Pie",
          "Custard",
          "Lemon meringue",
          "Mince",
          "Pumpkin Pie",
          "Puddings Sugar",
          "3 teaspoons sugar",
          "Brown firm-packed dark sugar",
          "Syrup",
          "table blends sugar",
          "Tapioca cream pudding",
          "Almonds",
          "roasted and salted",
          "Brazil nuts",
          "Cashews",
          "coconut sweetened",
          "Peanut butter",
          "Peanut butter natural",
          "Peanuts",
          "Pecans",
          "Sesame seeds",
          "Sunflower seeds",
          "Walnuts",
          "Beer",
          "Gin",
          "Wines",
          "Table (12.2% alcohol)",
          "Carbonated drinks Artificially sweetened",
          "Club soda",
          "Cola drinks",
          "Fruit-flavored soda",
          "Ginger ale",
          "Root beer",
          "Coffee",
          "Tea"
         ],
         "z": [
          40,
          0,
          5,
          20,
          42,
          28,
          0,
          0,
          10,
          24,
          11,
          4,
          10,
          14,
          18,
          10,
          15,
          44,
          11,
          0,
          6,
          19,
          11,
          9,
          9,
          8,
          12,
          16,
          10,
          11,
          115,
          115,
          100,
          110,
          91,
          11,
          12,
          14,
          14,
          14,
          6,
          8,
          8,
          16,
          17,
          10,
          36,
          27,
          12,
          10,
          8,
          4,
          28,
          10,
          9,
          15,
          20,
          14,
          28,
          35,
          14,
          23,
          21,
          22,
          13,
          14,
          24,
          44,
          15,
          9,
          14,
          1,
          5,
          2,
          10,
          8,
          5,
          8,
          13,
          1,
          233,
          6,
          5,
          9,
          8,
          10,
          1,
          6,
          7,
          0,
          0,
          0,
          0,
          0,
          6,
          1,
          0,
          0,
          0,
          0,
          0,
          0,
          0,
          0,
          0,
          0,
          0,
          0,
          0,
          0,
          1,
          0,
          0,
          1,
          0,
          0,
          1,
          0,
          0,
          0,
          0,
          0,
          0,
          0,
          0,
          0,
          0,
          0,
          1,
          0,
          0,
          0,
          0,
          0,
          0,
          9,
          0,
          7,
          12,
          14,
          8,
          0,
          7,
          0,
          0,
          11,
          0,
          0,
          0,
          1,
          6,
          0,
          0,
          0,
          0,
          1,
          0,
          0,
          0,
          0,
          0,
          0,
          0,
          0,
          0,
          0,
          18,
          0,
          1,
          0,
          0,
          1,
          0,
          0,
          0,
          0,
          0,
          0,
          0,
          0,
          0,
          0,
          0,
          0,
          0,
          0,
          0,
          0,
          10,
          13,
          0,
          0,
          0,
          0,
          0,
          0,
          0,
          1,
          0,
          0,
          0,
          0,
          0,
          0,
          0,
          1,
          0,
          0,
          0,
          0,
          0,
          0,
          0,
          0,
          1,
          4,
          0,
          1,
          1,
          15,
          14,
          1,
          4,
          0,
          0,
          4,
          1,
          1,
          0,
          22,
          1,
          2,
          1,
          25,
          5,
          2,
          3,
          9,
          9,
          6,
          7,
          0,
          0,
          3,
          0,
          0,
          0,
          6,
          12,
          2,
          1,
          10,
          5,
          4,
          1,
          9,
          7,
          7,
          1,
          1,
          5,
          4,
          0,
          2,
          2,
          12,
          4,
          3,
          7,
          2,
          4,
          12,
          0,
          14,
          3,
          4,
          7,
          5,
          2,
          3,
          4,
          12,
          0,
          0,
          6,
          0,
          7,
          0,
          0,
          0,
          0,
          0,
          0,
          0,
          0,
          13,
          13,
          11,
          12,
          9,
          12,
          0,
          0,
          0,
          0,
          0,
          10,
          38,
          40,
          47,
          32,
          20,
          25,
          24,
          25,
          35,
          24,
          26,
          32,
          0,
          0,
          0,
          0,
          0,
          0,
          0,
          0,
          0,
          0,
          0,
          0
         ]
        }
       ],
       "layout": {
        "height": 800,
        "template": {
         "data": {
          "bar": [
           {
            "error_x": {
             "color": "#2a3f5f"
            },
            "error_y": {
             "color": "#2a3f5f"
            },
            "marker": {
             "line": {
              "color": "#E5ECF6",
              "width": 0.5
             },
             "pattern": {
              "fillmode": "overlay",
              "size": 10,
              "solidity": 0.2
             }
            },
            "type": "bar"
           }
          ],
          "barpolar": [
           {
            "marker": {
             "line": {
              "color": "#E5ECF6",
              "width": 0.5
             },
             "pattern": {
              "fillmode": "overlay",
              "size": 10,
              "solidity": 0.2
             }
            },
            "type": "barpolar"
           }
          ],
          "carpet": [
           {
            "aaxis": {
             "endlinecolor": "#2a3f5f",
             "gridcolor": "white",
             "linecolor": "white",
             "minorgridcolor": "white",
             "startlinecolor": "#2a3f5f"
            },
            "baxis": {
             "endlinecolor": "#2a3f5f",
             "gridcolor": "white",
             "linecolor": "white",
             "minorgridcolor": "white",
             "startlinecolor": "#2a3f5f"
            },
            "type": "carpet"
           }
          ],
          "choropleth": [
           {
            "colorbar": {
             "outlinewidth": 0,
             "ticks": ""
            },
            "type": "choropleth"
           }
          ],
          "contour": [
           {
            "colorbar": {
             "outlinewidth": 0,
             "ticks": ""
            },
            "colorscale": [
             [
              0,
              "#0d0887"
             ],
             [
              0.1111111111111111,
              "#46039f"
             ],
             [
              0.2222222222222222,
              "#7201a8"
             ],
             [
              0.3333333333333333,
              "#9c179e"
             ],
             [
              0.4444444444444444,
              "#bd3786"
             ],
             [
              0.5555555555555556,
              "#d8576b"
             ],
             [
              0.6666666666666666,
              "#ed7953"
             ],
             [
              0.7777777777777778,
              "#fb9f3a"
             ],
             [
              0.8888888888888888,
              "#fdca26"
             ],
             [
              1,
              "#f0f921"
             ]
            ],
            "type": "contour"
           }
          ],
          "contourcarpet": [
           {
            "colorbar": {
             "outlinewidth": 0,
             "ticks": ""
            },
            "type": "contourcarpet"
           }
          ],
          "heatmap": [
           {
            "colorbar": {
             "outlinewidth": 0,
             "ticks": ""
            },
            "colorscale": [
             [
              0,
              "#0d0887"
             ],
             [
              0.1111111111111111,
              "#46039f"
             ],
             [
              0.2222222222222222,
              "#7201a8"
             ],
             [
              0.3333333333333333,
              "#9c179e"
             ],
             [
              0.4444444444444444,
              "#bd3786"
             ],
             [
              0.5555555555555556,
              "#d8576b"
             ],
             [
              0.6666666666666666,
              "#ed7953"
             ],
             [
              0.7777777777777778,
              "#fb9f3a"
             ],
             [
              0.8888888888888888,
              "#fdca26"
             ],
             [
              1,
              "#f0f921"
             ]
            ],
            "type": "heatmap"
           }
          ],
          "heatmapgl": [
           {
            "colorbar": {
             "outlinewidth": 0,
             "ticks": ""
            },
            "colorscale": [
             [
              0,
              "#0d0887"
             ],
             [
              0.1111111111111111,
              "#46039f"
             ],
             [
              0.2222222222222222,
              "#7201a8"
             ],
             [
              0.3333333333333333,
              "#9c179e"
             ],
             [
              0.4444444444444444,
              "#bd3786"
             ],
             [
              0.5555555555555556,
              "#d8576b"
             ],
             [
              0.6666666666666666,
              "#ed7953"
             ],
             [
              0.7777777777777778,
              "#fb9f3a"
             ],
             [
              0.8888888888888888,
              "#fdca26"
             ],
             [
              1,
              "#f0f921"
             ]
            ],
            "type": "heatmapgl"
           }
          ],
          "histogram": [
           {
            "marker": {
             "pattern": {
              "fillmode": "overlay",
              "size": 10,
              "solidity": 0.2
             }
            },
            "type": "histogram"
           }
          ],
          "histogram2d": [
           {
            "colorbar": {
             "outlinewidth": 0,
             "ticks": ""
            },
            "colorscale": [
             [
              0,
              "#0d0887"
             ],
             [
              0.1111111111111111,
              "#46039f"
             ],
             [
              0.2222222222222222,
              "#7201a8"
             ],
             [
              0.3333333333333333,
              "#9c179e"
             ],
             [
              0.4444444444444444,
              "#bd3786"
             ],
             [
              0.5555555555555556,
              "#d8576b"
             ],
             [
              0.6666666666666666,
              "#ed7953"
             ],
             [
              0.7777777777777778,
              "#fb9f3a"
             ],
             [
              0.8888888888888888,
              "#fdca26"
             ],
             [
              1,
              "#f0f921"
             ]
            ],
            "type": "histogram2d"
           }
          ],
          "histogram2dcontour": [
           {
            "colorbar": {
             "outlinewidth": 0,
             "ticks": ""
            },
            "colorscale": [
             [
              0,
              "#0d0887"
             ],
             [
              0.1111111111111111,
              "#46039f"
             ],
             [
              0.2222222222222222,
              "#7201a8"
             ],
             [
              0.3333333333333333,
              "#9c179e"
             ],
             [
              0.4444444444444444,
              "#bd3786"
             ],
             [
              0.5555555555555556,
              "#d8576b"
             ],
             [
              0.6666666666666666,
              "#ed7953"
             ],
             [
              0.7777777777777778,
              "#fb9f3a"
             ],
             [
              0.8888888888888888,
              "#fdca26"
             ],
             [
              1,
              "#f0f921"
             ]
            ],
            "type": "histogram2dcontour"
           }
          ],
          "mesh3d": [
           {
            "colorbar": {
             "outlinewidth": 0,
             "ticks": ""
            },
            "type": "mesh3d"
           }
          ],
          "parcoords": [
           {
            "line": {
             "colorbar": {
              "outlinewidth": 0,
              "ticks": ""
             }
            },
            "type": "parcoords"
           }
          ],
          "pie": [
           {
            "automargin": true,
            "type": "pie"
           }
          ],
          "scatter": [
           {
            "fillpattern": {
             "fillmode": "overlay",
             "size": 10,
             "solidity": 0.2
            },
            "type": "scatter"
           }
          ],
          "scatter3d": [
           {
            "line": {
             "colorbar": {
              "outlinewidth": 0,
              "ticks": ""
             }
            },
            "marker": {
             "colorbar": {
              "outlinewidth": 0,
              "ticks": ""
             }
            },
            "type": "scatter3d"
           }
          ],
          "scattercarpet": [
           {
            "marker": {
             "colorbar": {
              "outlinewidth": 0,
              "ticks": ""
             }
            },
            "type": "scattercarpet"
           }
          ],
          "scattergeo": [
           {
            "marker": {
             "colorbar": {
              "outlinewidth": 0,
              "ticks": ""
             }
            },
            "type": "scattergeo"
           }
          ],
          "scattergl": [
           {
            "marker": {
             "colorbar": {
              "outlinewidth": 0,
              "ticks": ""
             }
            },
            "type": "scattergl"
           }
          ],
          "scattermapbox": [
           {
            "marker": {
             "colorbar": {
              "outlinewidth": 0,
              "ticks": ""
             }
            },
            "type": "scattermapbox"
           }
          ],
          "scatterpolar": [
           {
            "marker": {
             "colorbar": {
              "outlinewidth": 0,
              "ticks": ""
             }
            },
            "type": "scatterpolar"
           }
          ],
          "scatterpolargl": [
           {
            "marker": {
             "colorbar": {
              "outlinewidth": 0,
              "ticks": ""
             }
            },
            "type": "scatterpolargl"
           }
          ],
          "scatterternary": [
           {
            "marker": {
             "colorbar": {
              "outlinewidth": 0,
              "ticks": ""
             }
            },
            "type": "scatterternary"
           }
          ],
          "surface": [
           {
            "colorbar": {
             "outlinewidth": 0,
             "ticks": ""
            },
            "colorscale": [
             [
              0,
              "#0d0887"
             ],
             [
              0.1111111111111111,
              "#46039f"
             ],
             [
              0.2222222222222222,
              "#7201a8"
             ],
             [
              0.3333333333333333,
              "#9c179e"
             ],
             [
              0.4444444444444444,
              "#bd3786"
             ],
             [
              0.5555555555555556,
              "#d8576b"
             ],
             [
              0.6666666666666666,
              "#ed7953"
             ],
             [
              0.7777777777777778,
              "#fb9f3a"
             ],
             [
              0.8888888888888888,
              "#fdca26"
             ],
             [
              1,
              "#f0f921"
             ]
            ],
            "type": "surface"
           }
          ],
          "table": [
           {
            "cells": {
             "fill": {
              "color": "#EBF0F8"
             },
             "line": {
              "color": "white"
             }
            },
            "header": {
             "fill": {
              "color": "#C8D4E3"
             },
             "line": {
              "color": "white"
             }
            },
            "type": "table"
           }
          ]
         },
         "layout": {
          "annotationdefaults": {
           "arrowcolor": "#2a3f5f",
           "arrowhead": 0,
           "arrowwidth": 1
          },
          "autotypenumbers": "strict",
          "coloraxis": {
           "colorbar": {
            "outlinewidth": 0,
            "ticks": ""
           }
          },
          "colorscale": {
           "diverging": [
            [
             0,
             "#8e0152"
            ],
            [
             0.1,
             "#c51b7d"
            ],
            [
             0.2,
             "#de77ae"
            ],
            [
             0.3,
             "#f1b6da"
            ],
            [
             0.4,
             "#fde0ef"
            ],
            [
             0.5,
             "#f7f7f7"
            ],
            [
             0.6,
             "#e6f5d0"
            ],
            [
             0.7,
             "#b8e186"
            ],
            [
             0.8,
             "#7fbc41"
            ],
            [
             0.9,
             "#4d9221"
            ],
            [
             1,
             "#276419"
            ]
           ],
           "sequential": [
            [
             0,
             "#0d0887"
            ],
            [
             0.1111111111111111,
             "#46039f"
            ],
            [
             0.2222222222222222,
             "#7201a8"
            ],
            [
             0.3333333333333333,
             "#9c179e"
            ],
            [
             0.4444444444444444,
             "#bd3786"
            ],
            [
             0.5555555555555556,
             "#d8576b"
            ],
            [
             0.6666666666666666,
             "#ed7953"
            ],
            [
             0.7777777777777778,
             "#fb9f3a"
            ],
            [
             0.8888888888888888,
             "#fdca26"
            ],
            [
             1,
             "#f0f921"
            ]
           ],
           "sequentialminus": [
            [
             0,
             "#0d0887"
            ],
            [
             0.1111111111111111,
             "#46039f"
            ],
            [
             0.2222222222222222,
             "#7201a8"
            ],
            [
             0.3333333333333333,
             "#9c179e"
            ],
            [
             0.4444444444444444,
             "#bd3786"
            ],
            [
             0.5555555555555556,
             "#d8576b"
            ],
            [
             0.6666666666666666,
             "#ed7953"
            ],
            [
             0.7777777777777778,
             "#fb9f3a"
            ],
            [
             0.8888888888888888,
             "#fdca26"
            ],
            [
             1,
             "#f0f921"
            ]
           ]
          },
          "colorway": [
           "#636efa",
           "#EF553B",
           "#00cc96",
           "#ab63fa",
           "#FFA15A",
           "#19d3f3",
           "#FF6692",
           "#B6E880",
           "#FF97FF",
           "#FECB52"
          ],
          "font": {
           "color": "#2a3f5f"
          },
          "geo": {
           "bgcolor": "white",
           "lakecolor": "white",
           "landcolor": "#E5ECF6",
           "showlakes": true,
           "showland": true,
           "subunitcolor": "white"
          },
          "hoverlabel": {
           "align": "left"
          },
          "hovermode": "closest",
          "mapbox": {
           "style": "light"
          },
          "paper_bgcolor": "white",
          "plot_bgcolor": "#E5ECF6",
          "polar": {
           "angularaxis": {
            "gridcolor": "white",
            "linecolor": "white",
            "ticks": ""
           },
           "bgcolor": "#E5ECF6",
           "radialaxis": {
            "gridcolor": "white",
            "linecolor": "white",
            "ticks": ""
           }
          },
          "scene": {
           "xaxis": {
            "backgroundcolor": "#E5ECF6",
            "gridcolor": "white",
            "gridwidth": 2,
            "linecolor": "white",
            "showbackground": true,
            "ticks": "",
            "zerolinecolor": "white"
           },
           "yaxis": {
            "backgroundcolor": "#E5ECF6",
            "gridcolor": "white",
            "gridwidth": 2,
            "linecolor": "white",
            "showbackground": true,
            "ticks": "",
            "zerolinecolor": "white"
           },
           "zaxis": {
            "backgroundcolor": "#E5ECF6",
            "gridcolor": "white",
            "gridwidth": 2,
            "linecolor": "white",
            "showbackground": true,
            "ticks": "",
            "zerolinecolor": "white"
           }
          },
          "shapedefaults": {
           "line": {
            "color": "#2a3f5f"
           }
          },
          "ternary": {
           "aaxis": {
            "gridcolor": "white",
            "linecolor": "white",
            "ticks": ""
           },
           "baxis": {
            "gridcolor": "white",
            "linecolor": "white",
            "ticks": ""
           },
           "bgcolor": "#E5ECF6",
           "caxis": {
            "gridcolor": "white",
            "linecolor": "white",
            "ticks": ""
           }
          },
          "title": {
           "x": 0.05
          },
          "xaxis": {
           "automargin": true,
           "gridcolor": "white",
           "linecolor": "white",
           "ticks": "",
           "title": {
            "standoff": 15
           },
           "zerolinecolor": "white",
           "zerolinewidth": 2
          },
          "yaxis": {
           "automargin": true,
           "gridcolor": "white",
           "linecolor": "white",
           "ticks": "",
           "title": {
            "standoff": 15
           },
           "zerolinecolor": "white",
           "zerolinewidth": 2
          }
         }
        },
        "title": {
         "text": "3D Scatter Plot of Fatty foods (% Daily Value)"
        },
        "width": 800
       }
      }
     },
     "metadata": {},
     "output_type": "display_data"
    }
   ],
   "source": [
    "trace1 = go.Scatter3d(\n",
    "    x=nutrients['Category'].values,\n",
    "    y=nutrients['Food'].values,\n",
    "    z=nutrients['Fat'].values,\n",
    "    text=nutrients['Food'].values,\n",
    "    mode='markers',\n",
    "    marker=dict(\n",
    "        sizemode='diameter',\n",
    "         sizeref=750,\n",
    "        color = nutrients['Fat'].values,\n",
    "        colorscale = 'Portland',\n",
    "        colorbar = dict(title = 'Total Fat (% Daily Value)'),\n",
    "        line=dict(color='rgb(255, 255, 255)')\n",
    "    )\n",
    ")\n",
    "data=[trace1]\n",
    "layout=dict(height=800, width=800, title='3D Scatter Plot of Fatty foods (% Daily Value)')\n",
    "fig=dict(data=data, layout=layout)\n",
    "py.iplot(fig, filename='3DBubble')"
   ]
  },
  {
   "cell_type": "code",
   "execution_count": 22,
   "metadata": {
    "trusted": true
   },
   "outputs": [
    {
     "data": {
      "application/vnd.plotly.v1+json": {
       "config": {
        "linkText": "Export to plot.ly",
        "plotlyServerURL": "https://plot.ly",
        "showLink": false
       },
       "data": [
        {
         "marker": {
          "color": [
           48,
           52,
           13,
           24,
           119,
           39,
           42,
           42,
           11,
           70,
           26,
           13,
           40,
           28,
           29,
           32,
           5,
           3,
           6,
           6,
           0,
           1,
           1,
           0,
           0,
           0,
           0,
           1,
           0,
           0,
           118,
           118,
           0,
           0,
           0,
           0,
           0,
           0,
           0,
           0,
           2,
           1,
           1,
           0,
           0,
           0,
           0,
           0,
           0,
           0,
           6,
           0,
           32,
           15,
           0,
           0,
           0,
           2.3,
           0,
           0,
           0,
           0,
           0,
           0,
           0,
           1,
           0,
           0,
           0,
           0,
           0,
           2,
           0,
           1,
           8,
           0,
           6,
           0,
           0,
           0,
           236,
           0,
           0,
           0,
           10,
           0,
           0,
           0,
           0,
           10,
           3,
           6,
           24,
           48,
           37,
           42,
           3,
           6,
           8,
           12,
           7,
           9,
           10,
           10,
           5,
           6,
           4,
           1,
           7,
           8,
           21,
           41,
           1,
           16,
           9,
           2,
           8,
           9,
           7,
           38,
           2,
           3,
           4,
           6,
           7,
           18,
           5,
           0,
           22,
           13,
           12,
           21,
           10,
           2,
           6,
           24,
           22,
           20,
           28,
           33,
           14,
           19,
           10,
           2,
           8,
           20,
           3,
           8,
           23,
           36,
           80,
           9,
           6,
           10,
           4,
           8,
           9,
           1,
           34,
           3,
           18,
           26,
           57,
           50,
           14,
           36,
           6,
           23,
           19,
           65,
           9,
           26,
           15,
           142,
           134,
           30,
           22,
           32,
           50,
           44,
           14,
           24,
           16,
           26,
           42,
           10,
           112,
           108,
           3,
           1,
           16,
           25,
           78,
           18,
           52,
           10,
           50,
           25,
           20,
           26,
           55,
           19,
           32,
           50,
           7,
           81,
           45,
           82,
           25,
           14,
           98,
           60,
           12,
           10,
           29,
           18,
           32,
           12,
           12,
           229,
           216,
           11,
           15,
           25,
           27,
           74,
           10,
           8,
           22,
           33,
           84,
           79,
           32,
           44,
           19,
           37,
           26,
           28,
           28,
           23,
           20,
           12,
           26,
           154,
           142,
           150,
           26,
           28,
           23,
           20,
           20,
           35,
           36,
           40,
           23,
           30,
           34,
           36,
           25,
           35,
           30,
           11,
           0,
           10,
           12,
           18,
           13,
           25,
           22,
           14,
           29,
           56,
           23,
           70,
           31,
           17,
           28,
           31,
           22,
           19,
           24,
           80,
           28,
           23,
           44,
           22,
           17,
           36,
           30,
           0,
           48,
           14,
           13,
           11,
           13,
           53,
           55,
           34,
           45,
           62,
           34,
           199,
           12,
           210,
           25,
           29,
           42,
           13,
           13,
           7,
           20,
           26,
           9,
           8,
           9,
           7,
           10,
           10,
           8,
           8,
           0,
           9,
           5,
           0,
           0,
           38,
           42,
           28,
           35,
           1,
           1
          ],
          "colorbar": {
           "title": {
            "text": "Total Fat (% Daily Value)"
           }
          },
          "colorscale": [
           [
            0,
            "rgb(12,51,131)"
           ],
           [
            0.25,
            "rgb(10,136,186)"
           ],
           [
            0.5,
            "rgb(242,211,56)"
           ],
           [
            0.75,
            "rgb(242,143,56)"
           ],
           [
            1,
            "rgb(217,30,30)"
           ]
          ],
          "line": {
           "color": "rgb(255, 255, 255)"
          },
          "sizemode": "diameter",
          "sizeref": 750
         },
         "mode": "markers",
         "text": [
          "Cows' milk",
          "Milk skim",
          "Buttermilk",
          "Evaporated undiluted",
          "Fortified milk",
          "Powdered milk",
          "skim instant",
          "skim non-instant",
          "Goats' milk",
          "(1/2 cup ice cream)",
          "Cocoa",
          "skim. milk",
          "(cornstarch)",
          "Custard",
          "Ice cream",
          "Ice milk",
          "Cream or half-and-half",
          "or whipping",
          "Cheese",
          "uncreamed",
          "Cheddar",
          "Cheddar grated cup",
          "Cream cheese",
          "Processed cheese",
          "Roquefort type",
          "Swiss",
          "Eggs raw",
          "Eggs Scrambled or fried",
          "Yolks",
          "Butter",
          "Butter",
          "Butter",
          "Hydrogenated cooking fat",
          "Lard",
          "Margarine",
          "Margarine 2 pat or",
          "Mayonnaise",
          "Corn oil",
          "Olive oil",
          "Safflower seed oil",
          "French dressing",
          "Thousand Island sauce",
          "Bacon",
          "Beef",
          "Hamburger",
          "Ground lean",
          "Roast beef",
          "Steak",
          "Steak lean as round",
          "Corned beef",
          "Corned beef hash canned",
          "Corned beef hash Dried",
          "Pot-pie",
          "Corned beef hash Stew",
          "chicken",
          "Fried breast or leg and thigh chicken",
          "Roasted chicken",
          "Chicken livers fried",
          "Duck domestic",
          "Lamb chop broiled",
          "Leg roasted",
          "Shoulder braised",
          "Pork chop 1 thick",
          "Ham pan-broiled",
          "Ham as ",
          "Ham canned spiced",
          "Pork roast",
          "Pork sausage",
          "Turkey",
          "Veal",
          "Roast",
          "Clams",
          "Cod",
          "Crab meat",
          "Fish sticks fried",
          "Flounder",
          "Haddock",
          "Halibut",
          "Herring",
          "Lobster",
          "Oysters",
          "Oyster stew",
          "Salmon",
          "Sardines",
          "Scallops",
          "Shad",
          "Shrimp",
          "Swordfish",
          "Tuna",
          "Artichoke",
          "Asparagus",
          "Beans",
          "Lima",
          "Lima dry cooked",
          "Navy baked with pork",
          "Red kidney",
          "Bean sprouts",
          "Beet greens",
          "Broccoli",
          "Brussels sprouts",
          "Sauerkraut",
          "Steamed cabbage",
          "Carrots",
          "Raw grated",
          "Strips from raw",
          "Cauliflower",
          "Celery",
          "Stalk raw",
          "Chard steamed",
          "Collards",
          "Corn",
          "cooked or canned",
          "Cucumbers",
          "Dandelion greens",
          "Eggplant",
          "Endive",
          "Kale",
          "Kohlrabi",
          "Lambs quarters steamed",
          "Lentils",
          "Lettuce",
          "Iceberg",
          "Mushrooms canned",
          "Mustard greens",
          "Okra",
          "Onions",
          "Raw green",
          "Parsley",
          "Parsnips",
          "Peas",
          "Fresh steamed peas",
          "Split cooked peas",
          "heated peas",
          "Peppers canned",
          "Peppers Raw green sweet",
          "Peppers with beef and crumbs",
          "Potatoes baked",
          "French-fried",
          "Potatoes Mashed with milk and butter",
          "Potatoes pan-tried",
          "Scalloped with cheese potatoes",
          "Steamed potatoes before peeling",
          "Potato chips",
          "Radishes",
          "Rutabagas",
          "Soybeans",
          "Spinach",
          "Squash",
          "Winter mashed",
          "Sweet potatoes",
          "Candied",
          "Tomatoes",
          "Raw 2 by 2 1/2",
          "Tomato juice",
          "Tomato catsup",
          "Turnip greens",
          "Turnips steamed",
          "Watercress stems raw",
          "Apple juice canned",
          "Apple vinegar",
          "Apples raw",
          "Stewed or canned",
          "Apricots",
          "Dried uncooked",
          "Fresh",
          "Nectar or juice",
          "Avocado",
          "Banana",
          "Blackberries",
          "Blueberries",
          "Cantaloupe",
          "Cherries",
          "Fresh raw",
          "Cranberry sauce sweetened",
          "Dates",
          "Figs",
          "Fresh raw figs",
          "figs Canned with syrup ",
          "Fruit cocktail canned",
          "Grapefruit sections",
          "Grapefruit fresh 5\" diameter",
          "Grapefruit juice",
          "Grapes",
          "European as Muscat Tokay",
          "Grape juice",
          "Lemon juice",
          "Lemonade concentratefrozen",
          "Limeade concentrate frozen",
          "Olives large",
          "OlivesRipe",
          "Oranges 3\" diameter",
          "Orange juice",
          "Frozen ",
          "Papaya",
          "Peaches",
          "Fresh raw",
          "Pears",
          "Raw 3 by 2V",
          "Persimmons",
          "Pineapple",
          "Pineapple Crushed",
          "Raw diced",
          "Pineapple juice",
          "Plums",
          "Raw 2\" diameter",
          "Prunes",
          "Prune juice",
          "Raisins",
          "Raspberries",
          "Raw red",
          "Rhubarb sweetened",
          "Strawberries",
          "Raw",
          "Tangerines",
          "Watermelon",
          "Biscuits",
          "Bran flakes",
          "Bread cracked wheat",
          "Rye",
          "White 20 slices or",
          "Whole-wheat",
          "Whole-wheat",
          "Corn bread ground meal",
          "Cornflakes",
          "Corn grits cooked",
          "Corn meal",
          "Crackers",
          "Soda 2 1/2 square",
          "Farina",
          "Flour",
          "Wheat (all purpose)",
          "Wheat (whole)",
          "Macaroni",
          "Baked with cheese",
          "Muffins",
          "Noodles",
          "Oatmeal",
          "Pancakes 4\" diam.",
          "Wheat pancakes 4\" diam.",
          "Pizza 14\" diam.",
          "Popcorn salted",
          "Puffed rice",
          "Puffed wheat presweetened",
          "Rice",
          "Converted",
          "White",
          "Rice flakes",
          "Rice polish",
          "Rolls",
          "of refined flour",
          "whole-wheat",
          "Spaghetti with meat sauce",
          "with tomatoes and cheese",
          "Spanish rice",
          "Shredded wheat biscuit",
          "Waffles",
          "Wheat germ",
          "Wheat-germ cereal toasted",
          "Wheat meal cereal unrefined",
          "Wheat cooked",
          "Bean soups",
          "Beef soup",
          "Bouillon",
          "chicken soup",
          "Clam chowder",
          "Cream soups",
          "Noodle",
          "Split-pea soup",
          "Tomato soup",
          "Vegetable",
          "Apple betty",
          "Bread pudding",
          "Cakes",
          "Chocolate fudge",
          "Cupcake",
          "Fruit cake",
          "Gingerbread",
          "Plain with no icing",
          "Sponge cake",
          "Candy",
          "Chocolate creams",
          "Fudge",
          "Hard candies",
          "Marshmallows",
          "Milk chocolate",
          "Chocolate syrup",
          "Doughnuts",
          "Gelatin made with water",
          "Honey",
          "Ice cream",
          "Ices",
          "preserves",
          "Jellies",
          "Molasses",
          "Cane Syrup",
          "9\" diam. pie",
          "Cherry Pie",
          "Custard",
          "Lemon meringue",
          "Mince",
          "Pumpkin Pie",
          "Puddings Sugar",
          "3 teaspoons sugar",
          "Brown firm-packed dark sugar",
          "Syrup",
          "table blends sugar",
          "Tapioca cream pudding",
          "Almonds",
          "roasted and salted",
          "Brazil nuts",
          "Cashews",
          "coconut sweetened",
          "Peanut butter",
          "Peanut butter natural",
          "Peanuts",
          "Pecans",
          "Sesame seeds",
          "Sunflower seeds",
          "Walnuts",
          "Beer",
          "Gin",
          "Wines",
          "Table (12.2% alcohol)",
          "Carbonated drinks Artificially sweetened",
          "Club soda",
          "Cola drinks",
          "Fruit-flavored soda",
          "Ginger ale",
          "Root beer",
          "Coffee",
          "Tea"
         ],
         "type": "scatter3d",
         "x": [
          "Dairy products",
          "Dairy products",
          "Dairy products",
          "Dairy products",
          "Dairy products",
          "Dairy products",
          "Dairy products",
          "Dairy products",
          "Dairy products",
          "Dairy products",
          "Dairy products",
          "Dairy products",
          "Dairy products",
          "Dairy products",
          "Dairy products",
          "Dairy products",
          "Dairy products",
          "Dairy products",
          "Dairy products",
          "Dairy products",
          "Dairy products",
          "Dairy products",
          "Dairy products",
          "Dairy products",
          "Dairy products",
          "Dairy products",
          "Dairy products",
          "Dairy products",
          "Fats Oils Shortenings",
          "Fats Oils Shortenings",
          "Fats Oils Shortenings",
          "Fats Oils Shortenings",
          "Fats Oils Shortenings",
          "Fats Oils Shortenings",
          "Fats Oils Shortenings",
          "Fats Oils Shortenings",
          "Fats Oils Shortenings",
          "Fats Oils Shortenings",
          "Fats Oils Shortenings",
          "Fats Oils Shortenings",
          "Fats Oils Shortenings",
          "Fats Oils Shortenings",
          "Meat Poultry",
          "Meat Poultry",
          "Meat Poultry",
          "Meat Poultry",
          "Meat Poultry",
          "Meat Poultry",
          "Meat Poultry",
          "Meat Poultry",
          "Meat Poultry",
          "Meat Poultry",
          "Meat Poultry",
          "Meat Poultry",
          "Meat Poultry",
          "Meat Poultry",
          "Meat Poultry",
          "Meat Poultry",
          "Meat Poultry",
          "Meat Poultry",
          "Meat Poultry",
          "Meat Poultry",
          "Meat Poultry",
          "Meat Poultry",
          "Meat Poultry",
          "Meat Poultry",
          "Meat Poultry",
          "Meat Poultry",
          "Meat Poultry",
          "Meat Poultry",
          "Meat Poultry",
          "Fish Seafood",
          "Fish Seafood",
          "Fish Seafood",
          "Fish Seafood",
          "Fish Seafood",
          "Fish Seafood",
          "Fish Seafood",
          "Fish Seafood",
          "Fish Seafood",
          "Fish Seafood",
          "Fish Seafood",
          "Fish Seafood",
          "Fish Seafood",
          "Fish Seafood",
          "Fish Seafood",
          "Fish Seafood",
          "Fish Seafood",
          "Fish Seafood",
          "Vegetables A-E",
          "Vegetables A-E",
          "Vegetables A-E",
          "Vegetables A-E",
          "Vegetables A-E",
          "Vegetables A-E",
          "Vegetables A-E",
          "Vegetables A-E",
          "Vegetables A-E",
          "Vegetables A-E",
          "Vegetables A-E",
          "Vegetables A-E",
          "Vegetables A-E",
          "Vegetables A-E",
          "Vegetables A-E",
          "Vegetables A-E",
          "Vegetables A-E",
          "Vegetables A-E",
          "Vegetables A-E",
          "Vegetables A-E",
          "Vegetables A-E",
          "Vegetables A-E",
          "Vegetables A-E",
          "Vegetables A-E",
          "Vegetables A-E",
          "Vegetables A-E",
          "Vegetables A-E",
          "Vegetables F-P",
          "Vegetables F-P",
          "Vegetables F-P",
          "Vegetables F-P",
          "Vegetables F-P",
          "Vegetables F-P",
          "Vegetables F-P",
          "Vegetables F-P",
          "Vegetables F-P",
          "Vegetables F-P",
          "Vegetables F-P",
          "Vegetables F-P",
          "Vegetables F-P",
          "Vegetables F-P",
          "Vegetables R-Z",
          "Vegetables R-Z",
          "Vegetables R-Z",
          "Vegetables R-Z",
          "Vegetables R-Z",
          "Vegetables R-Z",
          "Vegetables R-Z",
          "Vegetables R-Z",
          "Vegetables R-Z",
          "Vegetables R-Z",
          "Vegetables R-Z",
          "Vegetables R-Z",
          "Vegetables R-Z",
          "Vegetables R-Z",
          "Vegetables R-Z",
          "Vegetables R-Z",
          "Vegetables R-Z",
          "Vegetables R-Z",
          "Vegetables R-Z",
          "Vegetables R-Z",
          "Vegetables R-Z",
          "Vegetables R-Z",
          "Vegetables R-Z",
          "Vegetables R-Z",
          "Vegetables R-Z",
          "Vegetables R-Z",
          "Vegetables R-Z",
          "Fruits A-F",
          "Fruits A-F",
          "Fruits A-F",
          "Fruits A-F",
          "Fruits A-F",
          "Fruits A-F",
          "Fruits A-F",
          "Fruits A-F",
          "Fruits A-F",
          "Fruits A-F",
          "Fruits A-F",
          "Fruits A-F",
          "Fruits A-F",
          "Fruits A-F",
          "Fruits A-F",
          "Fruits A-F",
          "Fruits A-F",
          "Fruits A-F",
          "Fruits A-F",
          "Fruits A-F",
          "Fruits A-F",
          "Fruits A-F",
          "Fruits G-P",
          "Fruits G-P",
          "Fruits G-P",
          "Fruits G-P",
          "Fruits G-P",
          "Fruits G-P",
          "Fruits G-P",
          "Fruits G-P",
          "Fruits G-P",
          "Fruits G-P",
          "Fruits G-P",
          "Fruits G-P",
          "Fruits G-P",
          "Fruits G-P",
          "Fruits G-P",
          "Fruits G-P",
          "Fruits G-P",
          "Fruits G-P",
          "Fruits G-P",
          "Fruits G-P",
          "Fruits G-P",
          "Fruits G-P",
          "Fruits G-P",
          "Fruits G-P",
          "Fruits G-P",
          "Fruits G-P",
          "Fruits G-P",
          "Fruits G-P",
          "Fruits R-Z",
          "Fruits R-Z",
          "Fruits R-Z",
          "Fruits R-Z",
          "Fruits R-Z",
          "Fruits R-Z",
          "Fruits R-Z",
          "Fruits R-Z",
          "Breads cereals fastfoodgrains",
          "Breads cereals fastfoodgrains",
          "Breads cereals fastfoodgrains",
          "Breads cereals fastfoodgrains",
          "Breads cereals fastfoodgrains",
          "Breads cereals fastfoodgrains",
          "Breads cereals fastfoodgrains",
          "Breads cereals fastfoodgrains",
          "Breads cereals fastfoodgrains",
          "Breads cereals fastfoodgrains",
          "Breads cereals fastfoodgrains",
          "Breads cereals fastfoodgrains",
          "Breads cereals fastfoodgrains",
          "Breads cereals fastfoodgrains",
          "Breads cereals fastfoodgrains",
          "Breads cereals fastfoodgrains",
          "Breads cereals fastfoodgrains",
          "Breads cereals fastfoodgrains",
          "Breads cereals fastfoodgrains",
          "Breads cereals fastfoodgrains",
          "Breads cereals fastfoodgrains",
          "Breads cereals fastfoodgrains",
          "Breads cereals fastfoodgrains",
          "Breads cereals fastfoodgrains",
          "Breads cereals fastfoodgrains",
          "Breads cereals fastfoodgrains",
          "Breads cereals fastfoodgrains",
          "Breads cereals fastfoodgrains",
          "Breads cereals fastfoodgrains",
          "Breads cereals fastfoodgrains",
          "Breads cereals fastfoodgrains",
          "Breads cereals fastfoodgrains",
          "Breads cereals fastfoodgrains",
          "Breads cereals fastfoodgrains",
          "Breads cereals fastfoodgrains",
          "Breads cereals fastfoodgrains",
          "Breads cereals fastfoodgrains",
          "Breads cereals fastfoodgrains",
          "Breads cereals fastfoodgrains",
          "Breads cereals fastfoodgrains",
          "Breads cereals fastfoodgrains",
          "Breads cereals fastfoodgrains",
          "Breads cereals fastfoodgrains",
          "Breads cereals fastfoodgrains",
          "Breads cereals fastfoodgrains",
          "Soups",
          "Soups",
          "Soups",
          "Soups",
          "Soups",
          "Soups",
          "Soups",
          "Soups",
          "Soups",
          "Soups",
          "Desserts sweets",
          "Desserts sweets",
          "Desserts sweets",
          "Desserts sweets",
          "Desserts sweets",
          "Desserts sweets",
          "Desserts sweets",
          "Desserts sweets",
          "Desserts sweets",
          "Desserts sweets",
          "Desserts sweets",
          "Desserts sweets",
          "Desserts sweets",
          "Desserts sweets",
          "Desserts sweets",
          "Desserts sweets",
          "Desserts sweets",
          "Desserts sweets",
          "Jams Jellies",
          "Desserts sweets",
          "Desserts sweets",
          "Jams Jellies",
          "Jams Jellies",
          "Jams Jellies",
          "Jams Jellies",
          "Desserts sweets",
          "Desserts sweets",
          "Desserts sweets",
          "Desserts sweets",
          "Desserts sweets",
          "Desserts sweets",
          "Desserts sweets",
          "Desserts sweets",
          "Jams Jellies",
          "Jams Jellies",
          "Jams Jellies",
          "Desserts sweets",
          "Seeds and Nuts",
          "Seeds and Nuts",
          "Seeds and Nuts",
          "Seeds and Nuts",
          "Seeds and Nuts",
          "Seeds and Nuts",
          "Seeds and Nuts",
          "Seeds and Nuts",
          "Seeds and Nuts",
          "Seeds and Nuts",
          "Seeds and Nuts",
          "Seeds and Nuts",
          "DrinksAlcohol Beverages",
          "DrinksAlcohol Beverages",
          "DrinksAlcohol Beverages",
          "DrinksAlcohol Beverages",
          "DrinksAlcohol Beverages",
          "DrinksAlcohol Beverages",
          "DrinksAlcohol Beverages",
          "DrinksAlcohol Beverages",
          "DrinksAlcohol Beverages",
          "DrinksAlcohol Beverages",
          "DrinksAlcohol Beverages",
          "DrinksAlcohol Beverages"
         ],
         "y": [
          "Cows' milk",
          "Milk skim",
          "Buttermilk",
          "Evaporated undiluted",
          "Fortified milk",
          "Powdered milk",
          "skim instant",
          "skim non-instant",
          "Goats' milk",
          "(1/2 cup ice cream)",
          "Cocoa",
          "skim. milk",
          "(cornstarch)",
          "Custard",
          "Ice cream",
          "Ice milk",
          "Cream or half-and-half",
          "or whipping",
          "Cheese",
          "uncreamed",
          "Cheddar",
          "Cheddar grated cup",
          "Cream cheese",
          "Processed cheese",
          "Roquefort type",
          "Swiss",
          "Eggs raw",
          "Eggs Scrambled or fried",
          "Yolks",
          "Butter",
          "Butter",
          "Butter",
          "Hydrogenated cooking fat",
          "Lard",
          "Margarine",
          "Margarine 2 pat or",
          "Mayonnaise",
          "Corn oil",
          "Olive oil",
          "Safflower seed oil",
          "French dressing",
          "Thousand Island sauce",
          "Bacon",
          "Beef",
          "Hamburger",
          "Ground lean",
          "Roast beef",
          "Steak",
          "Steak lean as round",
          "Corned beef",
          "Corned beef hash canned",
          "Corned beef hash Dried",
          "Pot-pie",
          "Corned beef hash Stew",
          "chicken",
          "Fried breast or leg and thigh chicken",
          "Roasted chicken",
          "Chicken livers fried",
          "Duck domestic",
          "Lamb chop broiled",
          "Leg roasted",
          "Shoulder braised",
          "Pork chop 1 thick",
          "Ham pan-broiled",
          "Ham as ",
          "Ham canned spiced",
          "Pork roast",
          "Pork sausage",
          "Turkey",
          "Veal",
          "Roast",
          "Clams",
          "Cod",
          "Crab meat",
          "Fish sticks fried",
          "Flounder",
          "Haddock",
          "Halibut",
          "Herring",
          "Lobster",
          "Oysters",
          "Oyster stew",
          "Salmon",
          "Sardines",
          "Scallops",
          "Shad",
          "Shrimp",
          "Swordfish",
          "Tuna",
          "Artichoke",
          "Asparagus",
          "Beans",
          "Lima",
          "Lima dry cooked",
          "Navy baked with pork",
          "Red kidney",
          "Bean sprouts",
          "Beet greens",
          "Broccoli",
          "Brussels sprouts",
          "Sauerkraut",
          "Steamed cabbage",
          "Carrots",
          "Raw grated",
          "Strips from raw",
          "Cauliflower",
          "Celery",
          "Stalk raw",
          "Chard steamed",
          "Collards",
          "Corn",
          "cooked or canned",
          "Cucumbers",
          "Dandelion greens",
          "Eggplant",
          "Endive",
          "Kale",
          "Kohlrabi",
          "Lambs quarters steamed",
          "Lentils",
          "Lettuce",
          "Iceberg",
          "Mushrooms canned",
          "Mustard greens",
          "Okra",
          "Onions",
          "Raw green",
          "Parsley",
          "Parsnips",
          "Peas",
          "Fresh steamed peas",
          "Split cooked peas",
          "heated peas",
          "Peppers canned",
          "Peppers Raw green sweet",
          "Peppers with beef and crumbs",
          "Potatoes baked",
          "French-fried",
          "Potatoes Mashed with milk and butter",
          "Potatoes pan-tried",
          "Scalloped with cheese potatoes",
          "Steamed potatoes before peeling",
          "Potato chips",
          "Radishes",
          "Rutabagas",
          "Soybeans",
          "Spinach",
          "Squash",
          "Winter mashed",
          "Sweet potatoes",
          "Candied",
          "Tomatoes",
          "Raw 2 by 2 1/2",
          "Tomato juice",
          "Tomato catsup",
          "Turnip greens",
          "Turnips steamed",
          "Watercress stems raw",
          "Apple juice canned",
          "Apple vinegar",
          "Apples raw",
          "Stewed or canned",
          "Apricots",
          "Dried uncooked",
          "Fresh",
          "Nectar or juice",
          "Avocado",
          "Banana",
          "Blackberries",
          "Blueberries",
          "Cantaloupe",
          "Cherries",
          "Fresh raw",
          "Cranberry sauce sweetened",
          "Dates",
          "Figs",
          "Fresh raw figs",
          "figs Canned with syrup ",
          "Fruit cocktail canned",
          "Grapefruit sections",
          "Grapefruit fresh 5\" diameter",
          "Grapefruit juice",
          "Grapes",
          "European as Muscat Tokay",
          "Grape juice",
          "Lemon juice",
          "Lemonade concentratefrozen",
          "Limeade concentrate frozen",
          "Olives large",
          "OlivesRipe",
          "Oranges 3\" diameter",
          "Orange juice",
          "Frozen ",
          "Papaya",
          "Peaches",
          "Fresh raw",
          "Pears",
          "Raw 3 by 2V",
          "Persimmons",
          "Pineapple",
          "Pineapple Crushed",
          "Raw diced",
          "Pineapple juice",
          "Plums",
          "Raw 2\" diameter",
          "Prunes",
          "Prune juice",
          "Raisins",
          "Raspberries",
          "Raw red",
          "Rhubarb sweetened",
          "Strawberries",
          "Raw",
          "Tangerines",
          "Watermelon",
          "Biscuits",
          "Bran flakes",
          "Bread cracked wheat",
          "Rye",
          "White 20 slices or",
          "Whole-wheat",
          "Whole-wheat",
          "Corn bread ground meal",
          "Cornflakes",
          "Corn grits cooked",
          "Corn meal",
          "Crackers",
          "Soda 2 1/2 square",
          "Farina",
          "Flour",
          "Wheat (all purpose)",
          "Wheat (whole)",
          "Macaroni",
          "Baked with cheese",
          "Muffins",
          "Noodles",
          "Oatmeal",
          "Pancakes 4\" diam.",
          "Wheat pancakes 4\" diam.",
          "Pizza 14\" diam.",
          "Popcorn salted",
          "Puffed rice",
          "Puffed wheat presweetened",
          "Rice",
          "Converted",
          "White",
          "Rice flakes",
          "Rice polish",
          "Rolls",
          "of refined flour",
          "whole-wheat",
          "Spaghetti with meat sauce",
          "with tomatoes and cheese",
          "Spanish rice",
          "Shredded wheat biscuit",
          "Waffles",
          "Wheat germ",
          "Wheat-germ cereal toasted",
          "Wheat meal cereal unrefined",
          "Wheat cooked",
          "Bean soups",
          "Beef soup",
          "Bouillon",
          "chicken soup",
          "Clam chowder",
          "Cream soups",
          "Noodle",
          "Split-pea soup",
          "Tomato soup",
          "Vegetable",
          "Apple betty",
          "Bread pudding",
          "Cakes",
          "Chocolate fudge",
          "Cupcake",
          "Fruit cake",
          "Gingerbread",
          "Plain with no icing",
          "Sponge cake",
          "Candy",
          "Chocolate creams",
          "Fudge",
          "Hard candies",
          "Marshmallows",
          "Milk chocolate",
          "Chocolate syrup",
          "Doughnuts",
          "Gelatin made with water",
          "Honey",
          "Ice cream",
          "Ices",
          "preserves",
          "Jellies",
          "Molasses",
          "Cane Syrup",
          "9\" diam. pie",
          "Cherry Pie",
          "Custard",
          "Lemon meringue",
          "Mince",
          "Pumpkin Pie",
          "Puddings Sugar",
          "3 teaspoons sugar",
          "Brown firm-packed dark sugar",
          "Syrup",
          "table blends sugar",
          "Tapioca cream pudding",
          "Almonds",
          "roasted and salted",
          "Brazil nuts",
          "Cashews",
          "coconut sweetened",
          "Peanut butter",
          "Peanut butter natural",
          "Peanuts",
          "Pecans",
          "Sesame seeds",
          "Sunflower seeds",
          "Walnuts",
          "Beer",
          "Gin",
          "Wines",
          "Table (12.2% alcohol)",
          "Carbonated drinks Artificially sweetened",
          "Club soda",
          "Cola drinks",
          "Fruit-flavored soda",
          "Ginger ale",
          "Root beer",
          "Coffee",
          "Tea"
         ],
         "z": [
          48,
          52,
          13,
          24,
          119,
          39,
          42,
          42,
          11,
          70,
          26,
          13,
          40,
          28,
          29,
          32,
          5,
          3,
          6,
          6,
          0,
          1,
          1,
          0,
          0,
          0,
          0,
          1,
          0,
          0,
          118,
          118,
          0,
          0,
          0,
          0,
          0,
          0,
          0,
          0,
          2,
          1,
          1,
          0,
          0,
          0,
          0,
          0,
          0,
          0,
          6,
          0,
          32,
          15,
          0,
          0,
          0,
          2.3,
          0,
          0,
          0,
          0,
          0,
          0,
          0,
          1,
          0,
          0,
          0,
          0,
          0,
          2,
          0,
          1,
          8,
          0,
          6,
          0,
          0,
          0,
          236,
          0,
          0,
          0,
          10,
          0,
          0,
          0,
          0,
          10,
          3,
          6,
          24,
          48,
          37,
          42,
          3,
          6,
          8,
          12,
          7,
          9,
          10,
          10,
          5,
          6,
          4,
          1,
          7,
          8,
          21,
          41,
          1,
          16,
          9,
          2,
          8,
          9,
          7,
          38,
          2,
          3,
          4,
          6,
          7,
          18,
          5,
          0,
          22,
          13,
          12,
          21,
          10,
          2,
          6,
          24,
          22,
          20,
          28,
          33,
          14,
          19,
          10,
          2,
          8,
          20,
          3,
          8,
          23,
          36,
          80,
          9,
          6,
          10,
          4,
          8,
          9,
          1,
          34,
          3,
          18,
          26,
          57,
          50,
          14,
          36,
          6,
          23,
          19,
          65,
          9,
          26,
          15,
          142,
          134,
          30,
          22,
          32,
          50,
          44,
          14,
          24,
          16,
          26,
          42,
          10,
          112,
          108,
          3,
          1,
          16,
          25,
          78,
          18,
          52,
          10,
          50,
          25,
          20,
          26,
          55,
          19,
          32,
          50,
          7,
          81,
          45,
          82,
          25,
          14,
          98,
          60,
          12,
          10,
          29,
          18,
          32,
          12,
          12,
          229,
          216,
          11,
          15,
          25,
          27,
          74,
          10,
          8,
          22,
          33,
          84,
          79,
          32,
          44,
          19,
          37,
          26,
          28,
          28,
          23,
          20,
          12,
          26,
          154,
          142,
          150,
          26,
          28,
          23,
          20,
          20,
          35,
          36,
          40,
          23,
          30,
          34,
          36,
          25,
          35,
          30,
          11,
          0,
          10,
          12,
          18,
          13,
          25,
          22,
          14,
          29,
          56,
          23,
          70,
          31,
          17,
          28,
          31,
          22,
          19,
          24,
          80,
          28,
          23,
          44,
          22,
          17,
          36,
          30,
          0,
          48,
          14,
          13,
          11,
          13,
          53,
          55,
          34,
          45,
          62,
          34,
          199,
          12,
          210,
          25,
          29,
          42,
          13,
          13,
          7,
          20,
          26,
          9,
          8,
          9,
          7,
          10,
          10,
          8,
          8,
          0,
          9,
          5,
          0,
          0,
          38,
          42,
          28,
          35,
          1,
          1
         ]
        }
       ],
       "layout": {
        "height": 800,
        "template": {
         "data": {
          "bar": [
           {
            "error_x": {
             "color": "#2a3f5f"
            },
            "error_y": {
             "color": "#2a3f5f"
            },
            "marker": {
             "line": {
              "color": "#E5ECF6",
              "width": 0.5
             },
             "pattern": {
              "fillmode": "overlay",
              "size": 10,
              "solidity": 0.2
             }
            },
            "type": "bar"
           }
          ],
          "barpolar": [
           {
            "marker": {
             "line": {
              "color": "#E5ECF6",
              "width": 0.5
             },
             "pattern": {
              "fillmode": "overlay",
              "size": 10,
              "solidity": 0.2
             }
            },
            "type": "barpolar"
           }
          ],
          "carpet": [
           {
            "aaxis": {
             "endlinecolor": "#2a3f5f",
             "gridcolor": "white",
             "linecolor": "white",
             "minorgridcolor": "white",
             "startlinecolor": "#2a3f5f"
            },
            "baxis": {
             "endlinecolor": "#2a3f5f",
             "gridcolor": "white",
             "linecolor": "white",
             "minorgridcolor": "white",
             "startlinecolor": "#2a3f5f"
            },
            "type": "carpet"
           }
          ],
          "choropleth": [
           {
            "colorbar": {
             "outlinewidth": 0,
             "ticks": ""
            },
            "type": "choropleth"
           }
          ],
          "contour": [
           {
            "colorbar": {
             "outlinewidth": 0,
             "ticks": ""
            },
            "colorscale": [
             [
              0,
              "#0d0887"
             ],
             [
              0.1111111111111111,
              "#46039f"
             ],
             [
              0.2222222222222222,
              "#7201a8"
             ],
             [
              0.3333333333333333,
              "#9c179e"
             ],
             [
              0.4444444444444444,
              "#bd3786"
             ],
             [
              0.5555555555555556,
              "#d8576b"
             ],
             [
              0.6666666666666666,
              "#ed7953"
             ],
             [
              0.7777777777777778,
              "#fb9f3a"
             ],
             [
              0.8888888888888888,
              "#fdca26"
             ],
             [
              1,
              "#f0f921"
             ]
            ],
            "type": "contour"
           }
          ],
          "contourcarpet": [
           {
            "colorbar": {
             "outlinewidth": 0,
             "ticks": ""
            },
            "type": "contourcarpet"
           }
          ],
          "heatmap": [
           {
            "colorbar": {
             "outlinewidth": 0,
             "ticks": ""
            },
            "colorscale": [
             [
              0,
              "#0d0887"
             ],
             [
              0.1111111111111111,
              "#46039f"
             ],
             [
              0.2222222222222222,
              "#7201a8"
             ],
             [
              0.3333333333333333,
              "#9c179e"
             ],
             [
              0.4444444444444444,
              "#bd3786"
             ],
             [
              0.5555555555555556,
              "#d8576b"
             ],
             [
              0.6666666666666666,
              "#ed7953"
             ],
             [
              0.7777777777777778,
              "#fb9f3a"
             ],
             [
              0.8888888888888888,
              "#fdca26"
             ],
             [
              1,
              "#f0f921"
             ]
            ],
            "type": "heatmap"
           }
          ],
          "heatmapgl": [
           {
            "colorbar": {
             "outlinewidth": 0,
             "ticks": ""
            },
            "colorscale": [
             [
              0,
              "#0d0887"
             ],
             [
              0.1111111111111111,
              "#46039f"
             ],
             [
              0.2222222222222222,
              "#7201a8"
             ],
             [
              0.3333333333333333,
              "#9c179e"
             ],
             [
              0.4444444444444444,
              "#bd3786"
             ],
             [
              0.5555555555555556,
              "#d8576b"
             ],
             [
              0.6666666666666666,
              "#ed7953"
             ],
             [
              0.7777777777777778,
              "#fb9f3a"
             ],
             [
              0.8888888888888888,
              "#fdca26"
             ],
             [
              1,
              "#f0f921"
             ]
            ],
            "type": "heatmapgl"
           }
          ],
          "histogram": [
           {
            "marker": {
             "pattern": {
              "fillmode": "overlay",
              "size": 10,
              "solidity": 0.2
             }
            },
            "type": "histogram"
           }
          ],
          "histogram2d": [
           {
            "colorbar": {
             "outlinewidth": 0,
             "ticks": ""
            },
            "colorscale": [
             [
              0,
              "#0d0887"
             ],
             [
              0.1111111111111111,
              "#46039f"
             ],
             [
              0.2222222222222222,
              "#7201a8"
             ],
             [
              0.3333333333333333,
              "#9c179e"
             ],
             [
              0.4444444444444444,
              "#bd3786"
             ],
             [
              0.5555555555555556,
              "#d8576b"
             ],
             [
              0.6666666666666666,
              "#ed7953"
             ],
             [
              0.7777777777777778,
              "#fb9f3a"
             ],
             [
              0.8888888888888888,
              "#fdca26"
             ],
             [
              1,
              "#f0f921"
             ]
            ],
            "type": "histogram2d"
           }
          ],
          "histogram2dcontour": [
           {
            "colorbar": {
             "outlinewidth": 0,
             "ticks": ""
            },
            "colorscale": [
             [
              0,
              "#0d0887"
             ],
             [
              0.1111111111111111,
              "#46039f"
             ],
             [
              0.2222222222222222,
              "#7201a8"
             ],
             [
              0.3333333333333333,
              "#9c179e"
             ],
             [
              0.4444444444444444,
              "#bd3786"
             ],
             [
              0.5555555555555556,
              "#d8576b"
             ],
             [
              0.6666666666666666,
              "#ed7953"
             ],
             [
              0.7777777777777778,
              "#fb9f3a"
             ],
             [
              0.8888888888888888,
              "#fdca26"
             ],
             [
              1,
              "#f0f921"
             ]
            ],
            "type": "histogram2dcontour"
           }
          ],
          "mesh3d": [
           {
            "colorbar": {
             "outlinewidth": 0,
             "ticks": ""
            },
            "type": "mesh3d"
           }
          ],
          "parcoords": [
           {
            "line": {
             "colorbar": {
              "outlinewidth": 0,
              "ticks": ""
             }
            },
            "type": "parcoords"
           }
          ],
          "pie": [
           {
            "automargin": true,
            "type": "pie"
           }
          ],
          "scatter": [
           {
            "fillpattern": {
             "fillmode": "overlay",
             "size": 10,
             "solidity": 0.2
            },
            "type": "scatter"
           }
          ],
          "scatter3d": [
           {
            "line": {
             "colorbar": {
              "outlinewidth": 0,
              "ticks": ""
             }
            },
            "marker": {
             "colorbar": {
              "outlinewidth": 0,
              "ticks": ""
             }
            },
            "type": "scatter3d"
           }
          ],
          "scattercarpet": [
           {
            "marker": {
             "colorbar": {
              "outlinewidth": 0,
              "ticks": ""
             }
            },
            "type": "scattercarpet"
           }
          ],
          "scattergeo": [
           {
            "marker": {
             "colorbar": {
              "outlinewidth": 0,
              "ticks": ""
             }
            },
            "type": "scattergeo"
           }
          ],
          "scattergl": [
           {
            "marker": {
             "colorbar": {
              "outlinewidth": 0,
              "ticks": ""
             }
            },
            "type": "scattergl"
           }
          ],
          "scattermapbox": [
           {
            "marker": {
             "colorbar": {
              "outlinewidth": 0,
              "ticks": ""
             }
            },
            "type": "scattermapbox"
           }
          ],
          "scatterpolar": [
           {
            "marker": {
             "colorbar": {
              "outlinewidth": 0,
              "ticks": ""
             }
            },
            "type": "scatterpolar"
           }
          ],
          "scatterpolargl": [
           {
            "marker": {
             "colorbar": {
              "outlinewidth": 0,
              "ticks": ""
             }
            },
            "type": "scatterpolargl"
           }
          ],
          "scatterternary": [
           {
            "marker": {
             "colorbar": {
              "outlinewidth": 0,
              "ticks": ""
             }
            },
            "type": "scatterternary"
           }
          ],
          "surface": [
           {
            "colorbar": {
             "outlinewidth": 0,
             "ticks": ""
            },
            "colorscale": [
             [
              0,
              "#0d0887"
             ],
             [
              0.1111111111111111,
              "#46039f"
             ],
             [
              0.2222222222222222,
              "#7201a8"
             ],
             [
              0.3333333333333333,
              "#9c179e"
             ],
             [
              0.4444444444444444,
              "#bd3786"
             ],
             [
              0.5555555555555556,
              "#d8576b"
             ],
             [
              0.6666666666666666,
              "#ed7953"
             ],
             [
              0.7777777777777778,
              "#fb9f3a"
             ],
             [
              0.8888888888888888,
              "#fdca26"
             ],
             [
              1,
              "#f0f921"
             ]
            ],
            "type": "surface"
           }
          ],
          "table": [
           {
            "cells": {
             "fill": {
              "color": "#EBF0F8"
             },
             "line": {
              "color": "white"
             }
            },
            "header": {
             "fill": {
              "color": "#C8D4E3"
             },
             "line": {
              "color": "white"
             }
            },
            "type": "table"
           }
          ]
         },
         "layout": {
          "annotationdefaults": {
           "arrowcolor": "#2a3f5f",
           "arrowhead": 0,
           "arrowwidth": 1
          },
          "autotypenumbers": "strict",
          "coloraxis": {
           "colorbar": {
            "outlinewidth": 0,
            "ticks": ""
           }
          },
          "colorscale": {
           "diverging": [
            [
             0,
             "#8e0152"
            ],
            [
             0.1,
             "#c51b7d"
            ],
            [
             0.2,
             "#de77ae"
            ],
            [
             0.3,
             "#f1b6da"
            ],
            [
             0.4,
             "#fde0ef"
            ],
            [
             0.5,
             "#f7f7f7"
            ],
            [
             0.6,
             "#e6f5d0"
            ],
            [
             0.7,
             "#b8e186"
            ],
            [
             0.8,
             "#7fbc41"
            ],
            [
             0.9,
             "#4d9221"
            ],
            [
             1,
             "#276419"
            ]
           ],
           "sequential": [
            [
             0,
             "#0d0887"
            ],
            [
             0.1111111111111111,
             "#46039f"
            ],
            [
             0.2222222222222222,
             "#7201a8"
            ],
            [
             0.3333333333333333,
             "#9c179e"
            ],
            [
             0.4444444444444444,
             "#bd3786"
            ],
            [
             0.5555555555555556,
             "#d8576b"
            ],
            [
             0.6666666666666666,
             "#ed7953"
            ],
            [
             0.7777777777777778,
             "#fb9f3a"
            ],
            [
             0.8888888888888888,
             "#fdca26"
            ],
            [
             1,
             "#f0f921"
            ]
           ],
           "sequentialminus": [
            [
             0,
             "#0d0887"
            ],
            [
             0.1111111111111111,
             "#46039f"
            ],
            [
             0.2222222222222222,
             "#7201a8"
            ],
            [
             0.3333333333333333,
             "#9c179e"
            ],
            [
             0.4444444444444444,
             "#bd3786"
            ],
            [
             0.5555555555555556,
             "#d8576b"
            ],
            [
             0.6666666666666666,
             "#ed7953"
            ],
            [
             0.7777777777777778,
             "#fb9f3a"
            ],
            [
             0.8888888888888888,
             "#fdca26"
            ],
            [
             1,
             "#f0f921"
            ]
           ]
          },
          "colorway": [
           "#636efa",
           "#EF553B",
           "#00cc96",
           "#ab63fa",
           "#FFA15A",
           "#19d3f3",
           "#FF6692",
           "#B6E880",
           "#FF97FF",
           "#FECB52"
          ],
          "font": {
           "color": "#2a3f5f"
          },
          "geo": {
           "bgcolor": "white",
           "lakecolor": "white",
           "landcolor": "#E5ECF6",
           "showlakes": true,
           "showland": true,
           "subunitcolor": "white"
          },
          "hoverlabel": {
           "align": "left"
          },
          "hovermode": "closest",
          "mapbox": {
           "style": "light"
          },
          "paper_bgcolor": "white",
          "plot_bgcolor": "#E5ECF6",
          "polar": {
           "angularaxis": {
            "gridcolor": "white",
            "linecolor": "white",
            "ticks": ""
           },
           "bgcolor": "#E5ECF6",
           "radialaxis": {
            "gridcolor": "white",
            "linecolor": "white",
            "ticks": ""
           }
          },
          "scene": {
           "xaxis": {
            "backgroundcolor": "#E5ECF6",
            "gridcolor": "white",
            "gridwidth": 2,
            "linecolor": "white",
            "showbackground": true,
            "ticks": "",
            "zerolinecolor": "white"
           },
           "yaxis": {
            "backgroundcolor": "#E5ECF6",
            "gridcolor": "white",
            "gridwidth": 2,
            "linecolor": "white",
            "showbackground": true,
            "ticks": "",
            "zerolinecolor": "white"
           },
           "zaxis": {
            "backgroundcolor": "#E5ECF6",
            "gridcolor": "white",
            "gridwidth": 2,
            "linecolor": "white",
            "showbackground": true,
            "ticks": "",
            "zerolinecolor": "white"
           }
          },
          "shapedefaults": {
           "line": {
            "color": "#2a3f5f"
           }
          },
          "ternary": {
           "aaxis": {
            "gridcolor": "white",
            "linecolor": "white",
            "ticks": ""
           },
           "baxis": {
            "gridcolor": "white",
            "linecolor": "white",
            "ticks": ""
           },
           "bgcolor": "#E5ECF6",
           "caxis": {
            "gridcolor": "white",
            "linecolor": "white",
            "ticks": ""
           }
          },
          "title": {
           "x": 0.05
          },
          "xaxis": {
           "automargin": true,
           "gridcolor": "white",
           "linecolor": "white",
           "ticks": "",
           "title": {
            "standoff": 15
           },
           "zerolinecolor": "white",
           "zerolinewidth": 2
          },
          "yaxis": {
           "automargin": true,
           "gridcolor": "white",
           "linecolor": "white",
           "ticks": "",
           "title": {
            "standoff": 15
           },
           "zerolinecolor": "white",
           "zerolinewidth": 2
          }
         }
        },
        "title": {
         "text": "3D Scatter Plot of Carbohydrate rich food"
        },
        "width": 800
       }
      }
     },
     "metadata": {},
     "output_type": "display_data"
    }
   ],
   "source": [
    "trace1 = go.Scatter3d(\n",
    "    x=nutrients['Category'].values,\n",
    "    y=nutrients['Food'].values,\n",
    "    z=nutrients['Carbs'].values,\n",
    "    text=nutrients['Food'].values,\n",
    "    mode='markers',\n",
    "    marker=dict(\n",
    "        sizemode='diameter',\n",
    "         sizeref=750,\n",
    "        color = nutrients['Carbs'].values,\n",
    "        colorscale = 'Portland',\n",
    "        colorbar = dict(title = 'Total Fat (% Daily Value)'),\n",
    "        line=dict(color='rgb(255, 255, 255)')\n",
    "    )\n",
    ")\n",
    "data=[trace1]\n",
    "layout=dict(height=800, width=800, title='3D Scatter Plot of Carbohydrate rich food')\n",
    "fig=dict(data=data, layout=layout)\n",
    "py.iplot(fig, filename='3DBubble')"
   ]
  },
  {
   "cell_type": "markdown",
   "metadata": {},
   "source": [
    "## Food group with the most calorie content"
   ]
  },
  {
   "cell_type": "code",
   "execution_count": 23,
   "metadata": {
    "trusted": true
   },
   "outputs": [
    {
     "name": "stderr",
     "output_type": "stream",
     "text": [
      "C:\\Users\\saqli\\AppData\\Local\\Temp\\ipykernel_4972\\2296727227.py:5: FutureWarning:\n",
      "\n",
      "\n",
      "\n",
      "Passing `palette` without assigning `hue` is deprecated and will be removed in v0.14.0. Assign the `x` variable to `hue` and set `legend=False` for the same effect.\n",
      "\n",
      "\n"
     ]
    },
    {
     "data": {
      "image/png": "[encoded data removed]",
      "text/plain": [
       "<Figure size 2200x1000 with 1 Axes>"
      ]
     },
     "metadata": {},
     "output_type": "display_data"
    }
   ],
   "source": [
    "sns.set_style(\"whitegrid\")\n",
    "plt.figure(figsize=(22,10))\n",
    "#plt.figure()\n",
    "\n",
    "ax = sns.boxenplot(x=\"Category\", y='Calories', data=nutrients, color='#eeeeee', palette=\"tab10\")\n",
    "\n",
    "# Add transparency to colors\n",
    "for patch in ax.artists:\n",
    "    r, g, b, a = patch.get_facecolor()\n",
    "    patch.set_facecolor((r, g, b, .9))\n",
    "    \n",
    "#ax = sns.stripplot(x='Category', y='Cholesterol (% Daily Value)', data=menu, color=\"orange\", jitter=0.5, size=5,alpha=0.15)\n",
    "#\n",
    "plt.title(\"Total Calorie Content \\n\", loc=\"center\",size=32,color='#be0c0c',alpha=0.6)\n",
    "plt.xlabel('Category',color='#34495E',fontsize=20) \n",
    "plt.ylabel('Total Fat (% Daily Value)',color='#34495E',fontsize=20)\n",
    "plt.xticks(size=16,color='#008abc',rotation=90, wrap=True)  \n",
    "plt.yticks(size=15,color='#006600')\n",
    "#plt.text(2.5, 1, 'Courtesy: https://seaborn.pydata.org/examples/grouped_boxplot.html', fontsize=13,alpha=0.2)\n",
    "#plt.ylim(0,200)\n",
    "#plt.legend(loc=\"upper right\",fontsize=14,ncol=5,title='Category',title_fontsize=22,framealpha=0.99)\n",
    "plt.show()\n"
   ]
  }
 ],
 "metadata": {
  "kaggle": {
   "accelerator": "none",
   "dataSources": [
    {
     "datasetId": 797832,
     "sourceId": 1368751,
     "sourceType": "datasetVersion"
    }
   ],
   "dockerImageVersionId": 29980,
   "isGpuEnabled": false,
   "isInternetEnabled": false,
   "language": "python",
   "sourceType": "notebook"
  },
  "kernelspec": {
   "display_name": "base",
   "language": "python",
   "name": "python3"
  },
  "language_info": {
   "codemirror_mode": {
    "name": "ipython",
    "version": 3
   },
   "file_extension": ".py",
   "mimetype": "text/x-python",
   "name": "python",
   "nbconvert_exporter": "python",
   "pygments_lexer": "ipython3",
   "version": "3.12.7"
  }
 },
 "nbformat": 4,
 "nbformat_minor": 4
}
